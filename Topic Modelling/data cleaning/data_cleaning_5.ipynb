{
 "cells": [
  {
   "cell_type": "code",
   "execution_count": 2,
   "metadata": {},
   "outputs": [
    {
     "name": "stderr",
     "output_type": "stream",
     "text": [
      "C:\\Users\\Ritik\\anaconda3\\envs\\ritik\\lib\\site-packages\\numpy\\_distributor_init.py:30: UserWarning: loaded more than 1 DLL from .libs:\n",
      "C:\\Users\\Ritik\\anaconda3\\envs\\ritik\\lib\\site-packages\\numpy\\.libs\\libopenblas.4SP5SUA7CBGXUEOC35YP2ASOICYYEQZZ.gfortran-win_amd64.dll\n",
      "C:\\Users\\Ritik\\anaconda3\\envs\\ritik\\lib\\site-packages\\numpy\\.libs\\libopenblas.GK7GX5KEQ4F6UYO3P26ULGBQYHGQO7J4.gfortran-win_amd64.dll\n",
      "  warnings.warn(\"loaded more than 1 DLL from .libs:\"\n"
     ]
    }
   ],
   "source": [
    "import pandas as pd\n",
    "import numpy as np\n",
    "import csv\n",
    "import re\n",
    "import nltk\n",
    "import string\n",
    "import spacy\n",
    "nlp = spacy.load('en_core_web_sm')\n"
   ]
  },
  {
   "cell_type": "code",
   "execution_count": 3,
   "metadata": {},
   "outputs": [],
   "source": [
    "data = pd.read_csv('data_cleaned_4.csv')\n"
   ]
  },
  {
   "cell_type": "code",
   "execution_count": 4,
   "metadata": {},
   "outputs": [
    {
     "data": {
      "text/plain": [
       "Unnamed: 0       0\n",
       "Unnamed: 0.1     0\n",
       "date             0\n",
       "id               0\n",
       "content          0\n",
       "user             0\n",
       "reply_count      0\n",
       "retweet_count    0\n",
       "likecount        0\n",
       "quotecount       0\n",
       "ct               4\n",
       "year             0\n",
       "month            0\n",
       "quarter          0\n",
       "week             0\n",
       "dtype: int64"
      ]
     },
     "execution_count": 4,
     "metadata": {},
     "output_type": "execute_result"
    }
   ],
   "source": [
    "data.isna().sum()"
   ]
  },
  {
   "cell_type": "code",
   "execution_count": 5,
   "metadata": {},
   "outputs": [],
   "source": [
    "data.dropna(inplace=True)"
   ]
  },
  {
   "cell_type": "code",
   "execution_count": 6,
   "metadata": {},
   "outputs": [
    {
     "data": {
      "text/html": [
       "<div>\n",
       "<style scoped>\n",
       "    .dataframe tbody tr th:only-of-type {\n",
       "        vertical-align: middle;\n",
       "    }\n",
       "\n",
       "    .dataframe tbody tr th {\n",
       "        vertical-align: top;\n",
       "    }\n",
       "\n",
       "    .dataframe thead th {\n",
       "        text-align: right;\n",
       "    }\n",
       "</style>\n",
       "<table border=\"1\" class=\"dataframe\">\n",
       "  <thead>\n",
       "    <tr style=\"text-align: right;\">\n",
       "      <th></th>\n",
       "      <th>Unnamed: 0</th>\n",
       "      <th>Unnamed: 0.1</th>\n",
       "      <th>date</th>\n",
       "      <th>id</th>\n",
       "      <th>content</th>\n",
       "      <th>user</th>\n",
       "      <th>reply_count</th>\n",
       "      <th>retweet_count</th>\n",
       "      <th>likecount</th>\n",
       "      <th>quotecount</th>\n",
       "      <th>ct</th>\n",
       "      <th>year</th>\n",
       "      <th>month</th>\n",
       "      <th>quarter</th>\n",
       "      <th>week</th>\n",
       "    </tr>\n",
       "  </thead>\n",
       "  <tbody>\n",
       "    <tr>\n",
       "      <th>0</th>\n",
       "      <td>4297</td>\n",
       "      <td>4298</td>\n",
       "      <td>2020-12-31 20:59:01+00:00</td>\n",
       "      <td>1.344750e+18</td>\n",
       "      <td>5/12\\nMAY\\nWe lost land and we lost men,\\nTo t...</td>\n",
       "      <td>https://twitter.com/Schandillia</td>\n",
       "      <td>1</td>\n",
       "      <td>4</td>\n",
       "      <td>77</td>\n",
       "      <td>0</td>\n",
       "      <td>lose land lose lose ruinous wrath</td>\n",
       "      <td>2020</td>\n",
       "      <td>12</td>\n",
       "      <td>4</td>\n",
       "      <td>53</td>\n",
       "    </tr>\n",
       "    <tr>\n",
       "      <th>1</th>\n",
       "      <td>4298</td>\n",
       "      <td>4299</td>\n",
       "      <td>2020-12-31 20:35:33+00:00</td>\n",
       "      <td>1.344740e+18</td>\n",
       "      <td>The year was a tough one with covid and Amphan...</td>\n",
       "      <td>https://twitter.com/Saibabasevashr1</td>\n",
       "      <td>0</td>\n",
       "      <td>0</td>\n",
       "      <td>0</td>\n",
       "      <td>0</td>\n",
       "      <td>tough wrecking havoc miss single care single l...</td>\n",
       "      <td>2020</td>\n",
       "      <td>12</td>\n",
       "      <td>4</td>\n",
       "      <td>53</td>\n",
       "    </tr>\n",
       "    <tr>\n",
       "      <th>2</th>\n",
       "      <td>4299</td>\n",
       "      <td>4300</td>\n",
       "      <td>2020-12-31 20:21:37+00:00</td>\n",
       "      <td>1.344740e+18</td>\n",
       "      <td>Pandemic.Trump impeachment. Joe Biden.Kamala H...</td>\n",
       "      <td>https://twitter.com/PallabB</td>\n",
       "      <td>0</td>\n",
       "      <td>1</td>\n",
       "      <td>1</td>\n",
       "      <td>0</td>\n",
       "      <td>pandemic trump impeachment kamala harry coast ...</td>\n",
       "      <td>2020</td>\n",
       "      <td>12</td>\n",
       "      <td>4</td>\n",
       "      <td>53</td>\n",
       "    </tr>\n",
       "    <tr>\n",
       "      <th>3</th>\n",
       "      <td>4300</td>\n",
       "      <td>4301</td>\n",
       "      <td>2020-12-31 20:04:16+00:00</td>\n",
       "      <td>1.344740e+18</td>\n",
       "      <td>@sumonseng @ranjona @kavita_krishnan @sagarika...</td>\n",
       "      <td>https://twitter.com/vyasa1968</td>\n",
       "      <td>0</td>\n",
       "      <td>0</td>\n",
       "      <td>0</td>\n",
       "      <td>0</td>\n",
       "      <td>sell pronunciation chauvinism rural afflict mo...</td>\n",
       "      <td>2020</td>\n",
       "      <td>12</td>\n",
       "      <td>4</td>\n",
       "      <td>53</td>\n",
       "    </tr>\n",
       "    <tr>\n",
       "      <th>4</th>\n",
       "      <td>4301</td>\n",
       "      <td>4302</td>\n",
       "      <td>2020-12-31 19:51:25+00:00</td>\n",
       "      <td>1.344730e+18</td>\n",
       "      <td>Diamond Princess, Zoom calls\\nAir strikes in S...</td>\n",
       "      <td>https://twitter.com/KristenPue</td>\n",
       "      <td>1</td>\n",
       "      <td>0</td>\n",
       "      <td>0</td>\n",
       "      <td>0</td>\n",
       "      <td>diamond princess zoom tony henry stock crash m...</td>\n",
       "      <td>2020</td>\n",
       "      <td>12</td>\n",
       "      <td>4</td>\n",
       "      <td>53</td>\n",
       "    </tr>\n",
       "  </tbody>\n",
       "</table>\n",
       "</div>"
      ],
      "text/plain": [
       "   Unnamed: 0  Unnamed: 0.1                       date            id  \\\n",
       "0        4297          4298  2020-12-31 20:59:01+00:00  1.344750e+18   \n",
       "1        4298          4299  2020-12-31 20:35:33+00:00  1.344740e+18   \n",
       "2        4299          4300  2020-12-31 20:21:37+00:00  1.344740e+18   \n",
       "3        4300          4301  2020-12-31 20:04:16+00:00  1.344740e+18   \n",
       "4        4301          4302  2020-12-31 19:51:25+00:00  1.344730e+18   \n",
       "\n",
       "                                             content  \\\n",
       "0  5/12\\nMAY\\nWe lost land and we lost men,\\nTo t...   \n",
       "1  The year was a tough one with covid and Amphan...   \n",
       "2  Pandemic.Trump impeachment. Joe Biden.Kamala H...   \n",
       "3  @sumonseng @ranjona @kavita_krishnan @sagarika...   \n",
       "4  Diamond Princess, Zoom calls\\nAir strikes in S...   \n",
       "\n",
       "                                  user  reply_count  retweet_count  likecount  \\\n",
       "0      https://twitter.com/Schandillia            1              4         77   \n",
       "1  https://twitter.com/Saibabasevashr1            0              0          0   \n",
       "2          https://twitter.com/PallabB            0              1          1   \n",
       "3        https://twitter.com/vyasa1968            0              0          0   \n",
       "4       https://twitter.com/KristenPue            1              0          0   \n",
       "\n",
       "   quotecount                                                 ct  year  month  \\\n",
       "0           0                  lose land lose lose ruinous wrath  2020     12   \n",
       "1           0  tough wrecking havoc miss single care single l...  2020     12   \n",
       "2           0  pandemic trump impeachment kamala harry coast ...  2020     12   \n",
       "3           0  sell pronunciation chauvinism rural afflict mo...  2020     12   \n",
       "4           0  diamond princess zoom tony henry stock crash m...  2020     12   \n",
       "\n",
       "   quarter  week  \n",
       "0        4    53  \n",
       "1        4    53  \n",
       "2        4    53  \n",
       "3        4    53  \n",
       "4        4    53  "
      ]
     },
     "execution_count": 6,
     "metadata": {},
     "output_type": "execute_result"
    }
   ],
   "source": [
    "data.head()"
   ]
  },
  {
   "cell_type": "code",
   "execution_count": 7,
   "metadata": {},
   "outputs": [],
   "source": [
    "data.drop(columns={'Unnamed: 0', 'Unnamed: 0.1',\n",
    "        'user', 'reply_count', 'retweet_count', 'likecount', 'quotecount'}, inplace=True)\n"
   ]
  },
  {
   "cell_type": "code",
   "execution_count": 8,
   "metadata": {},
   "outputs": [
    {
     "data": {
      "text/html": [
       "<div>\n",
       "<style scoped>\n",
       "    .dataframe tbody tr th:only-of-type {\n",
       "        vertical-align: middle;\n",
       "    }\n",
       "\n",
       "    .dataframe tbody tr th {\n",
       "        vertical-align: top;\n",
       "    }\n",
       "\n",
       "    .dataframe thead th {\n",
       "        text-align: right;\n",
       "    }\n",
       "</style>\n",
       "<table border=\"1\" class=\"dataframe\">\n",
       "  <thead>\n",
       "    <tr style=\"text-align: right;\">\n",
       "      <th></th>\n",
       "      <th>date</th>\n",
       "      <th>id</th>\n",
       "      <th>content</th>\n",
       "      <th>ct</th>\n",
       "      <th>year</th>\n",
       "      <th>month</th>\n",
       "      <th>quarter</th>\n",
       "      <th>week</th>\n",
       "    </tr>\n",
       "  </thead>\n",
       "  <tbody>\n",
       "    <tr>\n",
       "      <th>0</th>\n",
       "      <td>2020-12-31 20:59:01+00:00</td>\n",
       "      <td>1.344750e+18</td>\n",
       "      <td>5/12\\nMAY\\nWe lost land and we lost men,\\nTo t...</td>\n",
       "      <td>lose land lose lose ruinous wrath</td>\n",
       "      <td>2020</td>\n",
       "      <td>12</td>\n",
       "      <td>4</td>\n",
       "      <td>53</td>\n",
       "    </tr>\n",
       "    <tr>\n",
       "      <th>1</th>\n",
       "      <td>2020-12-31 20:35:33+00:00</td>\n",
       "      <td>1.344740e+18</td>\n",
       "      <td>The year was a tough one with covid and Amphan...</td>\n",
       "      <td>tough wrecking havoc miss single care single l...</td>\n",
       "      <td>2020</td>\n",
       "      <td>12</td>\n",
       "      <td>4</td>\n",
       "      <td>53</td>\n",
       "    </tr>\n",
       "    <tr>\n",
       "      <th>2</th>\n",
       "      <td>2020-12-31 20:21:37+00:00</td>\n",
       "      <td>1.344740e+18</td>\n",
       "      <td>Pandemic.Trump impeachment. Joe Biden.Kamala H...</td>\n",
       "      <td>pandemic trump impeachment kamala harry coast ...</td>\n",
       "      <td>2020</td>\n",
       "      <td>12</td>\n",
       "      <td>4</td>\n",
       "      <td>53</td>\n",
       "    </tr>\n",
       "    <tr>\n",
       "      <th>3</th>\n",
       "      <td>2020-12-31 20:04:16+00:00</td>\n",
       "      <td>1.344740e+18</td>\n",
       "      <td>@sumonseng @ranjona @kavita_krishnan @sagarika...</td>\n",
       "      <td>sell pronunciation chauvinism rural afflict mo...</td>\n",
       "      <td>2020</td>\n",
       "      <td>12</td>\n",
       "      <td>4</td>\n",
       "      <td>53</td>\n",
       "    </tr>\n",
       "    <tr>\n",
       "      <th>4</th>\n",
       "      <td>2020-12-31 19:51:25+00:00</td>\n",
       "      <td>1.344730e+18</td>\n",
       "      <td>Diamond Princess, Zoom calls\\nAir strikes in S...</td>\n",
       "      <td>diamond princess zoom tony henry stock crash m...</td>\n",
       "      <td>2020</td>\n",
       "      <td>12</td>\n",
       "      <td>4</td>\n",
       "      <td>53</td>\n",
       "    </tr>\n",
       "  </tbody>\n",
       "</table>\n",
       "</div>"
      ],
      "text/plain": [
       "                        date            id  \\\n",
       "0  2020-12-31 20:59:01+00:00  1.344750e+18   \n",
       "1  2020-12-31 20:35:33+00:00  1.344740e+18   \n",
       "2  2020-12-31 20:21:37+00:00  1.344740e+18   \n",
       "3  2020-12-31 20:04:16+00:00  1.344740e+18   \n",
       "4  2020-12-31 19:51:25+00:00  1.344730e+18   \n",
       "\n",
       "                                             content  \\\n",
       "0  5/12\\nMAY\\nWe lost land and we lost men,\\nTo t...   \n",
       "1  The year was a tough one with covid and Amphan...   \n",
       "2  Pandemic.Trump impeachment. Joe Biden.Kamala H...   \n",
       "3  @sumonseng @ranjona @kavita_krishnan @sagarika...   \n",
       "4  Diamond Princess, Zoom calls\\nAir strikes in S...   \n",
       "\n",
       "                                                  ct  year  month  quarter  \\\n",
       "0                  lose land lose lose ruinous wrath  2020     12        4   \n",
       "1  tough wrecking havoc miss single care single l...  2020     12        4   \n",
       "2  pandemic trump impeachment kamala harry coast ...  2020     12        4   \n",
       "3  sell pronunciation chauvinism rural afflict mo...  2020     12        4   \n",
       "4  diamond princess zoom tony henry stock crash m...  2020     12        4   \n",
       "\n",
       "   week  \n",
       "0    53  \n",
       "1    53  \n",
       "2    53  \n",
       "3    53  \n",
       "4    53  "
      ]
     },
     "execution_count": 8,
     "metadata": {},
     "output_type": "execute_result"
    }
   ],
   "source": [
    "data.head()"
   ]
  },
  {
   "cell_type": "code",
   "execution_count": 9,
   "metadata": {},
   "outputs": [],
   "source": [
    "data['date']=data['date'].apply(lambda x: str(x)[0:19])"
   ]
  },
  {
   "cell_type": "code",
   "execution_count": 10,
   "metadata": {},
   "outputs": [
    {
     "data": {
      "text/plain": [
       "0        2020-12-31 20:59:01\n",
       "1        2020-12-31 20:35:33\n",
       "2        2020-12-31 20:21:37\n",
       "3        2020-12-31 20:04:16\n",
       "4        2020-12-31 19:51:25\n",
       "                ...         \n",
       "41120    2020-04-03 05:20:55\n",
       "41121    2020-04-02 13:17:33\n",
       "41122    2020-04-01 07:09:08\n",
       "41123    2020-04-01 07:02:24\n",
       "41124    2020-04-01 06:42:16\n",
       "Name: date, Length: 41121, dtype: object"
      ]
     },
     "execution_count": 10,
     "metadata": {},
     "output_type": "execute_result"
    }
   ],
   "source": [
    "data['date']"
   ]
  },
  {
   "cell_type": "code",
   "execution_count": 11,
   "metadata": {},
   "outputs": [],
   "source": [
    "data['date']=pd.to_datetime(data['date'])"
   ]
  },
  {
   "cell_type": "code",
   "execution_count": 12,
   "metadata": {},
   "outputs": [
    {
     "data": {
      "text/plain": [
       "date       datetime64[ns]\n",
       "id                float64\n",
       "content            object\n",
       "ct                 object\n",
       "year                int64\n",
       "month               int64\n",
       "quarter             int64\n",
       "week                int64\n",
       "dtype: object"
      ]
     },
     "execution_count": 12,
     "metadata": {},
     "output_type": "execute_result"
    }
   ],
   "source": [
    "data.dtypes"
   ]
  },
  {
   "cell_type": "code",
   "execution_count": 13,
   "metadata": {},
   "outputs": [],
   "source": [
    "from collections import OrderedDict\n",
    "data['ct'] = (data['ct'].str.split()\n",
    "                 .apply(lambda x: OrderedDict.fromkeys(x).keys())\n",
    "                 .str.join(' '))\n"
   ]
  },
  {
   "cell_type": "code",
   "execution_count": 14,
   "metadata": {},
   "outputs": [],
   "source": [
    "data.to_csv('Amphan_cleaned.csv',index=False,header=True)"
   ]
  },
  {
   "cell_type": "code",
   "execution_count": 15,
   "metadata": {},
   "outputs": [
    {
     "data": {
      "text/plain": [
       "date       datetime64[ns]\n",
       "id                float64\n",
       "content            object\n",
       "ct                 object\n",
       "year                int64\n",
       "month               int64\n",
       "quarter             int64\n",
       "week                int64\n",
       "dtype: object"
      ]
     },
     "execution_count": 15,
     "metadata": {},
     "output_type": "execute_result"
    }
   ],
   "source": [
    "data.dtypes"
   ]
  },
  {
   "cell_type": "code",
   "execution_count": null,
   "metadata": {},
   "outputs": [],
   "source": []
  }
 ],
 "metadata": {
  "interpreter": {
   "hash": "b23d3cead37edbd0c07e36166ad3371bfa7951439341047af86c5256c98ea9fd"
  },
  "kernelspec": {
   "display_name": "Python 3.8.11 64-bit ('ritik': conda)",
   "name": "python3"
  },
  "language_info": {
   "codemirror_mode": {
    "name": "ipython",
    "version": 3
   },
   "file_extension": ".py",
   "mimetype": "text/x-python",
   "name": "python",
   "nbconvert_exporter": "python",
   "pygments_lexer": "ipython3",
   "version": "3.8.11"
  },
  "orig_nbformat": 4
 },
 "nbformat": 4,
 "nbformat_minor": 2
}
