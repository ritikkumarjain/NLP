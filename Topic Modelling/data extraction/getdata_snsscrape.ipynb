{
 "cells": [
  {
   "cell_type": "code",
   "execution_count": 1,
   "metadata": {},
   "outputs": [],
   "source": [
    "import snscrape\n",
    "import snscrape.modules.twitter as sntwitter\n",
    "import pandas as pd\n",
    "import itertools"
   ]
  },
  {
   "cell_type": "markdown",
   "metadata": {},
   "source": [
    "# AMPHAN"
   ]
  },
  {
   "cell_type": "code",
   "execution_count": 7,
   "metadata": {},
   "outputs": [],
   "source": [
    "tweets_list= []\n",
    "\n",
    "# Using TwitterSearchScraper to scrape data and append tweets to list\n",
    "# for i, tweet in enumerate(sntwitter.TwitterSearchScraper('cylone since:2021-01-01 until:2021-10-31','india').get_items()):\n",
    "for i, tweet in enumerate(sntwitter.TwitterSearchScraper('Amphan').get_items()):\n",
    "    if i > 200000:\n",
    "        break\n",
    "    tweets_list.append(\n",
    "        [tweet.date, tweet.id, tweet.content, tweet.user,tweet.replyCount,tweet.retweetCount,tweet.likeCount,tweet.quoteCount])\n"
   ]
  },
  {
   "cell_type": "code",
   "execution_count": 10,
   "metadata": {},
   "outputs": [],
   "source": [
    "tweets_df = pd.DataFrame(tweets_list, columns=[tweet.date, tweet.id, tweet.content, tweet.user, tweet.replyCount, tweet.retweetCount, tweet.likeCount, tweet.quoteCount])\n"
   ]
  },
  {
   "cell_type": "code",
   "execution_count": 11,
   "metadata": {},
   "outputs": [
    {
     "data": {
      "text/plain": [
       "(134298, 8)"
      ]
     },
     "execution_count": 11,
     "metadata": {},
     "output_type": "execute_result"
    }
   ],
   "source": [
    "tweets_df.shape"
   ]
  },
  {
   "cell_type": "code",
   "execution_count": 12,
   "metadata": {},
   "outputs": [],
   "source": [
    "tweets_df.to_csv('Amphan data.csv',index=False,header=True)"
   ]
  },
  {
   "cell_type": "code",
   "execution_count": null,
   "metadata": {},
   "outputs": [],
   "source": []
  },
  {
   "cell_type": "code",
   "execution_count": null,
   "metadata": {},
   "outputs": [],
   "source": []
  },
  {
   "cell_type": "markdown",
   "metadata": {},
   "source": [
    "# TAUKTAE"
   ]
  },
  {
   "cell_type": "code",
   "execution_count": 5,
   "metadata": {},
   "outputs": [],
   "source": [
    "tweets_list= []\n",
    "\n",
    "# Using TwitterSearchScraper to scrape data and append tweets to list\n",
    "# for i, tweet in enumerate(sntwitter.TwitterSearchScraper('cylone since:2021-01-01 until:2021-10-31','india').get_items()):\n",
    "for i, tweet in enumerate(sntwitter.TwitterSearchScraper('bangalore flood').get_items()):\n",
    "    if i > 56000:\n",
    "        break\n",
    "    tweets_list.append(\n",
    "        [tweet.date, tweet.id, tweet.content, tweet.user,tweet.replyCount,tweet.retweetCount,tweet.likeCount,tweet.quoteCount])\n"
   ]
  },
  {
   "cell_type": "code",
   "execution_count": 3,
   "metadata": {},
   "outputs": [],
   "source": [
    "tweets = pd.DataFrame(tweets_list, columns=[tweet.date, tweet.id, tweet.content, tweet.user, tweet.replyCount, tweet.retweetCount, tweet.likeCount, tweet.quoteCount])\n"
   ]
  },
  {
   "cell_type": "code",
   "execution_count": 4,
   "metadata": {},
   "outputs": [
    {
     "data": {
      "text/plain": [
       "(43, 8)"
      ]
     },
     "execution_count": 4,
     "metadata": {},
     "output_type": "execute_result"
    }
   ],
   "source": [
    "tweets.shape"
   ]
  },
  {
   "cell_type": "code",
   "execution_count": 5,
   "metadata": {},
   "outputs": [],
   "source": [
    "tweets.to_csv('Tauktae data.csv',index=False,header=True)"
   ]
  },
  {
   "cell_type": "code",
   "execution_count": null,
   "metadata": {},
   "outputs": [],
   "source": []
  },
  {
   "cell_type": "code",
   "execution_count": null,
   "metadata": {},
   "outputs": [],
   "source": []
  },
  {
   "cell_type": "code",
   "execution_count": null,
   "metadata": {},
   "outputs": [],
   "source": []
  },
  {
   "cell_type": "code",
   "execution_count": null,
   "metadata": {},
   "outputs": [],
   "source": []
  }
 ],
 "metadata": {
  "interpreter": {
   "hash": "b23d3cead37edbd0c07e36166ad3371bfa7951439341047af86c5256c98ea9fd"
  },
  "kernelspec": {
   "display_name": "Python 3.8.11 64-bit ('ritik': conda)",
   "name": "python3"
  },
  "language_info": {
   "codemirror_mode": {
    "name": "ipython",
    "version": 3
   },
   "file_extension": ".py",
   "mimetype": "text/x-python",
   "name": "python",
   "nbconvert_exporter": "python",
   "pygments_lexer": "ipython3",
   "version": "3.8.11"
  },
  "orig_nbformat": 4
 },
 "nbformat": 4,
 "nbformat_minor": 2
}
