{
 "cells": [
  {
   "cell_type": "code",
   "execution_count": 2,
   "source": [
    "import numpy as np\r\n",
    "import pandas as pd\r\n",
    "import matplotlib.pyplot as plt\r\n",
    "from nltk.tokenize import word_tokenize\r\n",
    "from wordcloud import STOPWORDS\r\n",
    "import nltk\r\n",
    "import string"
   ],
   "outputs": [],
   "metadata": {
    "_cell_guid": "b1076dfc-b9ad-4769-8c92-a6c4dae69d19",
    "_kg_hide-input": true,
    "_uuid": "8f2839f25d086af736a60e9eeb907d3b93b6e0e5",
    "execution": {
     "iopub.execute_input": "2021-02-25T12:16:34.980324Z",
     "iopub.status.busy": "2021-02-25T12:16:34.979574Z",
     "iopub.status.idle": "2021-02-25T12:16:36.609828Z",
     "shell.execute_reply": "2021-02-25T12:16:36.609006Z"
    },
    "papermill": {
     "duration": 1.673105,
     "end_time": "2021-02-25T12:16:36.610035",
     "exception": false,
     "start_time": "2021-02-25T12:16:34.936930",
     "status": "completed"
    },
    "tags": []
   }
  },
  {
   "cell_type": "code",
   "execution_count": 4,
   "source": [
    "fake = pd.read_csv('Fake.csv')\r\n",
    "news = pd.read_csv('True.csv')"
   ],
   "outputs": [],
   "metadata": {
    "execution": {
     "iopub.execute_input": "2021-02-25T12:16:36.767465Z",
     "iopub.status.busy": "2021-02-25T12:16:36.766827Z",
     "iopub.status.idle": "2021-02-25T12:16:39.987940Z",
     "shell.execute_reply": "2021-02-25T12:16:39.988478Z"
    },
    "papermill": {
     "duration": 3.268249,
     "end_time": "2021-02-25T12:16:39.988686",
     "exception": false,
     "start_time": "2021-02-25T12:16:36.720437",
     "status": "completed"
    },
    "tags": []
   }
  },
  {
   "cell_type": "markdown",
   "source": [
    "## Let's take a look at Real News"
   ],
   "metadata": {
    "papermill": {
     "duration": 0.039452,
     "end_time": "2021-02-25T12:16:40.067807",
     "exception": false,
     "start_time": "2021-02-25T12:16:40.028355",
     "status": "completed"
    },
    "tags": []
   }
  },
  {
   "cell_type": "code",
   "execution_count": 5,
   "source": [
    "news"
   ],
   "outputs": [
    {
     "output_type": "execute_result",
     "data": {
      "text/plain": [
       "                                                   title  \\\n",
       "0      As U.S. budget fight looms, Republicans flip t...   \n",
       "1      U.S. military to accept transgender recruits o...   \n",
       "2      Senior U.S. Republican senator: 'Let Mr. Muell...   \n",
       "3      FBI Russia probe helped by Australian diplomat...   \n",
       "4      Trump wants Postal Service to charge 'much mor...   \n",
       "...                                                  ...   \n",
       "21412  'Fully committed' NATO backs new U.S. approach...   \n",
       "21413  LexisNexis withdrew two products from Chinese ...   \n",
       "21414  Minsk cultural hub becomes haven from authorities   \n",
       "21415  Vatican upbeat on possibility of Pope Francis ...   \n",
       "21416  Indonesia to buy $1.14 billion worth of Russia...   \n",
       "\n",
       "                                                    text       subject  \\\n",
       "0      WASHINGTON (Reuters) - The head of a conservat...  politicsNews   \n",
       "1      WASHINGTON (Reuters) - Transgender people will...  politicsNews   \n",
       "2      WASHINGTON (Reuters) - The special counsel inv...  politicsNews   \n",
       "3      WASHINGTON (Reuters) - Trump campaign adviser ...  politicsNews   \n",
       "4      SEATTLE/WASHINGTON (Reuters) - President Donal...  politicsNews   \n",
       "...                                                  ...           ...   \n",
       "21412  BRUSSELS (Reuters) - NATO allies on Tuesday we...     worldnews   \n",
       "21413  LONDON (Reuters) - LexisNexis, a provider of l...     worldnews   \n",
       "21414  MINSK (Reuters) - In the shadow of disused Sov...     worldnews   \n",
       "21415  MOSCOW (Reuters) - Vatican Secretary of State ...     worldnews   \n",
       "21416  JAKARTA (Reuters) - Indonesia will buy 11 Sukh...     worldnews   \n",
       "\n",
       "                     date  \n",
       "0      December 31, 2017   \n",
       "1      December 29, 2017   \n",
       "2      December 31, 2017   \n",
       "3      December 30, 2017   \n",
       "4      December 29, 2017   \n",
       "...                   ...  \n",
       "21412    August 22, 2017   \n",
       "21413    August 22, 2017   \n",
       "21414    August 22, 2017   \n",
       "21415    August 22, 2017   \n",
       "21416    August 22, 2017   \n",
       "\n",
       "[21417 rows x 4 columns]"
      ],
      "text/html": [
       "<div>\n",
       "<style scoped>\n",
       "    .dataframe tbody tr th:only-of-type {\n",
       "        vertical-align: middle;\n",
       "    }\n",
       "\n",
       "    .dataframe tbody tr th {\n",
       "        vertical-align: top;\n",
       "    }\n",
       "\n",
       "    .dataframe thead th {\n",
       "        text-align: right;\n",
       "    }\n",
       "</style>\n",
       "<table border=\"1\" class=\"dataframe\">\n",
       "  <thead>\n",
       "    <tr style=\"text-align: right;\">\n",
       "      <th></th>\n",
       "      <th>title</th>\n",
       "      <th>text</th>\n",
       "      <th>subject</th>\n",
       "      <th>date</th>\n",
       "    </tr>\n",
       "  </thead>\n",
       "  <tbody>\n",
       "    <tr>\n",
       "      <th>0</th>\n",
       "      <td>As U.S. budget fight looms, Republicans flip t...</td>\n",
       "      <td>WASHINGTON (Reuters) - The head of a conservat...</td>\n",
       "      <td>politicsNews</td>\n",
       "      <td>December 31, 2017</td>\n",
       "    </tr>\n",
       "    <tr>\n",
       "      <th>1</th>\n",
       "      <td>U.S. military to accept transgender recruits o...</td>\n",
       "      <td>WASHINGTON (Reuters) - Transgender people will...</td>\n",
       "      <td>politicsNews</td>\n",
       "      <td>December 29, 2017</td>\n",
       "    </tr>\n",
       "    <tr>\n",
       "      <th>2</th>\n",
       "      <td>Senior U.S. Republican senator: 'Let Mr. Muell...</td>\n",
       "      <td>WASHINGTON (Reuters) - The special counsel inv...</td>\n",
       "      <td>politicsNews</td>\n",
       "      <td>December 31, 2017</td>\n",
       "    </tr>\n",
       "    <tr>\n",
       "      <th>3</th>\n",
       "      <td>FBI Russia probe helped by Australian diplomat...</td>\n",
       "      <td>WASHINGTON (Reuters) - Trump campaign adviser ...</td>\n",
       "      <td>politicsNews</td>\n",
       "      <td>December 30, 2017</td>\n",
       "    </tr>\n",
       "    <tr>\n",
       "      <th>4</th>\n",
       "      <td>Trump wants Postal Service to charge 'much mor...</td>\n",
       "      <td>SEATTLE/WASHINGTON (Reuters) - President Donal...</td>\n",
       "      <td>politicsNews</td>\n",
       "      <td>December 29, 2017</td>\n",
       "    </tr>\n",
       "    <tr>\n",
       "      <th>...</th>\n",
       "      <td>...</td>\n",
       "      <td>...</td>\n",
       "      <td>...</td>\n",
       "      <td>...</td>\n",
       "    </tr>\n",
       "    <tr>\n",
       "      <th>21412</th>\n",
       "      <td>'Fully committed' NATO backs new U.S. approach...</td>\n",
       "      <td>BRUSSELS (Reuters) - NATO allies on Tuesday we...</td>\n",
       "      <td>worldnews</td>\n",
       "      <td>August 22, 2017</td>\n",
       "    </tr>\n",
       "    <tr>\n",
       "      <th>21413</th>\n",
       "      <td>LexisNexis withdrew two products from Chinese ...</td>\n",
       "      <td>LONDON (Reuters) - LexisNexis, a provider of l...</td>\n",
       "      <td>worldnews</td>\n",
       "      <td>August 22, 2017</td>\n",
       "    </tr>\n",
       "    <tr>\n",
       "      <th>21414</th>\n",
       "      <td>Minsk cultural hub becomes haven from authorities</td>\n",
       "      <td>MINSK (Reuters) - In the shadow of disused Sov...</td>\n",
       "      <td>worldnews</td>\n",
       "      <td>August 22, 2017</td>\n",
       "    </tr>\n",
       "    <tr>\n",
       "      <th>21415</th>\n",
       "      <td>Vatican upbeat on possibility of Pope Francis ...</td>\n",
       "      <td>MOSCOW (Reuters) - Vatican Secretary of State ...</td>\n",
       "      <td>worldnews</td>\n",
       "      <td>August 22, 2017</td>\n",
       "    </tr>\n",
       "    <tr>\n",
       "      <th>21416</th>\n",
       "      <td>Indonesia to buy $1.14 billion worth of Russia...</td>\n",
       "      <td>JAKARTA (Reuters) - Indonesia will buy 11 Sukh...</td>\n",
       "      <td>worldnews</td>\n",
       "      <td>August 22, 2017</td>\n",
       "    </tr>\n",
       "  </tbody>\n",
       "</table>\n",
       "<p>21417 rows × 4 columns</p>\n",
       "</div>"
      ]
     },
     "metadata": {},
     "execution_count": 5
    }
   ],
   "metadata": {
    "execution": {
     "iopub.execute_input": "2021-02-25T12:16:40.146677Z",
     "iopub.status.busy": "2021-02-25T12:16:40.146033Z",
     "iopub.status.idle": "2021-02-25T12:16:40.179740Z",
     "shell.execute_reply": "2021-02-25T12:16:40.179112Z"
    },
    "papermill": {
     "duration": 0.074184,
     "end_time": "2021-02-25T12:16:40.179887",
     "exception": false,
     "start_time": "2021-02-25T12:16:40.105703",
     "status": "completed"
    },
    "tags": []
   }
  },
  {
   "cell_type": "code",
   "execution_count": 6,
   "source": [
    "news.isna().sum()"
   ],
   "outputs": [
    {
     "output_type": "execute_result",
     "data": {
      "text/plain": [
       "title      0\n",
       "text       0\n",
       "subject    0\n",
       "date       0\n",
       "dtype: int64"
      ]
     },
     "metadata": {},
     "execution_count": 6
    }
   ],
   "metadata": {
    "execution": {
     "iopub.execute_input": "2021-02-25T12:16:40.346626Z",
     "iopub.status.busy": "2021-02-25T12:16:40.345642Z",
     "iopub.status.idle": "2021-02-25T12:16:40.354452Z",
     "shell.execute_reply": "2021-02-25T12:16:40.353893Z"
    },
    "papermill": {
     "duration": 0.060991,
     "end_time": "2021-02-25T12:16:40.354590",
     "exception": false,
     "start_time": "2021-02-25T12:16:40.293599",
     "status": "completed"
    },
    "tags": []
   }
  },
  {
   "cell_type": "code",
   "execution_count": 7,
   "source": [
    "news['subject'].value_counts()"
   ],
   "outputs": [
    {
     "output_type": "execute_result",
     "data": {
      "text/plain": [
       "politicsNews    11272\n",
       "worldnews       10145\n",
       "Name: subject, dtype: int64"
      ]
     },
     "metadata": {},
     "execution_count": 7
    }
   ],
   "metadata": {
    "execution": {
     "iopub.execute_input": "2021-02-25T12:16:40.597991Z",
     "iopub.status.busy": "2021-02-25T12:16:40.597031Z",
     "iopub.status.idle": "2021-02-25T12:16:40.602200Z",
     "shell.execute_reply": "2021-02-25T12:16:40.601593Z"
    },
    "papermill": {
     "duration": 0.05647,
     "end_time": "2021-02-25T12:16:40.602334",
     "exception": false,
     "start_time": "2021-02-25T12:16:40.545864",
     "status": "completed"
    },
    "tags": []
   }
  },
  {
   "cell_type": "markdown",
   "source": [
    "## Let's take a look at Fake News"
   ],
   "metadata": {
    "papermill": {
     "duration": 0.038336,
     "end_time": "2021-02-25T12:16:40.679481",
     "exception": false,
     "start_time": "2021-02-25T12:16:40.641145",
     "status": "completed"
    },
    "tags": []
   }
  },
  {
   "cell_type": "code",
   "execution_count": 8,
   "source": [
    "fake"
   ],
   "outputs": [
    {
     "output_type": "execute_result",
     "data": {
      "text/plain": [
       "                                                   title  \\\n",
       "0       Donald Trump Sends Out Embarrassing New Year’...   \n",
       "1       Drunk Bragging Trump Staffer Started Russian ...   \n",
       "2       Sheriff David Clarke Becomes An Internet Joke...   \n",
       "3       Trump Is So Obsessed He Even Has Obama’s Name...   \n",
       "4       Pope Francis Just Called Out Donald Trump Dur...   \n",
       "...                                                  ...   \n",
       "23476  McPain: John McCain Furious That Iran Treated ...   \n",
       "23477  JUSTICE? Yahoo Settles E-mail Privacy Class-ac...   \n",
       "23478  Sunnistan: US and Allied ‘Safe Zone’ Plan to T...   \n",
       "23479  How to Blow $700 Million: Al Jazeera America F...   \n",
       "23480  10 U.S. Navy Sailors Held by Iranian Military ...   \n",
       "\n",
       "                                                    text      subject  \\\n",
       "0      Donald Trump just couldn t wish all Americans ...         News   \n",
       "1      House Intelligence Committee Chairman Devin Nu...         News   \n",
       "2      On Friday, it was revealed that former Milwauk...         News   \n",
       "3      On Christmas day, Donald Trump announced that ...         News   \n",
       "4      Pope Francis used his annual Christmas Day mes...         News   \n",
       "...                                                  ...          ...   \n",
       "23476  21st Century Wire says As 21WIRE reported earl...  Middle-east   \n",
       "23477  21st Century Wire says It s a familiar theme. ...  Middle-east   \n",
       "23478  Patrick Henningsen  21st Century WireRemember ...  Middle-east   \n",
       "23479  21st Century Wire says Al Jazeera America will...  Middle-east   \n",
       "23480  21st Century Wire says As 21WIRE predicted in ...  Middle-east   \n",
       "\n",
       "                    date  \n",
       "0      December 31, 2017  \n",
       "1      December 31, 2017  \n",
       "2      December 30, 2017  \n",
       "3      December 29, 2017  \n",
       "4      December 25, 2017  \n",
       "...                  ...  \n",
       "23476   January 16, 2016  \n",
       "23477   January 16, 2016  \n",
       "23478   January 15, 2016  \n",
       "23479   January 14, 2016  \n",
       "23480   January 12, 2016  \n",
       "\n",
       "[23481 rows x 4 columns]"
      ],
      "text/html": [
       "<div>\n",
       "<style scoped>\n",
       "    .dataframe tbody tr th:only-of-type {\n",
       "        vertical-align: middle;\n",
       "    }\n",
       "\n",
       "    .dataframe tbody tr th {\n",
       "        vertical-align: top;\n",
       "    }\n",
       "\n",
       "    .dataframe thead th {\n",
       "        text-align: right;\n",
       "    }\n",
       "</style>\n",
       "<table border=\"1\" class=\"dataframe\">\n",
       "  <thead>\n",
       "    <tr style=\"text-align: right;\">\n",
       "      <th></th>\n",
       "      <th>title</th>\n",
       "      <th>text</th>\n",
       "      <th>subject</th>\n",
       "      <th>date</th>\n",
       "    </tr>\n",
       "  </thead>\n",
       "  <tbody>\n",
       "    <tr>\n",
       "      <th>0</th>\n",
       "      <td>Donald Trump Sends Out Embarrassing New Year’...</td>\n",
       "      <td>Donald Trump just couldn t wish all Americans ...</td>\n",
       "      <td>News</td>\n",
       "      <td>December 31, 2017</td>\n",
       "    </tr>\n",
       "    <tr>\n",
       "      <th>1</th>\n",
       "      <td>Drunk Bragging Trump Staffer Started Russian ...</td>\n",
       "      <td>House Intelligence Committee Chairman Devin Nu...</td>\n",
       "      <td>News</td>\n",
       "      <td>December 31, 2017</td>\n",
       "    </tr>\n",
       "    <tr>\n",
       "      <th>2</th>\n",
       "      <td>Sheriff David Clarke Becomes An Internet Joke...</td>\n",
       "      <td>On Friday, it was revealed that former Milwauk...</td>\n",
       "      <td>News</td>\n",
       "      <td>December 30, 2017</td>\n",
       "    </tr>\n",
       "    <tr>\n",
       "      <th>3</th>\n",
       "      <td>Trump Is So Obsessed He Even Has Obama’s Name...</td>\n",
       "      <td>On Christmas day, Donald Trump announced that ...</td>\n",
       "      <td>News</td>\n",
       "      <td>December 29, 2017</td>\n",
       "    </tr>\n",
       "    <tr>\n",
       "      <th>4</th>\n",
       "      <td>Pope Francis Just Called Out Donald Trump Dur...</td>\n",
       "      <td>Pope Francis used his annual Christmas Day mes...</td>\n",
       "      <td>News</td>\n",
       "      <td>December 25, 2017</td>\n",
       "    </tr>\n",
       "    <tr>\n",
       "      <th>...</th>\n",
       "      <td>...</td>\n",
       "      <td>...</td>\n",
       "      <td>...</td>\n",
       "      <td>...</td>\n",
       "    </tr>\n",
       "    <tr>\n",
       "      <th>23476</th>\n",
       "      <td>McPain: John McCain Furious That Iran Treated ...</td>\n",
       "      <td>21st Century Wire says As 21WIRE reported earl...</td>\n",
       "      <td>Middle-east</td>\n",
       "      <td>January 16, 2016</td>\n",
       "    </tr>\n",
       "    <tr>\n",
       "      <th>23477</th>\n",
       "      <td>JUSTICE? Yahoo Settles E-mail Privacy Class-ac...</td>\n",
       "      <td>21st Century Wire says It s a familiar theme. ...</td>\n",
       "      <td>Middle-east</td>\n",
       "      <td>January 16, 2016</td>\n",
       "    </tr>\n",
       "    <tr>\n",
       "      <th>23478</th>\n",
       "      <td>Sunnistan: US and Allied ‘Safe Zone’ Plan to T...</td>\n",
       "      <td>Patrick Henningsen  21st Century WireRemember ...</td>\n",
       "      <td>Middle-east</td>\n",
       "      <td>January 15, 2016</td>\n",
       "    </tr>\n",
       "    <tr>\n",
       "      <th>23479</th>\n",
       "      <td>How to Blow $700 Million: Al Jazeera America F...</td>\n",
       "      <td>21st Century Wire says Al Jazeera America will...</td>\n",
       "      <td>Middle-east</td>\n",
       "      <td>January 14, 2016</td>\n",
       "    </tr>\n",
       "    <tr>\n",
       "      <th>23480</th>\n",
       "      <td>10 U.S. Navy Sailors Held by Iranian Military ...</td>\n",
       "      <td>21st Century Wire says As 21WIRE predicted in ...</td>\n",
       "      <td>Middle-east</td>\n",
       "      <td>January 12, 2016</td>\n",
       "    </tr>\n",
       "  </tbody>\n",
       "</table>\n",
       "<p>23481 rows × 4 columns</p>\n",
       "</div>"
      ]
     },
     "metadata": {},
     "execution_count": 8
    }
   ],
   "metadata": {
    "execution": {
     "iopub.execute_input": "2021-02-25T12:16:40.771272Z",
     "iopub.status.busy": "2021-02-25T12:16:40.770271Z",
     "iopub.status.idle": "2021-02-25T12:16:40.775280Z",
     "shell.execute_reply": "2021-02-25T12:16:40.774765Z"
    },
    "papermill": {
     "duration": 0.057502,
     "end_time": "2021-02-25T12:16:40.775434",
     "exception": false,
     "start_time": "2021-02-25T12:16:40.717932",
     "status": "completed"
    },
    "tags": []
   }
  },
  {
   "cell_type": "code",
   "execution_count": 9,
   "source": [
    "fake.isna().sum()"
   ],
   "outputs": [
    {
     "output_type": "execute_result",
     "data": {
      "text/plain": [
       "title      0\n",
       "text       0\n",
       "subject    0\n",
       "date       0\n",
       "dtype: int64"
      ]
     },
     "metadata": {},
     "execution_count": 9
    }
   ],
   "metadata": {
    "execution": {
     "iopub.execute_input": "2021-02-25T12:16:40.951557Z",
     "iopub.status.busy": "2021-02-25T12:16:40.949028Z",
     "iopub.status.idle": "2021-02-25T12:16:40.956360Z",
     "shell.execute_reply": "2021-02-25T12:16:40.955812Z"
    },
    "papermill": {
     "duration": 0.062732,
     "end_time": "2021-02-25T12:16:40.956526",
     "exception": false,
     "start_time": "2021-02-25T12:16:40.893794",
     "status": "completed"
    },
    "tags": []
   }
  },
  {
   "cell_type": "code",
   "execution_count": 10,
   "source": [
    "fake['subject'].value_counts()"
   ],
   "outputs": [
    {
     "output_type": "execute_result",
     "data": {
      "text/plain": [
       "News               9050\n",
       "politics           6841\n",
       "left-news          4459\n",
       "Government News    1570\n",
       "US_News             783\n",
       "Middle-east         778\n",
       "Name: subject, dtype: int64"
      ]
     },
     "metadata": {},
     "execution_count": 10
    }
   ],
   "metadata": {
    "execution": {
     "iopub.execute_input": "2021-02-25T12:16:41.208849Z",
     "iopub.status.busy": "2021-02-25T12:16:41.206555Z",
     "iopub.status.idle": "2021-02-25T12:16:41.213090Z",
     "shell.execute_reply": "2021-02-25T12:16:41.213587Z"
    },
    "papermill": {
     "duration": 0.056708,
     "end_time": "2021-02-25T12:16:41.213762",
     "exception": false,
     "start_time": "2021-02-25T12:16:41.157054",
     "status": "completed"
    },
    "tags": []
   }
  },
  {
   "cell_type": "code",
   "execution_count": 11,
   "source": [
    "news['is_fake'] = 0 # contains only news\r\n",
    "fake['is_fake'] = 1 # contains only fakes\r\n",
    "\r\n",
    "data = pd.concat([news, fake])\r\n",
    "data = data.reset_index()\r\n",
    "\r\n",
    "data = data.sample(frac=1)"
   ],
   "outputs": [],
   "metadata": {
    "execution": {
     "iopub.execute_input": "2021-02-25T12:16:41.384027Z",
     "iopub.status.busy": "2021-02-25T12:16:41.383243Z",
     "iopub.status.idle": "2021-02-25T12:16:41.408025Z",
     "shell.execute_reply": "2021-02-25T12:16:41.407456Z"
    },
    "papermill": {
     "duration": 0.072209,
     "end_time": "2021-02-25T12:16:41.408162",
     "exception": false,
     "start_time": "2021-02-25T12:16:41.335953",
     "status": "completed"
    },
    "tags": []
   }
  },
  {
   "cell_type": "code",
   "execution_count": 12,
   "source": [
    "data.duplicated().sum()"
   ],
   "outputs": [
    {
     "output_type": "execute_result",
     "data": {
      "text/plain": [
       "0"
      ]
     },
     "metadata": {},
     "execution_count": 12
    }
   ],
   "metadata": {
    "execution": {
     "iopub.execute_input": "2021-02-25T12:16:41.581608Z",
     "iopub.status.busy": "2021-02-25T12:16:41.580976Z",
     "iopub.status.idle": "2021-02-25T12:16:41.953408Z",
     "shell.execute_reply": "2021-02-25T12:16:41.952833Z"
    },
    "papermill": {
     "duration": 0.420379,
     "end_time": "2021-02-25T12:16:41.953608",
     "exception": false,
     "start_time": "2021-02-25T12:16:41.533229",
     "status": "completed"
    },
    "tags": []
   }
  },
  {
   "cell_type": "code",
   "execution_count": 13,
   "source": [
    "#ignoring dates and subjects because they are disjoints\r\n",
    "data = data.drop(['date', 'subject'], axis=1)\r\n"
   ],
   "outputs": [],
   "metadata": {
    "execution": {
     "iopub.execute_input": "2021-02-25T12:16:42.129553Z",
     "iopub.status.busy": "2021-02-25T12:16:42.124821Z",
     "iopub.status.idle": "2021-02-25T12:16:42.132539Z",
     "shell.execute_reply": "2021-02-25T12:16:42.132023Z"
    },
    "papermill": {
     "duration": 0.055157,
     "end_time": "2021-02-25T12:16:42.132690",
     "exception": false,
     "start_time": "2021-02-25T12:16:42.077533",
     "status": "completed"
    },
    "tags": []
   }
  },
  {
   "cell_type": "code",
   "execution_count": 14,
   "source": [
    "from sklearn.model_selection import train_test_split\r\n",
    "train, test = train_test_split(data, test_size=0.2, random_state=42)\r\n",
    "X_train = train.drop('is_fake', axis=1)\r\n",
    "y_train = train['is_fake']\r\n",
    "X_test = test.drop('is_fake', axis=1)\r\n",
    "y_test = test['is_fake']"
   ],
   "outputs": [],
   "metadata": {
    "execution": {
     "iopub.execute_input": "2021-02-25T12:16:42.300820Z",
     "iopub.status.busy": "2021-02-25T12:16:42.300203Z",
     "iopub.status.idle": "2021-02-25T12:16:42.318252Z",
     "shell.execute_reply": "2021-02-25T12:16:42.318739Z"
    },
    "papermill": {
     "duration": 0.062832,
     "end_time": "2021-02-25T12:16:42.318921",
     "exception": false,
     "start_time": "2021-02-25T12:16:42.256089",
     "status": "completed"
    },
    "tags": []
   }
  },
  {
   "cell_type": "code",
   "execution_count": 15,
   "source": [
    "y_train.value_counts()"
   ],
   "outputs": [
    {
     "output_type": "execute_result",
     "data": {
      "text/plain": [
       "1    18800\n",
       "0    17118\n",
       "Name: is_fake, dtype: int64"
      ]
     },
     "metadata": {},
     "execution_count": 15
    }
   ],
   "metadata": {
    "execution": {
     "iopub.execute_input": "2021-02-25T12:16:42.487607Z",
     "iopub.status.busy": "2021-02-25T12:16:42.486951Z",
     "iopub.status.idle": "2021-02-25T12:16:42.494158Z",
     "shell.execute_reply": "2021-02-25T12:16:42.494633Z"
    },
    "papermill": {
     "duration": 0.052254,
     "end_time": "2021-02-25T12:16:42.494806",
     "exception": false,
     "start_time": "2021-02-25T12:16:42.442552",
     "status": "completed"
    },
    "tags": []
   }
  },
  {
   "cell_type": "code",
   "execution_count": 16,
   "source": [
    "y_test.value_counts()"
   ],
   "outputs": [
    {
     "output_type": "execute_result",
     "data": {
      "text/plain": [
       "1    4681\n",
       "0    4299\n",
       "Name: is_fake, dtype: int64"
      ]
     },
     "metadata": {},
     "execution_count": 16
    }
   ],
   "metadata": {
    "execution": {
     "iopub.execute_input": "2021-02-25T12:16:42.583937Z",
     "iopub.status.busy": "2021-02-25T12:16:42.583000Z",
     "iopub.status.idle": "2021-02-25T12:16:42.588486Z",
     "shell.execute_reply": "2021-02-25T12:16:42.588976Z"
    },
    "papermill": {
     "duration": 0.052413,
     "end_time": "2021-02-25T12:16:42.589140",
     "exception": false,
     "start_time": "2021-02-25T12:16:42.536727",
     "status": "completed"
    },
    "tags": []
   }
  },
  {
   "cell_type": "code",
   "execution_count": 17,
   "source": [
    "train_news = X_train.loc[(y_train==0),:]\r\n",
    "train_fake = X_train.loc[(y_train==1),:]"
   ],
   "outputs": [],
   "metadata": {
    "execution": {
     "iopub.execute_input": "2021-02-25T12:16:42.761267Z",
     "iopub.status.busy": "2021-02-25T12:16:42.760341Z",
     "iopub.status.idle": "2021-02-25T12:16:42.789587Z",
     "shell.execute_reply": "2021-02-25T12:16:42.788969Z"
    },
    "papermill": {
     "duration": 0.074287,
     "end_time": "2021-02-25T12:16:42.789725",
     "exception": false,
     "start_time": "2021-02-25T12:16:42.715438",
     "status": "completed"
    },
    "tags": []
   }
  },
  {
   "cell_type": "markdown",
   "source": [
    "## Lexical Diversity of Fake News\r\n",
    "To find unique vocabulary used in Fake News articles.\r\n",
    "\r\n",
    "The lexical diversity measure are $\\frac{\\text{number of unique words in one (target)category}}{\\text{number of words in both (target)categories}}$"
   ],
   "metadata": {
    "papermill": {
     "duration": 0.042489,
     "end_time": "2021-02-25T12:16:42.874945",
     "exception": false,
     "start_time": "2021-02-25T12:16:42.832456",
     "status": "completed"
    },
    "tags": []
   }
  },
  {
   "cell_type": "code",
   "execution_count": 18,
   "source": [
    "def lexical_diversity(data, other_data, feature):\r\n",
    "    # ignoare capital letters\r\n",
    "    column = data[feature].str.lower() \r\n",
    "    # create one text from the column\r\n",
    "    text = ' '.join(column)\r\n",
    "    # drop punctuation\r\n",
    "    exclude = set(string.punctuation)\r\n",
    "    words = ''.join(char for char in text if char not in exclude)\r\n",
    "    # create a list of words instead of one huge text\r\n",
    "    words_splitted = words.split()\r\n",
    "    \r\n",
    "    # analogously\r\n",
    "    other_column = other_data[feature].str.lower() \r\n",
    "    other_text = ' '.join(other_column)\r\n",
    "    other_words = ''.join(char for char in other_text if char not in exclude)\r\n",
    "    other_words_splitted = other_words.split()\r\n",
    "    # lexical diversity measure\r\n",
    "    return len(set(words_splitted)) / (len(words_splitted) + len(other_words_splitted))\r\n",
    "\r\n",
    "print(f'Real News: {lexical_diversity(data=train_news, other_data=train_fake, feature=\"text\")}')\r\n",
    "print(f'Fake News: {lexical_diversity(data=train_fake, other_data=train_news, feature=\"text\")}')"
   ],
   "outputs": [
    {
     "output_type": "stream",
     "name": "stdout",
     "text": [
      "Real News: 0.006284625312956002\n",
      "Fake News: 0.01156686896267438\n"
     ]
    }
   ],
   "metadata": {
    "execution": {
     "iopub.execute_input": "2021-02-25T12:16:42.964940Z",
     "iopub.status.busy": "2021-02-25T12:16:42.964312Z",
     "iopub.status.idle": "2021-02-25T12:17:06.874952Z",
     "shell.execute_reply": "2021-02-25T12:17:06.874309Z"
    },
    "papermill": {
     "duration": 23.957379,
     "end_time": "2021-02-25T12:17:06.875121",
     "exception": false,
     "start_time": "2021-02-25T12:16:42.917742",
     "status": "completed"
    },
    "tags": []
   }
  },
  {
   "cell_type": "markdown",
   "source": [
    "More use of vocabulary in fake news articles"
   ],
   "metadata": {}
  },
  {
   "cell_type": "code",
   "execution_count": 19,
   "source": [
    "stopwords = set(STOPWORDS)\r\n",
    "\r\n",
    "def common_tokens_title(data, feature, name):\r\n",
    "    column = data[feature].str.lower() \r\n",
    "    text = ' '.join(column)\r\n",
    "    exclude = set(string.punctuation)\r\n",
    "    words = ''.join(char for char in text if char not in exclude)\r\n",
    "    words_splitted = words.split()\r\n",
    "    words_stopped = [word for word in words_splitted if not word in stopwords]\r\n",
    "    print(f'{name}:\\n{pd.DataFrame(nltk.FreqDist(words_stopped).most_common(10))[0]}')\r\n",
    "    \r\n",
    "common_tokens_title(train_news, 'title', 'Most common descriptive words in Real News Titles')\r\n",
    "print('\\n')\r\n",
    "common_tokens_title(train_fake, 'title', 'Most common descriptive words in Fake News Titles')"
   ],
   "outputs": [
    {
     "output_type": "stream",
     "name": "stdout",
     "text": [
      "Most common descriptive words in Real News Titles:\n",
      "0     trump\n",
      "1        us\n",
      "2      says\n",
      "3     house\n",
      "4     north\n",
      "5       new\n",
      "6     white\n",
      "7    russia\n",
      "8     korea\n",
      "9     court\n",
      "Name: 0, dtype: object\n",
      "\n",
      "\n",
      "Most common descriptive words in Fake News Titles:\n",
      "0        video\n",
      "1        trump\n",
      "2        watch\n",
      "3        obama\n",
      "4      hillary\n",
      "5      trump’s\n",
      "6    president\n",
      "7           us\n",
      "8      clinton\n",
      "9         will\n",
      "Name: 0, dtype: object\n"
     ]
    }
   ],
   "metadata": {
    "execution": {
     "iopub.execute_input": "2021-02-25T12:17:07.221010Z",
     "iopub.status.busy": "2021-02-25T12:17:07.184789Z",
     "iopub.status.idle": "2021-02-25T12:17:07.873174Z",
     "shell.execute_reply": "2021-02-25T12:17:07.872638Z"
    },
    "papermill": {
     "duration": 0.777635,
     "end_time": "2021-02-25T12:17:07.873320",
     "exception": false,
     "start_time": "2021-02-25T12:17:07.095685",
     "status": "completed"
    },
    "tags": []
   }
  },
  {
   "cell_type": "markdown",
   "source": [
    "# Punctutation\n",
    "Punctuation might provide some information for predictions. "
   ],
   "metadata": {
    "papermill": {
     "duration": 0.044707,
     "end_time": "2021-02-25T12:17:08.053277",
     "exception": false,
     "start_time": "2021-02-25T12:17:08.008570",
     "status": "completed"
    },
    "tags": []
   }
  },
  {
   "cell_type": "code",
   "execution_count": 20,
   "source": [
    "import regex as re\r\n",
    "\r\n",
    "# let's begin with a helper function to count punctuation\r\n",
    "def count_punctuation(text):\r\n",
    "    peri = re.subn(r\"\\.\", '', text)[1]\r\n",
    "    comm = re.subn(r\"\\,\", '', text)[1]\r\n",
    "    ques = re.subn(r\"\\?\", '', text)[1]\r\n",
    "    excl = re.subn(r\"\\!\", '', text)[1]\r\n",
    "    return [peri,comm, ques, excl]\r\n",
    "    \r\n",
    "count_punctuation('...alph!a.beta.gamma...??')"
   ],
   "outputs": [
    {
     "output_type": "execute_result",
     "data": {
      "text/plain": [
       "[8, 0, 2, 1]"
      ]
     },
     "metadata": {},
     "execution_count": 20
    }
   ],
   "metadata": {
    "execution": {
     "iopub.execute_input": "2021-02-25T12:17:08.151222Z",
     "iopub.status.busy": "2021-02-25T12:17:08.150195Z",
     "iopub.status.idle": "2021-02-25T12:17:08.154877Z",
     "shell.execute_reply": "2021-02-25T12:17:08.154223Z"
    },
    "papermill": {
     "duration": 0.056861,
     "end_time": "2021-02-25T12:17:08.155016",
     "exception": false,
     "start_time": "2021-02-25T12:17:08.098155",
     "status": "completed"
    },
    "tags": []
   }
  },
  {
   "cell_type": "code",
   "execution_count": 21,
   "source": [
    "\r\n",
    "def create_punctuation_df(dataset, feature):\r\n",
    "    return dataset.apply(lambda row: pd.Series({'peri_' + feature:count_punctuation(row[feature])[0], \r\n",
    "                                                       'comm_' + feature:count_punctuation(row[feature])[1],\r\n",
    "                                                      'ques_' + feature:count_punctuation(row[feature])[2],\r\n",
    "                                                      'excl_' + feature:count_punctuation(row[feature])[3]}), axis=1)\r\n",
    "\r\n",
    "punctuation_train_title = create_punctuation_df(train, 'title')\r\n",
    "punctuation_test_title = create_punctuation_df(test, 'title')\r\n",
    "punctuation_train_text = create_punctuation_df(train, 'text')\r\n",
    "punctuation_test_text = create_punctuation_df(test, 'text')\r\n",
    "punctuation_train_text "
   ],
   "outputs": [
    {
     "output_type": "execute_result",
     "data": {
      "text/plain": [
       "       peri_text  comm_text  ques_text  excl_text\n",
       "6665           6          1          0          0\n",
       "9566          20         22          0          0\n",
       "34682         22         24          1          1\n",
       "8479          13         12          0          0\n",
       "13616          2          6          0          0\n",
       "...          ...        ...        ...        ...\n",
       "16026         29         20          0          0\n",
       "13667          8          2          0          0\n",
       "23671         30         23          1          1\n",
       "36147         19         14          0          2\n",
       "27664         17         20          0          0\n",
       "\n",
       "[35918 rows x 4 columns]"
      ],
      "text/html": [
       "<div>\n",
       "<style scoped>\n",
       "    .dataframe tbody tr th:only-of-type {\n",
       "        vertical-align: middle;\n",
       "    }\n",
       "\n",
       "    .dataframe tbody tr th {\n",
       "        vertical-align: top;\n",
       "    }\n",
       "\n",
       "    .dataframe thead th {\n",
       "        text-align: right;\n",
       "    }\n",
       "</style>\n",
       "<table border=\"1\" class=\"dataframe\">\n",
       "  <thead>\n",
       "    <tr style=\"text-align: right;\">\n",
       "      <th></th>\n",
       "      <th>peri_text</th>\n",
       "      <th>comm_text</th>\n",
       "      <th>ques_text</th>\n",
       "      <th>excl_text</th>\n",
       "    </tr>\n",
       "  </thead>\n",
       "  <tbody>\n",
       "    <tr>\n",
       "      <th>6665</th>\n",
       "      <td>6</td>\n",
       "      <td>1</td>\n",
       "      <td>0</td>\n",
       "      <td>0</td>\n",
       "    </tr>\n",
       "    <tr>\n",
       "      <th>9566</th>\n",
       "      <td>20</td>\n",
       "      <td>22</td>\n",
       "      <td>0</td>\n",
       "      <td>0</td>\n",
       "    </tr>\n",
       "    <tr>\n",
       "      <th>34682</th>\n",
       "      <td>22</td>\n",
       "      <td>24</td>\n",
       "      <td>1</td>\n",
       "      <td>1</td>\n",
       "    </tr>\n",
       "    <tr>\n",
       "      <th>8479</th>\n",
       "      <td>13</td>\n",
       "      <td>12</td>\n",
       "      <td>0</td>\n",
       "      <td>0</td>\n",
       "    </tr>\n",
       "    <tr>\n",
       "      <th>13616</th>\n",
       "      <td>2</td>\n",
       "      <td>6</td>\n",
       "      <td>0</td>\n",
       "      <td>0</td>\n",
       "    </tr>\n",
       "    <tr>\n",
       "      <th>...</th>\n",
       "      <td>...</td>\n",
       "      <td>...</td>\n",
       "      <td>...</td>\n",
       "      <td>...</td>\n",
       "    </tr>\n",
       "    <tr>\n",
       "      <th>16026</th>\n",
       "      <td>29</td>\n",
       "      <td>20</td>\n",
       "      <td>0</td>\n",
       "      <td>0</td>\n",
       "    </tr>\n",
       "    <tr>\n",
       "      <th>13667</th>\n",
       "      <td>8</td>\n",
       "      <td>2</td>\n",
       "      <td>0</td>\n",
       "      <td>0</td>\n",
       "    </tr>\n",
       "    <tr>\n",
       "      <th>23671</th>\n",
       "      <td>30</td>\n",
       "      <td>23</td>\n",
       "      <td>1</td>\n",
       "      <td>1</td>\n",
       "    </tr>\n",
       "    <tr>\n",
       "      <th>36147</th>\n",
       "      <td>19</td>\n",
       "      <td>14</td>\n",
       "      <td>0</td>\n",
       "      <td>2</td>\n",
       "    </tr>\n",
       "    <tr>\n",
       "      <th>27664</th>\n",
       "      <td>17</td>\n",
       "      <td>20</td>\n",
       "      <td>0</td>\n",
       "      <td>0</td>\n",
       "    </tr>\n",
       "  </tbody>\n",
       "</table>\n",
       "<p>35918 rows × 4 columns</p>\n",
       "</div>"
      ]
     },
     "metadata": {},
     "execution_count": 21
    }
   ],
   "metadata": {
    "execution": {
     "iopub.execute_input": "2021-02-25T12:17:08.252945Z",
     "iopub.status.busy": "2021-02-25T12:17:08.252247Z",
     "iopub.status.idle": "2021-02-25T12:18:04.385151Z",
     "shell.execute_reply": "2021-02-25T12:18:04.385660Z"
    },
    "papermill": {
     "duration": 56.185339,
     "end_time": "2021-02-25T12:18:04.385849",
     "exception": false,
     "start_time": "2021-02-25T12:17:08.200510",
     "status": "completed"
    },
    "tags": []
   }
  },
  {
   "cell_type": "markdown",
   "source": [
    "# Text Length"
   ],
   "metadata": {
    "papermill": {
     "duration": 0.044879,
     "end_time": "2021-02-25T12:18:04.475981",
     "exception": false,
     "start_time": "2021-02-25T12:18:04.431102",
     "status": "completed"
    },
    "tags": []
   }
  },
  {
   "cell_type": "code",
   "execution_count": 22,
   "source": [
    "# count the text length per row for both features (title and text)\r\n",
    "# and store the information in a dataframe\r\n",
    "def create_len_df(dataset):\r\n",
    "    return dataset.apply(lambda row: pd.Series({'length_title':len(row['title']),\r\n",
    "                                               'length_text':len(row['text'])}), axis=1)\r\n",
    "\r\n",
    "len_train = create_len_df(train)\r\n",
    "len_test = create_len_df(test)\r\n",
    "\r\n",
    "len_train"
   ],
   "outputs": [
    {
     "output_type": "execute_result",
     "data": {
      "text/plain": [
       "       length_title  length_text\n",
       "6665             65          424\n",
       "9566             63         2101\n",
       "34682           103         2244\n",
       "8479             53         1404\n",
       "13616            73          418\n",
       "...             ...          ...\n",
       "16026            73         3268\n",
       "13667            79          655\n",
       "23671            83         2433\n",
       "36147            95         1682\n",
       "27664            89         2472\n",
       "\n",
       "[35918 rows x 2 columns]"
      ],
      "text/html": [
       "<div>\n",
       "<style scoped>\n",
       "    .dataframe tbody tr th:only-of-type {\n",
       "        vertical-align: middle;\n",
       "    }\n",
       "\n",
       "    .dataframe tbody tr th {\n",
       "        vertical-align: top;\n",
       "    }\n",
       "\n",
       "    .dataframe thead th {\n",
       "        text-align: right;\n",
       "    }\n",
       "</style>\n",
       "<table border=\"1\" class=\"dataframe\">\n",
       "  <thead>\n",
       "    <tr style=\"text-align: right;\">\n",
       "      <th></th>\n",
       "      <th>length_title</th>\n",
       "      <th>length_text</th>\n",
       "    </tr>\n",
       "  </thead>\n",
       "  <tbody>\n",
       "    <tr>\n",
       "      <th>6665</th>\n",
       "      <td>65</td>\n",
       "      <td>424</td>\n",
       "    </tr>\n",
       "    <tr>\n",
       "      <th>9566</th>\n",
       "      <td>63</td>\n",
       "      <td>2101</td>\n",
       "    </tr>\n",
       "    <tr>\n",
       "      <th>34682</th>\n",
       "      <td>103</td>\n",
       "      <td>2244</td>\n",
       "    </tr>\n",
       "    <tr>\n",
       "      <th>8479</th>\n",
       "      <td>53</td>\n",
       "      <td>1404</td>\n",
       "    </tr>\n",
       "    <tr>\n",
       "      <th>13616</th>\n",
       "      <td>73</td>\n",
       "      <td>418</td>\n",
       "    </tr>\n",
       "    <tr>\n",
       "      <th>...</th>\n",
       "      <td>...</td>\n",
       "      <td>...</td>\n",
       "    </tr>\n",
       "    <tr>\n",
       "      <th>16026</th>\n",
       "      <td>73</td>\n",
       "      <td>3268</td>\n",
       "    </tr>\n",
       "    <tr>\n",
       "      <th>13667</th>\n",
       "      <td>79</td>\n",
       "      <td>655</td>\n",
       "    </tr>\n",
       "    <tr>\n",
       "      <th>23671</th>\n",
       "      <td>83</td>\n",
       "      <td>2433</td>\n",
       "    </tr>\n",
       "    <tr>\n",
       "      <th>36147</th>\n",
       "      <td>95</td>\n",
       "      <td>1682</td>\n",
       "    </tr>\n",
       "    <tr>\n",
       "      <th>27664</th>\n",
       "      <td>89</td>\n",
       "      <td>2472</td>\n",
       "    </tr>\n",
       "  </tbody>\n",
       "</table>\n",
       "<p>35918 rows × 2 columns</p>\n",
       "</div>"
      ]
     },
     "metadata": {},
     "execution_count": 22
    }
   ],
   "metadata": {
    "execution": {
     "iopub.execute_input": "2021-02-25T12:18:04.575429Z",
     "iopub.status.busy": "2021-02-25T12:18:04.573883Z",
     "iopub.status.idle": "2021-02-25T12:18:23.597367Z",
     "shell.execute_reply": "2021-02-25T12:18:23.597875Z"
    },
    "papermill": {
     "duration": 19.075161,
     "end_time": "2021-02-25T12:18:23.598044",
     "exception": false,
     "start_time": "2021-02-25T12:18:04.522883",
     "status": "completed"
    },
    "tags": []
   }
  },
  {
   "cell_type": "code",
   "execution_count": 23,
   "source": [
    "def create_num_words_df(dataset):\r\n",
    "    return dataset.apply(lambda row: pd.Series({'num_words_title':len(row['title'].split())}), axis=1)\r\n",
    "\r\n",
    "num_words_train = create_num_words_df(train)\r\n",
    "num_words_test = create_num_words_df(test)\r\n",
    "\r\n",
    "num_words_train"
   ],
   "outputs": [
    {
     "output_type": "execute_result",
     "data": {
      "text/plain": [
       "       num_words_title\n",
       "6665                10\n",
       "9566                11\n",
       "34682               16\n",
       "8479                 8\n",
       "13616               13\n",
       "...                ...\n",
       "16026               11\n",
       "13667               14\n",
       "23671               14\n",
       "36147               12\n",
       "27664               14\n",
       "\n",
       "[35918 rows x 1 columns]"
      ],
      "text/html": [
       "<div>\n",
       "<style scoped>\n",
       "    .dataframe tbody tr th:only-of-type {\n",
       "        vertical-align: middle;\n",
       "    }\n",
       "\n",
       "    .dataframe tbody tr th {\n",
       "        vertical-align: top;\n",
       "    }\n",
       "\n",
       "    .dataframe thead th {\n",
       "        text-align: right;\n",
       "    }\n",
       "</style>\n",
       "<table border=\"1\" class=\"dataframe\">\n",
       "  <thead>\n",
       "    <tr style=\"text-align: right;\">\n",
       "      <th></th>\n",
       "      <th>num_words_title</th>\n",
       "    </tr>\n",
       "  </thead>\n",
       "  <tbody>\n",
       "    <tr>\n",
       "      <th>6665</th>\n",
       "      <td>10</td>\n",
       "    </tr>\n",
       "    <tr>\n",
       "      <th>9566</th>\n",
       "      <td>11</td>\n",
       "    </tr>\n",
       "    <tr>\n",
       "      <th>34682</th>\n",
       "      <td>16</td>\n",
       "    </tr>\n",
       "    <tr>\n",
       "      <th>8479</th>\n",
       "      <td>8</td>\n",
       "    </tr>\n",
       "    <tr>\n",
       "      <th>13616</th>\n",
       "      <td>13</td>\n",
       "    </tr>\n",
       "    <tr>\n",
       "      <th>...</th>\n",
       "      <td>...</td>\n",
       "    </tr>\n",
       "    <tr>\n",
       "      <th>16026</th>\n",
       "      <td>11</td>\n",
       "    </tr>\n",
       "    <tr>\n",
       "      <th>13667</th>\n",
       "      <td>14</td>\n",
       "    </tr>\n",
       "    <tr>\n",
       "      <th>23671</th>\n",
       "      <td>14</td>\n",
       "    </tr>\n",
       "    <tr>\n",
       "      <th>36147</th>\n",
       "      <td>12</td>\n",
       "    </tr>\n",
       "    <tr>\n",
       "      <th>27664</th>\n",
       "      <td>14</td>\n",
       "    </tr>\n",
       "  </tbody>\n",
       "</table>\n",
       "<p>35918 rows × 1 columns</p>\n",
       "</div>"
      ]
     },
     "metadata": {},
     "execution_count": 23
    }
   ],
   "metadata": {
    "execution": {
     "iopub.execute_input": "2021-02-25T12:18:23.786484Z",
     "iopub.status.busy": "2021-02-25T12:18:23.785550Z",
     "iopub.status.idle": "2021-02-25T12:18:42.844522Z",
     "shell.execute_reply": "2021-02-25T12:18:42.843857Z"
    },
    "papermill": {
     "duration": 19.10804,
     "end_time": "2021-02-25T12:18:42.844665",
     "exception": false,
     "start_time": "2021-02-25T12:18:23.736625",
     "status": "completed"
    },
    "tags": []
   }
  },
  {
   "cell_type": "code",
   "execution_count": 24,
   "source": [
    "def create_title_ratio_df(dataset):\r\n",
    "    return dataset.apply(lambda row: pd.Series({'title_ratio':len(row['title'])/(len(row['title']) + len(row['text']))}), axis=1)\r\n",
    "\r\n",
    "title_ratio_train = create_title_ratio_df(train)\r\n",
    "title_ratio_test = create_title_ratio_df(test)\r\n",
    "\r\n",
    "title_ratio_train"
   ],
   "outputs": [
    {
     "output_type": "execute_result",
     "data": {
      "text/plain": [
       "       title_ratio\n",
       "6665      0.132924\n",
       "9566      0.029113\n",
       "34682     0.043886\n",
       "8479      0.036376\n",
       "13616     0.148676\n",
       "...            ...\n",
       "16026     0.021850\n",
       "13667     0.107629\n",
       "23671     0.032989\n",
       "36147     0.053461\n",
       "27664     0.034752\n",
       "\n",
       "[35918 rows x 1 columns]"
      ],
      "text/html": [
       "<div>\n",
       "<style scoped>\n",
       "    .dataframe tbody tr th:only-of-type {\n",
       "        vertical-align: middle;\n",
       "    }\n",
       "\n",
       "    .dataframe tbody tr th {\n",
       "        vertical-align: top;\n",
       "    }\n",
       "\n",
       "    .dataframe thead th {\n",
       "        text-align: right;\n",
       "    }\n",
       "</style>\n",
       "<table border=\"1\" class=\"dataframe\">\n",
       "  <thead>\n",
       "    <tr style=\"text-align: right;\">\n",
       "      <th></th>\n",
       "      <th>title_ratio</th>\n",
       "    </tr>\n",
       "  </thead>\n",
       "  <tbody>\n",
       "    <tr>\n",
       "      <th>6665</th>\n",
       "      <td>0.132924</td>\n",
       "    </tr>\n",
       "    <tr>\n",
       "      <th>9566</th>\n",
       "      <td>0.029113</td>\n",
       "    </tr>\n",
       "    <tr>\n",
       "      <th>34682</th>\n",
       "      <td>0.043886</td>\n",
       "    </tr>\n",
       "    <tr>\n",
       "      <th>8479</th>\n",
       "      <td>0.036376</td>\n",
       "    </tr>\n",
       "    <tr>\n",
       "      <th>13616</th>\n",
       "      <td>0.148676</td>\n",
       "    </tr>\n",
       "    <tr>\n",
       "      <th>...</th>\n",
       "      <td>...</td>\n",
       "    </tr>\n",
       "    <tr>\n",
       "      <th>16026</th>\n",
       "      <td>0.021850</td>\n",
       "    </tr>\n",
       "    <tr>\n",
       "      <th>13667</th>\n",
       "      <td>0.107629</td>\n",
       "    </tr>\n",
       "    <tr>\n",
       "      <th>23671</th>\n",
       "      <td>0.032989</td>\n",
       "    </tr>\n",
       "    <tr>\n",
       "      <th>36147</th>\n",
       "      <td>0.053461</td>\n",
       "    </tr>\n",
       "    <tr>\n",
       "      <th>27664</th>\n",
       "      <td>0.034752</td>\n",
       "    </tr>\n",
       "  </tbody>\n",
       "</table>\n",
       "<p>35918 rows × 1 columns</p>\n",
       "</div>"
      ]
     },
     "metadata": {},
     "execution_count": 24
    }
   ],
   "metadata": {
    "execution": {
     "iopub.execute_input": "2021-02-25T12:18:43.075875Z",
     "iopub.status.busy": "2021-02-25T12:18:43.042619Z",
     "iopub.status.idle": "2021-02-25T12:19:01.910106Z",
     "shell.execute_reply": "2021-02-25T12:19:01.909227Z"
    },
    "papermill": {
     "duration": 18.922097,
     "end_time": "2021-02-25T12:19:01.910255",
     "exception": false,
     "start_time": "2021-02-25T12:18:42.988158",
     "status": "completed"
    },
    "tags": []
   }
  },
  {
   "cell_type": "markdown",
   "source": [
    "## Concatenate the new Datasets"
   ],
   "metadata": {
    "papermill": {
     "duration": 0.048289,
     "end_time": "2021-02-25T12:19:02.005768",
     "exception": false,
     "start_time": "2021-02-25T12:19:01.957479",
     "status": "completed"
    },
    "tags": []
   }
  },
  {
   "cell_type": "code",
   "execution_count": 25,
   "source": [
    "X_train_punct_len = pd.concat([punctuation_train_title, \r\n",
    "                               punctuation_train_text, \r\n",
    "                               len_train, \r\n",
    "                               num_words_train, \r\n",
    "                               title_ratio_train], \r\n",
    "                              axis=1)\r\n",
    "\r\n",
    "X_test_punct_len = pd.concat([punctuation_test_title, \r\n",
    "                              punctuation_test_text, \r\n",
    "                              len_test, \r\n",
    "                              num_words_test, \r\n",
    "                              title_ratio_test], \r\n",
    "                             axis=1)\r\n",
    "\r\n",
    "X_train_punct_len"
   ],
   "outputs": [
    {
     "output_type": "execute_result",
     "data": {
      "text/plain": [
       "       peri_title  comm_title  ques_title  excl_title  peri_text  comm_text  \\\n",
       "6665            0           0           0           0          6          1   \n",
       "9566            0           0           0           0         20         22   \n",
       "34682           0           0           0           0         22         24   \n",
       "8479            0           0           0           0         13         12   \n",
       "13616           1           0           0           0          2          6   \n",
       "...           ...         ...         ...         ...        ...        ...   \n",
       "16026           0           0           0           0         29         20   \n",
       "13667           2           0           0           0          8          2   \n",
       "23671           0           0           0           0         30         23   \n",
       "36147           0           1           0           0         19         14   \n",
       "27664           0           0           0           0         17         20   \n",
       "\n",
       "       ques_text  excl_text  length_title  length_text  num_words_title  \\\n",
       "6665           0          0            65          424               10   \n",
       "9566           0          0            63         2101               11   \n",
       "34682          1          1           103         2244               16   \n",
       "8479           0          0            53         1404                8   \n",
       "13616          0          0            73          418               13   \n",
       "...          ...        ...           ...          ...              ...   \n",
       "16026          0          0            73         3268               11   \n",
       "13667          0          0            79          655               14   \n",
       "23671          1          1            83         2433               14   \n",
       "36147          0          2            95         1682               12   \n",
       "27664          0          0            89         2472               14   \n",
       "\n",
       "       title_ratio  \n",
       "6665      0.132924  \n",
       "9566      0.029113  \n",
       "34682     0.043886  \n",
       "8479      0.036376  \n",
       "13616     0.148676  \n",
       "...            ...  \n",
       "16026     0.021850  \n",
       "13667     0.107629  \n",
       "23671     0.032989  \n",
       "36147     0.053461  \n",
       "27664     0.034752  \n",
       "\n",
       "[35918 rows x 12 columns]"
      ],
      "text/html": [
       "<div>\n",
       "<style scoped>\n",
       "    .dataframe tbody tr th:only-of-type {\n",
       "        vertical-align: middle;\n",
       "    }\n",
       "\n",
       "    .dataframe tbody tr th {\n",
       "        vertical-align: top;\n",
       "    }\n",
       "\n",
       "    .dataframe thead th {\n",
       "        text-align: right;\n",
       "    }\n",
       "</style>\n",
       "<table border=\"1\" class=\"dataframe\">\n",
       "  <thead>\n",
       "    <tr style=\"text-align: right;\">\n",
       "      <th></th>\n",
       "      <th>peri_title</th>\n",
       "      <th>comm_title</th>\n",
       "      <th>ques_title</th>\n",
       "      <th>excl_title</th>\n",
       "      <th>peri_text</th>\n",
       "      <th>comm_text</th>\n",
       "      <th>ques_text</th>\n",
       "      <th>excl_text</th>\n",
       "      <th>length_title</th>\n",
       "      <th>length_text</th>\n",
       "      <th>num_words_title</th>\n",
       "      <th>title_ratio</th>\n",
       "    </tr>\n",
       "  </thead>\n",
       "  <tbody>\n",
       "    <tr>\n",
       "      <th>6665</th>\n",
       "      <td>0</td>\n",
       "      <td>0</td>\n",
       "      <td>0</td>\n",
       "      <td>0</td>\n",
       "      <td>6</td>\n",
       "      <td>1</td>\n",
       "      <td>0</td>\n",
       "      <td>0</td>\n",
       "      <td>65</td>\n",
       "      <td>424</td>\n",
       "      <td>10</td>\n",
       "      <td>0.132924</td>\n",
       "    </tr>\n",
       "    <tr>\n",
       "      <th>9566</th>\n",
       "      <td>0</td>\n",
       "      <td>0</td>\n",
       "      <td>0</td>\n",
       "      <td>0</td>\n",
       "      <td>20</td>\n",
       "      <td>22</td>\n",
       "      <td>0</td>\n",
       "      <td>0</td>\n",
       "      <td>63</td>\n",
       "      <td>2101</td>\n",
       "      <td>11</td>\n",
       "      <td>0.029113</td>\n",
       "    </tr>\n",
       "    <tr>\n",
       "      <th>34682</th>\n",
       "      <td>0</td>\n",
       "      <td>0</td>\n",
       "      <td>0</td>\n",
       "      <td>0</td>\n",
       "      <td>22</td>\n",
       "      <td>24</td>\n",
       "      <td>1</td>\n",
       "      <td>1</td>\n",
       "      <td>103</td>\n",
       "      <td>2244</td>\n",
       "      <td>16</td>\n",
       "      <td>0.043886</td>\n",
       "    </tr>\n",
       "    <tr>\n",
       "      <th>8479</th>\n",
       "      <td>0</td>\n",
       "      <td>0</td>\n",
       "      <td>0</td>\n",
       "      <td>0</td>\n",
       "      <td>13</td>\n",
       "      <td>12</td>\n",
       "      <td>0</td>\n",
       "      <td>0</td>\n",
       "      <td>53</td>\n",
       "      <td>1404</td>\n",
       "      <td>8</td>\n",
       "      <td>0.036376</td>\n",
       "    </tr>\n",
       "    <tr>\n",
       "      <th>13616</th>\n",
       "      <td>1</td>\n",
       "      <td>0</td>\n",
       "      <td>0</td>\n",
       "      <td>0</td>\n",
       "      <td>2</td>\n",
       "      <td>6</td>\n",
       "      <td>0</td>\n",
       "      <td>0</td>\n",
       "      <td>73</td>\n",
       "      <td>418</td>\n",
       "      <td>13</td>\n",
       "      <td>0.148676</td>\n",
       "    </tr>\n",
       "    <tr>\n",
       "      <th>...</th>\n",
       "      <td>...</td>\n",
       "      <td>...</td>\n",
       "      <td>...</td>\n",
       "      <td>...</td>\n",
       "      <td>...</td>\n",
       "      <td>...</td>\n",
       "      <td>...</td>\n",
       "      <td>...</td>\n",
       "      <td>...</td>\n",
       "      <td>...</td>\n",
       "      <td>...</td>\n",
       "      <td>...</td>\n",
       "    </tr>\n",
       "    <tr>\n",
       "      <th>16026</th>\n",
       "      <td>0</td>\n",
       "      <td>0</td>\n",
       "      <td>0</td>\n",
       "      <td>0</td>\n",
       "      <td>29</td>\n",
       "      <td>20</td>\n",
       "      <td>0</td>\n",
       "      <td>0</td>\n",
       "      <td>73</td>\n",
       "      <td>3268</td>\n",
       "      <td>11</td>\n",
       "      <td>0.021850</td>\n",
       "    </tr>\n",
       "    <tr>\n",
       "      <th>13667</th>\n",
       "      <td>2</td>\n",
       "      <td>0</td>\n",
       "      <td>0</td>\n",
       "      <td>0</td>\n",
       "      <td>8</td>\n",
       "      <td>2</td>\n",
       "      <td>0</td>\n",
       "      <td>0</td>\n",
       "      <td>79</td>\n",
       "      <td>655</td>\n",
       "      <td>14</td>\n",
       "      <td>0.107629</td>\n",
       "    </tr>\n",
       "    <tr>\n",
       "      <th>23671</th>\n",
       "      <td>0</td>\n",
       "      <td>0</td>\n",
       "      <td>0</td>\n",
       "      <td>0</td>\n",
       "      <td>30</td>\n",
       "      <td>23</td>\n",
       "      <td>1</td>\n",
       "      <td>1</td>\n",
       "      <td>83</td>\n",
       "      <td>2433</td>\n",
       "      <td>14</td>\n",
       "      <td>0.032989</td>\n",
       "    </tr>\n",
       "    <tr>\n",
       "      <th>36147</th>\n",
       "      <td>0</td>\n",
       "      <td>1</td>\n",
       "      <td>0</td>\n",
       "      <td>0</td>\n",
       "      <td>19</td>\n",
       "      <td>14</td>\n",
       "      <td>0</td>\n",
       "      <td>2</td>\n",
       "      <td>95</td>\n",
       "      <td>1682</td>\n",
       "      <td>12</td>\n",
       "      <td>0.053461</td>\n",
       "    </tr>\n",
       "    <tr>\n",
       "      <th>27664</th>\n",
       "      <td>0</td>\n",
       "      <td>0</td>\n",
       "      <td>0</td>\n",
       "      <td>0</td>\n",
       "      <td>17</td>\n",
       "      <td>20</td>\n",
       "      <td>0</td>\n",
       "      <td>0</td>\n",
       "      <td>89</td>\n",
       "      <td>2472</td>\n",
       "      <td>14</td>\n",
       "      <td>0.034752</td>\n",
       "    </tr>\n",
       "  </tbody>\n",
       "</table>\n",
       "<p>35918 rows × 12 columns</p>\n",
       "</div>"
      ]
     },
     "metadata": {},
     "execution_count": 25
    }
   ],
   "metadata": {
    "execution": {
     "iopub.execute_input": "2021-02-25T12:19:02.108571Z",
     "iopub.status.busy": "2021-02-25T12:19:02.107869Z",
     "iopub.status.idle": "2021-02-25T12:19:02.128670Z",
     "shell.execute_reply": "2021-02-25T12:19:02.129191Z"
    },
    "papermill": {
     "duration": 0.076028,
     "end_time": "2021-02-25T12:19:02.129365",
     "exception": false,
     "start_time": "2021-02-25T12:19:02.053337",
     "status": "completed"
    },
    "tags": []
   }
  },
  {
   "cell_type": "markdown",
   "source": [
    "# Investigate the Engineered Features"
   ],
   "metadata": {
    "papermill": {
     "duration": 0.047775,
     "end_time": "2021-02-25T12:19:02.225546",
     "exception": false,
     "start_time": "2021-02-25T12:19:02.177771",
     "status": "completed"
    },
    "tags": []
   }
  },
  {
   "cell_type": "code",
   "execution_count": 26,
   "source": [
    "X_train_punct_len.describe()"
   ],
   "outputs": [
    {
     "output_type": "execute_result",
     "data": {
      "text/plain": [
       "         peri_title    comm_title    ques_title    excl_title     peri_text  \\\n",
       "count  35918.000000  35918.000000  35918.000000  35918.000000  35918.000000   \n",
       "mean       0.274737      0.225319      0.041901      0.080739     20.971602   \n",
       "std        0.703008      0.496879      0.212897      0.300803     18.271862   \n",
       "min        0.000000      0.000000      0.000000      0.000000      0.000000   \n",
       "25%        0.000000      0.000000      0.000000      0.000000     10.000000   \n",
       "50%        0.000000      0.000000      0.000000      0.000000     18.000000   \n",
       "75%        0.000000      0.000000      0.000000      0.000000     27.000000   \n",
       "max        6.000000      5.000000      3.000000      4.000000    551.000000   \n",
       "\n",
       "          comm_text     ques_text     excl_text  length_title   length_text  \\\n",
       "count  35918.000000  35918.000000  35918.000000  35918.000000  35918.000000   \n",
       "mean      20.226126      0.679353      0.405507     80.081268   2471.798151   \n",
       "std       20.170080      1.771020      1.319272     25.331473   2170.471778   \n",
       "min        0.000000      0.000000      0.000000      8.000000      1.000000   \n",
       "25%        8.000000      0.000000      0.000000     63.000000   1235.000000   \n",
       "50%       17.000000      0.000000      0.000000     73.000000   2188.000000   \n",
       "75%       26.000000      1.000000      0.000000     91.000000   3101.000000   \n",
       "max      420.000000     94.000000     67.000000    286.000000  49705.000000   \n",
       "\n",
       "       num_words_title   title_ratio  \n",
       "count     35918.000000  35918.000000  \n",
       "mean         12.444568      0.071858  \n",
       "std           4.092736      0.135813  \n",
       "min           1.000000      0.000583  \n",
       "25%          10.000000      0.023323  \n",
       "50%          11.000000      0.034865  \n",
       "75%          14.000000      0.063690  \n",
       "max          42.000000      0.995556  "
      ],
      "text/html": [
       "<div>\n",
       "<style scoped>\n",
       "    .dataframe tbody tr th:only-of-type {\n",
       "        vertical-align: middle;\n",
       "    }\n",
       "\n",
       "    .dataframe tbody tr th {\n",
       "        vertical-align: top;\n",
       "    }\n",
       "\n",
       "    .dataframe thead th {\n",
       "        text-align: right;\n",
       "    }\n",
       "</style>\n",
       "<table border=\"1\" class=\"dataframe\">\n",
       "  <thead>\n",
       "    <tr style=\"text-align: right;\">\n",
       "      <th></th>\n",
       "      <th>peri_title</th>\n",
       "      <th>comm_title</th>\n",
       "      <th>ques_title</th>\n",
       "      <th>excl_title</th>\n",
       "      <th>peri_text</th>\n",
       "      <th>comm_text</th>\n",
       "      <th>ques_text</th>\n",
       "      <th>excl_text</th>\n",
       "      <th>length_title</th>\n",
       "      <th>length_text</th>\n",
       "      <th>num_words_title</th>\n",
       "      <th>title_ratio</th>\n",
       "    </tr>\n",
       "  </thead>\n",
       "  <tbody>\n",
       "    <tr>\n",
       "      <th>count</th>\n",
       "      <td>35918.000000</td>\n",
       "      <td>35918.000000</td>\n",
       "      <td>35918.000000</td>\n",
       "      <td>35918.000000</td>\n",
       "      <td>35918.000000</td>\n",
       "      <td>35918.000000</td>\n",
       "      <td>35918.000000</td>\n",
       "      <td>35918.000000</td>\n",
       "      <td>35918.000000</td>\n",
       "      <td>35918.000000</td>\n",
       "      <td>35918.000000</td>\n",
       "      <td>35918.000000</td>\n",
       "    </tr>\n",
       "    <tr>\n",
       "      <th>mean</th>\n",
       "      <td>0.274737</td>\n",
       "      <td>0.225319</td>\n",
       "      <td>0.041901</td>\n",
       "      <td>0.080739</td>\n",
       "      <td>20.971602</td>\n",
       "      <td>20.226126</td>\n",
       "      <td>0.679353</td>\n",
       "      <td>0.405507</td>\n",
       "      <td>80.081268</td>\n",
       "      <td>2471.798151</td>\n",
       "      <td>12.444568</td>\n",
       "      <td>0.071858</td>\n",
       "    </tr>\n",
       "    <tr>\n",
       "      <th>std</th>\n",
       "      <td>0.703008</td>\n",
       "      <td>0.496879</td>\n",
       "      <td>0.212897</td>\n",
       "      <td>0.300803</td>\n",
       "      <td>18.271862</td>\n",
       "      <td>20.170080</td>\n",
       "      <td>1.771020</td>\n",
       "      <td>1.319272</td>\n",
       "      <td>25.331473</td>\n",
       "      <td>2170.471778</td>\n",
       "      <td>4.092736</td>\n",
       "      <td>0.135813</td>\n",
       "    </tr>\n",
       "    <tr>\n",
       "      <th>min</th>\n",
       "      <td>0.000000</td>\n",
       "      <td>0.000000</td>\n",
       "      <td>0.000000</td>\n",
       "      <td>0.000000</td>\n",
       "      <td>0.000000</td>\n",
       "      <td>0.000000</td>\n",
       "      <td>0.000000</td>\n",
       "      <td>0.000000</td>\n",
       "      <td>8.000000</td>\n",
       "      <td>1.000000</td>\n",
       "      <td>1.000000</td>\n",
       "      <td>0.000583</td>\n",
       "    </tr>\n",
       "    <tr>\n",
       "      <th>25%</th>\n",
       "      <td>0.000000</td>\n",
       "      <td>0.000000</td>\n",
       "      <td>0.000000</td>\n",
       "      <td>0.000000</td>\n",
       "      <td>10.000000</td>\n",
       "      <td>8.000000</td>\n",
       "      <td>0.000000</td>\n",
       "      <td>0.000000</td>\n",
       "      <td>63.000000</td>\n",
       "      <td>1235.000000</td>\n",
       "      <td>10.000000</td>\n",
       "      <td>0.023323</td>\n",
       "    </tr>\n",
       "    <tr>\n",
       "      <th>50%</th>\n",
       "      <td>0.000000</td>\n",
       "      <td>0.000000</td>\n",
       "      <td>0.000000</td>\n",
       "      <td>0.000000</td>\n",
       "      <td>18.000000</td>\n",
       "      <td>17.000000</td>\n",
       "      <td>0.000000</td>\n",
       "      <td>0.000000</td>\n",
       "      <td>73.000000</td>\n",
       "      <td>2188.000000</td>\n",
       "      <td>11.000000</td>\n",
       "      <td>0.034865</td>\n",
       "    </tr>\n",
       "    <tr>\n",
       "      <th>75%</th>\n",
       "      <td>0.000000</td>\n",
       "      <td>0.000000</td>\n",
       "      <td>0.000000</td>\n",
       "      <td>0.000000</td>\n",
       "      <td>27.000000</td>\n",
       "      <td>26.000000</td>\n",
       "      <td>1.000000</td>\n",
       "      <td>0.000000</td>\n",
       "      <td>91.000000</td>\n",
       "      <td>3101.000000</td>\n",
       "      <td>14.000000</td>\n",
       "      <td>0.063690</td>\n",
       "    </tr>\n",
       "    <tr>\n",
       "      <th>max</th>\n",
       "      <td>6.000000</td>\n",
       "      <td>5.000000</td>\n",
       "      <td>3.000000</td>\n",
       "      <td>4.000000</td>\n",
       "      <td>551.000000</td>\n",
       "      <td>420.000000</td>\n",
       "      <td>94.000000</td>\n",
       "      <td>67.000000</td>\n",
       "      <td>286.000000</td>\n",
       "      <td>49705.000000</td>\n",
       "      <td>42.000000</td>\n",
       "      <td>0.995556</td>\n",
       "    </tr>\n",
       "  </tbody>\n",
       "</table>\n",
       "</div>"
      ]
     },
     "metadata": {},
     "execution_count": 26
    }
   ],
   "metadata": {
    "execution": {
     "iopub.execute_input": "2021-02-25T12:19:02.326540Z",
     "iopub.status.busy": "2021-02-25T12:19:02.325888Z",
     "iopub.status.idle": "2021-02-25T12:19:02.384712Z",
     "shell.execute_reply": "2021-02-25T12:19:02.384132Z"
    },
    "papermill": {
     "duration": 0.110312,
     "end_time": "2021-02-25T12:19:02.384863",
     "exception": false,
     "start_time": "2021-02-25T12:19:02.274551",
     "status": "completed"
    },
    "tags": []
   }
  },
  {
   "cell_type": "markdown",
   "source": [
    "* Many Titles don't contain any form of `punctuation`!\n",
    "\n",
    "* Some texts contain suspiciously small amounts of characters. At least one of them contains only 1 chars\n",
    "\n",
    "Let's remove some extreme outliers!"
   ],
   "metadata": {
    "papermill": {
     "duration": 0.048743,
     "end_time": "2021-02-25T12:19:02.482652",
     "exception": false,
     "start_time": "2021-02-25T12:19:02.433909",
     "status": "completed"
    },
    "tags": []
   }
  },
  {
   "cell_type": "code",
   "execution_count": 27,
   "source": [
    "from scipy import stats\r\n",
    "X_train_punct_len_zscore = X_train_punct_len.apply(stats.zscore, axis=0)\r\n",
    "mask_outliers = np.logical_not(((X_train_punct_len_zscore>5).any(axis=1)).values + ((X_train_punct_len_zscore<-5).any(axis=1)).values)\r\n",
    "X_train_punct_len = X_train_punct_len.loc[mask_outliers,:]\r\n",
    "y_train = y_train[X_train_punct_len.index]"
   ],
   "outputs": [],
   "metadata": {
    "execution": {
     "iopub.execute_input": "2021-02-25T12:19:02.587529Z",
     "iopub.status.busy": "2021-02-25T12:19:02.586282Z",
     "iopub.status.idle": "2021-02-25T12:19:02.606472Z",
     "shell.execute_reply": "2021-02-25T12:19:02.605919Z"
    },
    "papermill": {
     "duration": 0.075296,
     "end_time": "2021-02-25T12:19:02.606617",
     "exception": false,
     "start_time": "2021-02-25T12:19:02.531321",
     "status": "completed"
    },
    "tags": []
   }
  },
  {
   "cell_type": "code",
   "execution_count": 28,
   "source": [
    "X_train_punct_len.describe()"
   ],
   "outputs": [
    {
     "output_type": "execute_result",
     "data": {
      "text/plain": [
       "         peri_title    comm_title    ques_title    excl_title     peri_text  \\\n",
       "count  34192.000000  34192.000000  34192.000000  34192.000000  34192.000000   \n",
       "mean       0.265939      0.215489      0.034950      0.060219     20.400386   \n",
       "std        0.668612      0.462835      0.183655      0.237895     14.541668   \n",
       "min        0.000000      0.000000      0.000000      0.000000      0.000000   \n",
       "25%        0.000000      0.000000      0.000000      0.000000     10.000000   \n",
       "50%        0.000000      0.000000      0.000000      0.000000     18.000000   \n",
       "75%        0.000000      0.000000      0.000000      0.000000     27.000000   \n",
       "max        3.000000      2.000000      1.000000      1.000000    111.000000   \n",
       "\n",
       "          comm_text     ques_text     excl_text  length_title   length_text  \\\n",
       "count  34192.000000  34192.000000  34192.000000  34192.000000  34192.000000   \n",
       "mean      19.496578      0.579405      0.325485     79.113243   2397.731516   \n",
       "std       15.105569      1.267923      0.894817     24.187894   1609.550770   \n",
       "min        0.000000      0.000000      0.000000      8.000000     20.000000   \n",
       "25%        8.000000      0.000000      0.000000     63.000000   1289.000000   \n",
       "50%       17.000000      0.000000      0.000000     73.000000   2199.000000   \n",
       "75%       26.000000      1.000000      0.000000     90.000000   3078.000000   \n",
       "max      118.000000      9.000000      7.000000    206.000000  12985.000000   \n",
       "\n",
       "       num_words_title   title_ratio  \n",
       "count     34192.000000  34192.000000  \n",
       "mean         12.284803      0.057251  \n",
       "std           3.901550      0.072985  \n",
       "min           1.000000      0.003235  \n",
       "25%          10.000000      0.023329  \n",
       "50%          11.000000      0.034515  \n",
       "75%          14.000000      0.060606  \n",
       "max          32.000000      0.750000  "
      ],
      "text/html": [
       "<div>\n",
       "<style scoped>\n",
       "    .dataframe tbody tr th:only-of-type {\n",
       "        vertical-align: middle;\n",
       "    }\n",
       "\n",
       "    .dataframe tbody tr th {\n",
       "        vertical-align: top;\n",
       "    }\n",
       "\n",
       "    .dataframe thead th {\n",
       "        text-align: right;\n",
       "    }\n",
       "</style>\n",
       "<table border=\"1\" class=\"dataframe\">\n",
       "  <thead>\n",
       "    <tr style=\"text-align: right;\">\n",
       "      <th></th>\n",
       "      <th>peri_title</th>\n",
       "      <th>comm_title</th>\n",
       "      <th>ques_title</th>\n",
       "      <th>excl_title</th>\n",
       "      <th>peri_text</th>\n",
       "      <th>comm_text</th>\n",
       "      <th>ques_text</th>\n",
       "      <th>excl_text</th>\n",
       "      <th>length_title</th>\n",
       "      <th>length_text</th>\n",
       "      <th>num_words_title</th>\n",
       "      <th>title_ratio</th>\n",
       "    </tr>\n",
       "  </thead>\n",
       "  <tbody>\n",
       "    <tr>\n",
       "      <th>count</th>\n",
       "      <td>34192.000000</td>\n",
       "      <td>34192.000000</td>\n",
       "      <td>34192.000000</td>\n",
       "      <td>34192.000000</td>\n",
       "      <td>34192.000000</td>\n",
       "      <td>34192.000000</td>\n",
       "      <td>34192.000000</td>\n",
       "      <td>34192.000000</td>\n",
       "      <td>34192.000000</td>\n",
       "      <td>34192.000000</td>\n",
       "      <td>34192.000000</td>\n",
       "      <td>34192.000000</td>\n",
       "    </tr>\n",
       "    <tr>\n",
       "      <th>mean</th>\n",
       "      <td>0.265939</td>\n",
       "      <td>0.215489</td>\n",
       "      <td>0.034950</td>\n",
       "      <td>0.060219</td>\n",
       "      <td>20.400386</td>\n",
       "      <td>19.496578</td>\n",
       "      <td>0.579405</td>\n",
       "      <td>0.325485</td>\n",
       "      <td>79.113243</td>\n",
       "      <td>2397.731516</td>\n",
       "      <td>12.284803</td>\n",
       "      <td>0.057251</td>\n",
       "    </tr>\n",
       "    <tr>\n",
       "      <th>std</th>\n",
       "      <td>0.668612</td>\n",
       "      <td>0.462835</td>\n",
       "      <td>0.183655</td>\n",
       "      <td>0.237895</td>\n",
       "      <td>14.541668</td>\n",
       "      <td>15.105569</td>\n",
       "      <td>1.267923</td>\n",
       "      <td>0.894817</td>\n",
       "      <td>24.187894</td>\n",
       "      <td>1609.550770</td>\n",
       "      <td>3.901550</td>\n",
       "      <td>0.072985</td>\n",
       "    </tr>\n",
       "    <tr>\n",
       "      <th>min</th>\n",
       "      <td>0.000000</td>\n",
       "      <td>0.000000</td>\n",
       "      <td>0.000000</td>\n",
       "      <td>0.000000</td>\n",
       "      <td>0.000000</td>\n",
       "      <td>0.000000</td>\n",
       "      <td>0.000000</td>\n",
       "      <td>0.000000</td>\n",
       "      <td>8.000000</td>\n",
       "      <td>20.000000</td>\n",
       "      <td>1.000000</td>\n",
       "      <td>0.003235</td>\n",
       "    </tr>\n",
       "    <tr>\n",
       "      <th>25%</th>\n",
       "      <td>0.000000</td>\n",
       "      <td>0.000000</td>\n",
       "      <td>0.000000</td>\n",
       "      <td>0.000000</td>\n",
       "      <td>10.000000</td>\n",
       "      <td>8.000000</td>\n",
       "      <td>0.000000</td>\n",
       "      <td>0.000000</td>\n",
       "      <td>63.000000</td>\n",
       "      <td>1289.000000</td>\n",
       "      <td>10.000000</td>\n",
       "      <td>0.023329</td>\n",
       "    </tr>\n",
       "    <tr>\n",
       "      <th>50%</th>\n",
       "      <td>0.000000</td>\n",
       "      <td>0.000000</td>\n",
       "      <td>0.000000</td>\n",
       "      <td>0.000000</td>\n",
       "      <td>18.000000</td>\n",
       "      <td>17.000000</td>\n",
       "      <td>0.000000</td>\n",
       "      <td>0.000000</td>\n",
       "      <td>73.000000</td>\n",
       "      <td>2199.000000</td>\n",
       "      <td>11.000000</td>\n",
       "      <td>0.034515</td>\n",
       "    </tr>\n",
       "    <tr>\n",
       "      <th>75%</th>\n",
       "      <td>0.000000</td>\n",
       "      <td>0.000000</td>\n",
       "      <td>0.000000</td>\n",
       "      <td>0.000000</td>\n",
       "      <td>27.000000</td>\n",
       "      <td>26.000000</td>\n",
       "      <td>1.000000</td>\n",
       "      <td>0.000000</td>\n",
       "      <td>90.000000</td>\n",
       "      <td>3078.000000</td>\n",
       "      <td>14.000000</td>\n",
       "      <td>0.060606</td>\n",
       "    </tr>\n",
       "    <tr>\n",
       "      <th>max</th>\n",
       "      <td>3.000000</td>\n",
       "      <td>2.000000</td>\n",
       "      <td>1.000000</td>\n",
       "      <td>1.000000</td>\n",
       "      <td>111.000000</td>\n",
       "      <td>118.000000</td>\n",
       "      <td>9.000000</td>\n",
       "      <td>7.000000</td>\n",
       "      <td>206.000000</td>\n",
       "      <td>12985.000000</td>\n",
       "      <td>32.000000</td>\n",
       "      <td>0.750000</td>\n",
       "    </tr>\n",
       "  </tbody>\n",
       "</table>\n",
       "</div>"
      ]
     },
     "metadata": {},
     "execution_count": 28
    }
   ],
   "metadata": {
    "execution": {
     "iopub.execute_input": "2021-02-25T12:19:02.809639Z",
     "iopub.status.busy": "2021-02-25T12:19:02.808538Z",
     "iopub.status.idle": "2021-02-25T12:19:02.862245Z",
     "shell.execute_reply": "2021-02-25T12:19:02.861680Z"
    },
    "papermill": {
     "duration": 0.110333,
     "end_time": "2021-02-25T12:19:02.862406",
     "exception": false,
     "start_time": "2021-02-25T12:19:02.752073",
     "status": "completed"
    },
    "tags": []
   }
  },
  {
   "cell_type": "code",
   "execution_count": 29,
   "source": [
    "import seaborn as sns\r\n",
    "fig, ax = plt.subplots(figsize=(8,6))\r\n",
    "sns.heatmap(np.abs(X_train_punct_len.corr()), annot=True)\r\n",
    "plt.savefig('correlation')\r\n",
    "plt.show()"
   ],
   "outputs": [
    {
     "output_type": "display_data",
     "data": {
      "text/plain": [
       "<Figure size 576x432 with 2 Axes>"
      ],
      "image/svg+xml": "<?xml version=\"1.0\" encoding=\"utf-8\" standalone=\"no\"?>\r\n<!DOCTYPE svg PUBLIC \"-//W3C//DTD SVG 1.1//EN\"\r\n  \"http://www.w3.org/Graphics/SVG/1.1/DTD/svg11.dtd\">\r\n<svg height=\"433.115469pt\" version=\"1.1\" viewBox=\"0 0 521.807375 433.115469\" width=\"521.807375pt\" xmlns=\"http://www.w3.org/2000/svg\" xmlns:xlink=\"http://www.w3.org/1999/xlink\">\r\n <metadata>\r\n  <rdf:RDF xmlns:cc=\"http://creativecommons.org/ns#\" xmlns:dc=\"http://purl.org/dc/elements/1.1/\" xmlns:rdf=\"http://www.w3.org/1999/02/22-rdf-syntax-ns#\">\r\n   <cc:Work>\r\n    <dc:type rdf:resource=\"http://purl.org/dc/dcmitype/StillImage\"/>\r\n    <dc:date>2021-08-21T20:23:21.830423</dc:date>\r\n    <dc:format>image/svg+xml</dc:format>\r\n    <dc:creator>\r\n     <cc:Agent>\r\n      <dc:title>Matplotlib v3.4.3, https://matplotlib.org/</dc:title>\r\n     </cc:Agent>\r\n    </dc:creator>\r\n   </cc:Work>\r\n  </rdf:RDF>\r\n </metadata>\r\n <defs>\r\n  <style type=\"text/css\">*{stroke-linecap:butt;stroke-linejoin:round;}</style>\r\n </defs>\r\n <g id=\"figure_1\">\r\n  <g id=\"patch_1\">\r\n   <path d=\"M 0 433.115469 \r\nL 521.807375 433.115469 \r\nL 521.807375 -0 \r\nL 0 -0 \r\nz\r\n\" style=\"fill:none;\"/>\r\n  </g>\r\n  <g id=\"axes_1\">\r\n   <g id=\"patch_2\">\r\n    <path d=\"M 95.95625 337.159219 \r\nL 453.07625 337.159219 \r\nL 453.07625 10.999219 \r\nL 95.95625 10.999219 \r\nz\r\n\" style=\"fill:#ffffff;\"/>\r\n   </g>\r\n   <g id=\"QuadMesh_1\">\r\n    <path clip-path=\"url(#p26385fe748)\" d=\"M 95.95625 10.999219 \r\nL 125.71625 10.999219 \r\nL 125.71625 38.179219 \r\nL 95.95625 38.179219 \r\nL 95.95625 10.999219 \r\n\" style=\"fill:#faebdd;\"/>\r\n    <path clip-path=\"url(#p26385fe748)\" d=\"M 125.71625 10.999219 \r\nL 155.47625 10.999219 \r\nL 155.47625 38.179219 \r\nL 125.71625 38.179219 \r\nL 125.71625 10.999219 \r\n\" style=\"fill:#03051a;\"/>\r\n    <path clip-path=\"url(#p26385fe748)\" d=\"M 155.47625 10.999219 \r\nL 185.23625 10.999219 \r\nL 185.23625 38.179219 \r\nL 155.47625 38.179219 \r\nL 155.47625 10.999219 \r\n\" style=\"fill:#0e0b22;\"/>\r\n    <path clip-path=\"url(#p26385fe748)\" d=\"M 185.23625 10.999219 \r\nL 214.99625 10.999219 \r\nL 214.99625 38.179219 \r\nL 185.23625 38.179219 \r\nL 185.23625 10.999219 \r\n\" style=\"fill:#180f29;\"/>\r\n    <path clip-path=\"url(#p26385fe748)\" d=\"M 214.99625 10.999219 \r\nL 244.75625 10.999219 \r\nL 244.75625 38.179219 \r\nL 214.99625 38.179219 \r\nL 214.99625 10.999219 \r\n\" style=\"fill:#241432;\"/>\r\n    <path clip-path=\"url(#p26385fe748)\" d=\"M 244.75625 10.999219 \r\nL 274.51625 10.999219 \r\nL 274.51625 38.179219 \r\nL 244.75625 38.179219 \r\nL 244.75625 10.999219 \r\n\" style=\"fill:#03051a;\"/>\r\n    <path clip-path=\"url(#p26385fe748)\" d=\"M 274.51625 10.999219 \r\nL 304.27625 10.999219 \r\nL 304.27625 38.179219 \r\nL 274.51625 38.179219 \r\nL 274.51625 10.999219 \r\n\" style=\"fill:#221331;\"/>\r\n    <path clip-path=\"url(#p26385fe748)\" d=\"M 304.27625 10.999219 \r\nL 334.03625 10.999219 \r\nL 334.03625 38.179219 \r\nL 304.27625 38.179219 \r\nL 304.27625 10.999219 \r\n\" style=\"fill:#241432;\"/>\r\n    <path clip-path=\"url(#p26385fe748)\" d=\"M 334.03625 10.999219 \r\nL 363.79625 10.999219 \r\nL 363.79625 38.179219 \r\nL 334.03625 38.179219 \r\nL 334.03625 10.999219 \r\n\" style=\"fill:#2a1636;\"/>\r\n    <path clip-path=\"url(#p26385fe748)\" d=\"M 363.79625 10.999219 \r\nL 393.55625 10.999219 \r\nL 393.55625 38.179219 \r\nL 363.79625 38.179219 \r\nL 363.79625 10.999219 \r\n\" style=\"fill:#04051a;\"/>\r\n    <path clip-path=\"url(#p26385fe748)\" d=\"M 393.55625 10.999219 \r\nL 423.31625 10.999219 \r\nL 423.31625 38.179219 \r\nL 393.55625 38.179219 \r\nL 393.55625 10.999219 \r\n\" style=\"fill:#251433;\"/>\r\n    <path clip-path=\"url(#p26385fe748)\" d=\"M 423.31625 10.999219 \r\nL 453.07625 10.999219 \r\nL 453.07625 38.179219 \r\nL 423.31625 38.179219 \r\nL 423.31625 10.999219 \r\n\" style=\"fill:#0a091f;\"/>\r\n    <path clip-path=\"url(#p26385fe748)\" d=\"M 95.95625 38.179219 \r\nL 125.71625 38.179219 \r\nL 125.71625 65.359219 \r\nL 95.95625 65.359219 \r\nL 95.95625 38.179219 \r\n\" style=\"fill:#03051a;\"/>\r\n    <path clip-path=\"url(#p26385fe748)\" d=\"M 125.71625 38.179219 \r\nL 155.47625 38.179219 \r\nL 155.47625 65.359219 \r\nL 125.71625 65.359219 \r\nL 125.71625 38.179219 \r\n\" style=\"fill:#faebdd;\"/>\r\n    <path clip-path=\"url(#p26385fe748)\" d=\"M 155.47625 38.179219 \r\nL 185.23625 38.179219 \r\nL 185.23625 65.359219 \r\nL 155.47625 65.359219 \r\nL 155.47625 38.179219 \r\n\" style=\"fill:#04051a;\"/>\r\n    <path clip-path=\"url(#p26385fe748)\" d=\"M 185.23625 38.179219 \r\nL 214.99625 38.179219 \r\nL 214.99625 65.359219 \r\nL 185.23625 65.359219 \r\nL 185.23625 38.179219 \r\n\" style=\"fill:#0d0a21;\"/>\r\n    <path clip-path=\"url(#p26385fe748)\" d=\"M 214.99625 38.179219 \r\nL 244.75625 38.179219 \r\nL 244.75625 65.359219 \r\nL 214.99625 65.359219 \r\nL 214.99625 38.179219 \r\n\" style=\"fill:#1b112b;\"/>\r\n    <path clip-path=\"url(#p26385fe748)\" d=\"M 244.75625 38.179219 \r\nL 274.51625 38.179219 \r\nL 274.51625 65.359219 \r\nL 244.75625 65.359219 \r\nL 244.75625 38.179219 \r\n\" style=\"fill:#211330;\"/>\r\n    <path clip-path=\"url(#p26385fe748)\" d=\"M 274.51625 38.179219 \r\nL 304.27625 38.179219 \r\nL 304.27625 65.359219 \r\nL 274.51625 65.359219 \r\nL 274.51625 38.179219 \r\n\" style=\"fill:#05061b;\"/>\r\n    <path clip-path=\"url(#p26385fe748)\" d=\"M 304.27625 38.179219 \r\nL 334.03625 38.179219 \r\nL 334.03625 65.359219 \r\nL 304.27625 65.359219 \r\nL 304.27625 38.179219 \r\n\" style=\"fill:#03051a;\"/>\r\n    <path clip-path=\"url(#p26385fe748)\" d=\"M 334.03625 38.179219 \r\nL 363.79625 38.179219 \r\nL 363.79625 65.359219 \r\nL 334.03625 65.359219 \r\nL 334.03625 38.179219 \r\n\" style=\"fill:#1a102a;\"/>\r\n    <path clip-path=\"url(#p26385fe748)\" d=\"M 363.79625 38.179219 \r\nL 393.55625 38.179219 \r\nL 393.55625 65.359219 \r\nL 363.79625 65.359219 \r\nL 363.79625 38.179219 \r\n\" style=\"fill:#1b112b;\"/>\r\n    <path clip-path=\"url(#p26385fe748)\" d=\"M 393.55625 38.179219 \r\nL 423.31625 38.179219 \r\nL 423.31625 65.359219 \r\nL 393.55625 65.359219 \r\nL 393.55625 38.179219 \r\n\" style=\"fill:#170f28;\"/>\r\n    <path clip-path=\"url(#p26385fe748)\" d=\"M 423.31625 38.179219 \r\nL 453.07625 38.179219 \r\nL 453.07625 65.359219 \r\nL 423.31625 65.359219 \r\nL 423.31625 38.179219 \r\n\" style=\"fill:#0d0a21;\"/>\r\n    <path clip-path=\"url(#p26385fe748)\" d=\"M 95.95625 65.359219 \r\nL 125.71625 65.359219 \r\nL 125.71625 92.539219 \r\nL 95.95625 92.539219 \r\nL 95.95625 65.359219 \r\n\" style=\"fill:#0e0b22;\"/>\r\n    <path clip-path=\"url(#p26385fe748)\" d=\"M 125.71625 65.359219 \r\nL 155.47625 65.359219 \r\nL 155.47625 92.539219 \r\nL 125.71625 92.539219 \r\nL 125.71625 65.359219 \r\n\" style=\"fill:#04051a;\"/>\r\n    <path clip-path=\"url(#p26385fe748)\" d=\"M 155.47625 65.359219 \r\nL 185.23625 65.359219 \r\nL 185.23625 92.539219 \r\nL 155.47625 92.539219 \r\nL 155.47625 65.359219 \r\n\" style=\"fill:#faebdd;\"/>\r\n    <path clip-path=\"url(#p26385fe748)\" d=\"M 185.23625 65.359219 \r\nL 214.99625 65.359219 \r\nL 214.99625 92.539219 \r\nL 185.23625 92.539219 \r\nL 185.23625 65.359219 \r\n\" style=\"fill:#0b0920;\"/>\r\n    <path clip-path=\"url(#p26385fe748)\" d=\"M 214.99625 65.359219 \r\nL 244.75625 65.359219 \r\nL 244.75625 92.539219 \r\nL 214.99625 92.539219 \r\nL 214.99625 65.359219 \r\n\" style=\"fill:#05061b;\"/>\r\n    <path clip-path=\"url(#p26385fe748)\" d=\"M 244.75625 65.359219 \r\nL 274.51625 65.359219 \r\nL 274.51625 92.539219 \r\nL 244.75625 92.539219 \r\nL 244.75625 65.359219 \r\n\" style=\"fill:#06071c;\"/>\r\n    <path clip-path=\"url(#p26385fe748)\" d=\"M 274.51625 65.359219 \r\nL 304.27625 65.359219 \r\nL 304.27625 92.539219 \r\nL 274.51625 92.539219 \r\nL 274.51625 65.359219 \r\n\" style=\"fill:#31183b;\"/>\r\n    <path clip-path=\"url(#p26385fe748)\" d=\"M 304.27625 65.359219 \r\nL 334.03625 65.359219 \r\nL 334.03625 92.539219 \r\nL 304.27625 92.539219 \r\nL 304.27625 65.359219 \r\n\" style=\"fill:#130d25;\"/>\r\n    <path clip-path=\"url(#p26385fe748)\" d=\"M 334.03625 65.359219 \r\nL 363.79625 65.359219 \r\nL 363.79625 92.539219 \r\nL 334.03625 92.539219 \r\nL 334.03625 65.359219 \r\n\" style=\"fill:#31183b;\"/>\r\n    <path clip-path=\"url(#p26385fe748)\" d=\"M 363.79625 65.359219 \r\nL 393.55625 65.359219 \r\nL 393.55625 92.539219 \r\nL 363.79625 92.539219 \r\nL 363.79625 65.359219 \r\n\" style=\"fill:#0a091f;\"/>\r\n    <path clip-path=\"url(#p26385fe748)\" d=\"M 393.55625 65.359219 \r\nL 423.31625 65.359219 \r\nL 423.31625 92.539219 \r\nL 393.55625 92.539219 \r\nL 393.55625 65.359219 \r\n\" style=\"fill:#35193e;\"/>\r\n    <path clip-path=\"url(#p26385fe748)\" d=\"M 423.31625 65.359219 \r\nL 453.07625 65.359219 \r\nL 453.07625 92.539219 \r\nL 423.31625 92.539219 \r\nL 423.31625 65.359219 \r\n\" style=\"fill:#130d25;\"/>\r\n    <path clip-path=\"url(#p26385fe748)\" d=\"M 95.95625 92.539219 \r\nL 125.71625 92.539219 \r\nL 125.71625 119.719219 \r\nL 95.95625 119.719219 \r\nL 95.95625 92.539219 \r\n\" style=\"fill:#180f29;\"/>\r\n    <path clip-path=\"url(#p26385fe748)\" d=\"M 125.71625 92.539219 \r\nL 155.47625 92.539219 \r\nL 155.47625 119.719219 \r\nL 125.71625 119.719219 \r\nL 125.71625 92.539219 \r\n\" style=\"fill:#0d0a21;\"/>\r\n    <path clip-path=\"url(#p26385fe748)\" d=\"M 155.47625 92.539219 \r\nL 185.23625 92.539219 \r\nL 185.23625 119.719219 \r\nL 155.47625 119.719219 \r\nL 155.47625 92.539219 \r\n\" style=\"fill:#0b0920;\"/>\r\n    <path clip-path=\"url(#p26385fe748)\" d=\"M 185.23625 92.539219 \r\nL 214.99625 92.539219 \r\nL 214.99625 119.719219 \r\nL 185.23625 119.719219 \r\nL 185.23625 92.539219 \r\n\" style=\"fill:#faebdd;\"/>\r\n    <path clip-path=\"url(#p26385fe748)\" d=\"M 214.99625 92.539219 \r\nL 244.75625 92.539219 \r\nL 244.75625 119.719219 \r\nL 214.99625 119.719219 \r\nL 214.99625 92.539219 \r\n\" style=\"fill:#1d112c;\"/>\r\n    <path clip-path=\"url(#p26385fe748)\" d=\"M 244.75625 92.539219 \r\nL 274.51625 92.539219 \r\nL 274.51625 119.719219 \r\nL 244.75625 119.719219 \r\nL 244.75625 92.539219 \r\n\" style=\"fill:#1b112b;\"/>\r\n    <path clip-path=\"url(#p26385fe748)\" d=\"M 274.51625 92.539219 \r\nL 304.27625 92.539219 \r\nL 304.27625 119.719219 \r\nL 274.51625 119.719219 \r\nL 274.51625 92.539219 \r\n\" style=\"fill:#180f29;\"/>\r\n    <path clip-path=\"url(#p26385fe748)\" d=\"M 304.27625 92.539219 \r\nL 334.03625 92.539219 \r\nL 334.03625 119.719219 \r\nL 304.27625 119.719219 \r\nL 304.27625 92.539219 \r\n\" style=\"fill:#431c46;\"/>\r\n    <path clip-path=\"url(#p26385fe748)\" d=\"M 334.03625 92.539219 \r\nL 363.79625 92.539219 \r\nL 363.79625 119.719219 \r\nL 334.03625 119.719219 \r\nL 334.03625 92.539219 \r\n\" style=\"fill:#5c1e51;\"/>\r\n    <path clip-path=\"url(#p26385fe748)\" d=\"M 363.79625 92.539219 \r\nL 393.55625 92.539219 \r\nL 393.55625 119.719219 \r\nL 363.79625 119.719219 \r\nL 363.79625 92.539219 \r\n\" style=\"fill:#1b112b;\"/>\r\n    <path clip-path=\"url(#p26385fe748)\" d=\"M 393.55625 92.539219 \r\nL 423.31625 92.539219 \r\nL 423.31625 119.719219 \r\nL 393.55625 119.719219 \r\nL 393.55625 92.539219 \r\n\" style=\"fill:#561e4f;\"/>\r\n    <path clip-path=\"url(#p26385fe748)\" d=\"M 423.31625 92.539219 \r\nL 453.07625 92.539219 \r\nL 453.07625 119.719219 \r\nL 423.31625 119.719219 \r\nL 423.31625 92.539219 \r\n\" style=\"fill:#491d49;\"/>\r\n    <path clip-path=\"url(#p26385fe748)\" d=\"M 95.95625 119.719219 \r\nL 125.71625 119.719219 \r\nL 125.71625 146.899219 \r\nL 95.95625 146.899219 \r\nL 95.95625 119.719219 \r\n\" style=\"fill:#241432;\"/>\r\n    <path clip-path=\"url(#p26385fe748)\" d=\"M 125.71625 119.719219 \r\nL 155.47625 119.719219 \r\nL 155.47625 146.899219 \r\nL 125.71625 146.899219 \r\nL 125.71625 119.719219 \r\n\" style=\"fill:#1b112b;\"/>\r\n    <path clip-path=\"url(#p26385fe748)\" d=\"M 155.47625 119.719219 \r\nL 185.23625 119.719219 \r\nL 185.23625 146.899219 \r\nL 155.47625 146.899219 \r\nL 155.47625 119.719219 \r\n\" style=\"fill:#05061b;\"/>\r\n    <path clip-path=\"url(#p26385fe748)\" d=\"M 185.23625 119.719219 \r\nL 214.99625 119.719219 \r\nL 214.99625 146.899219 \r\nL 185.23625 146.899219 \r\nL 185.23625 119.719219 \r\n\" style=\"fill:#1d112c;\"/>\r\n    <path clip-path=\"url(#p26385fe748)\" d=\"M 214.99625 119.719219 \r\nL 244.75625 119.719219 \r\nL 244.75625 146.899219 \r\nL 214.99625 146.899219 \r\nL 214.99625 119.719219 \r\n\" style=\"fill:#faebdd;\"/>\r\n    <path clip-path=\"url(#p26385fe748)\" d=\"M 244.75625 119.719219 \r\nL 274.51625 119.719219 \r\nL 274.51625 146.899219 \r\nL 244.75625 146.899219 \r\nL 244.75625 119.719219 \r\n\" style=\"fill:#f6b089;\"/>\r\n    <path clip-path=\"url(#p26385fe748)\" d=\"M 274.51625 119.719219 \r\nL 304.27625 119.719219 \r\nL 304.27625 146.899219 \r\nL 274.51625 146.899219 \r\nL 274.51625 119.719219 \r\n\" style=\"fill:#491d49;\"/>\r\n    <path clip-path=\"url(#p26385fe748)\" d=\"M 304.27625 119.719219 \r\nL 334.03625 119.719219 \r\nL 334.03625 146.899219 \r\nL 304.27625 146.899219 \r\nL 304.27625 119.719219 \r\n\" style=\"fill:#110c24;\"/>\r\n    <path clip-path=\"url(#p26385fe748)\" d=\"M 334.03625 119.719219 \r\nL 363.79625 119.719219 \r\nL 363.79625 146.899219 \r\nL 334.03625 146.899219 \r\nL 334.03625 119.719219 \r\n\" style=\"fill:#05061b;\"/>\r\n    <path clip-path=\"url(#p26385fe748)\" d=\"M 363.79625 119.719219 \r\nL 393.55625 119.719219 \r\nL 393.55625 146.899219 \r\nL 363.79625 146.899219 \r\nL 363.79625 119.719219 \r\n\" style=\"fill:#f7caac;\"/>\r\n    <path clip-path=\"url(#p26385fe748)\" d=\"M 393.55625 119.719219 \r\nL 423.31625 119.719219 \r\nL 423.31625 146.899219 \r\nL 393.55625 146.899219 \r\nL 393.55625 119.719219 \r\n\" style=\"fill:#07071d;\"/>\r\n    <path clip-path=\"url(#p26385fe748)\" d=\"M 423.31625 119.719219 \r\nL 453.07625 119.719219 \r\nL 453.07625 146.899219 \r\nL 423.31625 146.899219 \r\nL 423.31625 119.719219 \r\n\" style=\"fill:#cb1b4f;\"/>\r\n    <path clip-path=\"url(#p26385fe748)\" d=\"M 95.95625 146.899219 \r\nL 125.71625 146.899219 \r\nL 125.71625 174.079219 \r\nL 95.95625 174.079219 \r\nL 95.95625 146.899219 \r\n\" style=\"fill:#03051a;\"/>\r\n    <path clip-path=\"url(#p26385fe748)\" d=\"M 125.71625 146.899219 \r\nL 155.47625 146.899219 \r\nL 155.47625 174.079219 \r\nL 125.71625 174.079219 \r\nL 125.71625 146.899219 \r\n\" style=\"fill:#211330;\"/>\r\n    <path clip-path=\"url(#p26385fe748)\" d=\"M 155.47625 146.899219 \r\nL 185.23625 146.899219 \r\nL 185.23625 174.079219 \r\nL 155.47625 174.079219 \r\nL 155.47625 146.899219 \r\n\" style=\"fill:#06071c;\"/>\r\n    <path clip-path=\"url(#p26385fe748)\" d=\"M 185.23625 146.899219 \r\nL 214.99625 146.899219 \r\nL 214.99625 174.079219 \r\nL 185.23625 174.079219 \r\nL 185.23625 146.899219 \r\n\" style=\"fill:#1b112b;\"/>\r\n    <path clip-path=\"url(#p26385fe748)\" d=\"M 214.99625 146.899219 \r\nL 244.75625 146.899219 \r\nL 244.75625 174.079219 \r\nL 214.99625 174.079219 \r\nL 214.99625 146.899219 \r\n\" style=\"fill:#f6b089;\"/>\r\n    <path clip-path=\"url(#p26385fe748)\" d=\"M 244.75625 146.899219 \r\nL 274.51625 146.899219 \r\nL 274.51625 174.079219 \r\nL 244.75625 174.079219 \r\nL 244.75625 146.899219 \r\n\" style=\"fill:#faebdd;\"/>\r\n    <path clip-path=\"url(#p26385fe748)\" d=\"M 274.51625 146.899219 \r\nL 304.27625 146.899219 \r\nL 304.27625 174.079219 \r\nL 274.51625 174.079219 \r\nL 274.51625 146.899219 \r\n\" style=\"fill:#4b1d4a;\"/>\r\n    <path clip-path=\"url(#p26385fe748)\" d=\"M 304.27625 146.899219 \r\nL 334.03625 146.899219 \r\nL 334.03625 174.079219 \r\nL 304.27625 174.079219 \r\nL 304.27625 146.899219 \r\n\" style=\"fill:#08081e;\"/>\r\n    <path clip-path=\"url(#p26385fe748)\" d=\"M 334.03625 146.899219 \r\nL 363.79625 146.899219 \r\nL 363.79625 174.079219 \r\nL 334.03625 174.079219 \r\nL 334.03625 146.899219 \r\n\" style=\"fill:#08081e;\"/>\r\n    <path clip-path=\"url(#p26385fe748)\" d=\"M 363.79625 146.899219 \r\nL 393.55625 146.899219 \r\nL 393.55625 174.079219 \r\nL 363.79625 174.079219 \r\nL 363.79625 146.899219 \r\n\" style=\"fill:#f7ccaf;\"/>\r\n    <path clip-path=\"url(#p26385fe748)\" d=\"M 393.55625 146.899219 \r\nL 423.31625 146.899219 \r\nL 423.31625 174.079219 \r\nL 393.55625 174.079219 \r\nL 393.55625 146.899219 \r\n\" style=\"fill:#0b0920;\"/>\r\n    <path clip-path=\"url(#p26385fe748)\" d=\"M 423.31625 146.899219 \r\nL 453.07625 146.899219 \r\nL 453.07625 174.079219 \r\nL 423.31625 174.079219 \r\nL 423.31625 146.899219 \r\n\" style=\"fill:#c51852;\"/>\r\n    <path clip-path=\"url(#p26385fe748)\" d=\"M 95.95625 174.079219 \r\nL 125.71625 174.079219 \r\nL 125.71625 201.259219 \r\nL 95.95625 201.259219 \r\nL 95.95625 174.079219 \r\n\" style=\"fill:#221331;\"/>\r\n    <path clip-path=\"url(#p26385fe748)\" d=\"M 125.71625 174.079219 \r\nL 155.47625 174.079219 \r\nL 155.47625 201.259219 \r\nL 125.71625 201.259219 \r\nL 125.71625 174.079219 \r\n\" style=\"fill:#05061b;\"/>\r\n    <path clip-path=\"url(#p26385fe748)\" d=\"M 155.47625 174.079219 \r\nL 185.23625 174.079219 \r\nL 185.23625 201.259219 \r\nL 155.47625 201.259219 \r\nL 155.47625 174.079219 \r\n\" style=\"fill:#31183b;\"/>\r\n    <path clip-path=\"url(#p26385fe748)\" d=\"M 185.23625 174.079219 \r\nL 214.99625 174.079219 \r\nL 214.99625 201.259219 \r\nL 185.23625 201.259219 \r\nL 185.23625 174.079219 \r\n\" style=\"fill:#180f29;\"/>\r\n    <path clip-path=\"url(#p26385fe748)\" d=\"M 214.99625 174.079219 \r\nL 244.75625 174.079219 \r\nL 244.75625 201.259219 \r\nL 214.99625 201.259219 \r\nL 214.99625 174.079219 \r\n\" style=\"fill:#491d49;\"/>\r\n    <path clip-path=\"url(#p26385fe748)\" d=\"M 244.75625 174.079219 \r\nL 274.51625 174.079219 \r\nL 274.51625 201.259219 \r\nL 244.75625 201.259219 \r\nL 244.75625 174.079219 \r\n\" style=\"fill:#4b1d4a;\"/>\r\n    <path clip-path=\"url(#p26385fe748)\" d=\"M 274.51625 174.079219 \r\nL 304.27625 174.079219 \r\nL 304.27625 201.259219 \r\nL 274.51625 201.259219 \r\nL 274.51625 174.079219 \r\n\" style=\"fill:#faebdd;\"/>\r\n    <path clip-path=\"url(#p26385fe748)\" d=\"M 304.27625 174.079219 \r\nL 334.03625 174.079219 \r\nL 334.03625 201.259219 \r\nL 304.27625 201.259219 \r\nL 304.27625 174.079219 \r\n\" style=\"fill:#661f54;\"/>\r\n    <path clip-path=\"url(#p26385fe748)\" d=\"M 334.03625 174.079219 \r\nL 363.79625 174.079219 \r\nL 363.79625 201.259219 \r\nL 334.03625 201.259219 \r\nL 334.03625 174.079219 \r\n\" style=\"fill:#631f53;\"/>\r\n    <path clip-path=\"url(#p26385fe748)\" d=\"M 363.79625 174.079219 \r\nL 393.55625 174.079219 \r\nL 393.55625 201.259219 \r\nL 363.79625 201.259219 \r\nL 363.79625 174.079219 \r\n\" style=\"fill:#541e4e;\"/>\r\n    <path clip-path=\"url(#p26385fe748)\" d=\"M 393.55625 174.079219 \r\nL 423.31625 174.079219 \r\nL 423.31625 201.259219 \r\nL 393.55625 201.259219 \r\nL 393.55625 174.079219 \r\n\" style=\"fill:#661f54;\"/>\r\n    <path clip-path=\"url(#p26385fe748)\" d=\"M 423.31625 174.079219 \r\nL 453.07625 174.079219 \r\nL 453.07625 201.259219 \r\nL 423.31625 201.259219 \r\nL 423.31625 174.079219 \r\n\" style=\"fill:#241432;\"/>\r\n    <path clip-path=\"url(#p26385fe748)\" d=\"M 95.95625 201.259219 \r\nL 125.71625 201.259219 \r\nL 125.71625 228.439219 \r\nL 95.95625 228.439219 \r\nL 95.95625 201.259219 \r\n\" style=\"fill:#241432;\"/>\r\n    <path clip-path=\"url(#p26385fe748)\" d=\"M 125.71625 201.259219 \r\nL 155.47625 201.259219 \r\nL 155.47625 228.439219 \r\nL 125.71625 228.439219 \r\nL 125.71625 201.259219 \r\n\" style=\"fill:#03051a;\"/>\r\n    <path clip-path=\"url(#p26385fe748)\" d=\"M 155.47625 201.259219 \r\nL 185.23625 201.259219 \r\nL 185.23625 228.439219 \r\nL 155.47625 228.439219 \r\nL 155.47625 201.259219 \r\n\" style=\"fill:#130d25;\"/>\r\n    <path clip-path=\"url(#p26385fe748)\" d=\"M 185.23625 201.259219 \r\nL 214.99625 201.259219 \r\nL 214.99625 228.439219 \r\nL 185.23625 228.439219 \r\nL 185.23625 201.259219 \r\n\" style=\"fill:#431c46;\"/>\r\n    <path clip-path=\"url(#p26385fe748)\" d=\"M 214.99625 201.259219 \r\nL 244.75625 201.259219 \r\nL 244.75625 228.439219 \r\nL 214.99625 228.439219 \r\nL 214.99625 201.259219 \r\n\" style=\"fill:#110c24;\"/>\r\n    <path clip-path=\"url(#p26385fe748)\" d=\"M 244.75625 201.259219 \r\nL 274.51625 201.259219 \r\nL 274.51625 228.439219 \r\nL 244.75625 228.439219 \r\nL 244.75625 201.259219 \r\n\" style=\"fill:#08081e;\"/>\r\n    <path clip-path=\"url(#p26385fe748)\" d=\"M 274.51625 201.259219 \r\nL 304.27625 201.259219 \r\nL 304.27625 228.439219 \r\nL 274.51625 228.439219 \r\nL 274.51625 201.259219 \r\n\" style=\"fill:#661f54;\"/>\r\n    <path clip-path=\"url(#p26385fe748)\" d=\"M 304.27625 201.259219 \r\nL 334.03625 201.259219 \r\nL 334.03625 228.439219 \r\nL 304.27625 228.439219 \r\nL 304.27625 201.259219 \r\n\" style=\"fill:#faebdd;\"/>\r\n    <path clip-path=\"url(#p26385fe748)\" d=\"M 334.03625 201.259219 \r\nL 363.79625 201.259219 \r\nL 363.79625 228.439219 \r\nL 334.03625 228.439219 \r\nL 334.03625 201.259219 \r\n\" style=\"fill:#451c47;\"/>\r\n    <path clip-path=\"url(#p26385fe748)\" d=\"M 363.79625 201.259219 \r\nL 393.55625 201.259219 \r\nL 393.55625 228.439219 \r\nL 363.79625 228.439219 \r\nL 363.79625 201.259219 \r\n\" style=\"fill:#0e0b22;\"/>\r\n    <path clip-path=\"url(#p26385fe748)\" d=\"M 393.55625 201.259219 \r\nL 423.31625 201.259219 \r\nL 423.31625 228.439219 \r\nL 393.55625 228.439219 \r\nL 393.55625 201.259219 \r\n\" style=\"fill:#461c48;\"/>\r\n    <path clip-path=\"url(#p26385fe748)\" d=\"M 423.31625 201.259219 \r\nL 453.07625 201.259219 \r\nL 453.07625 228.439219 \r\nL 423.31625 228.439219 \r\nL 423.31625 201.259219 \r\n\" style=\"fill:#04051a;\"/>\r\n    <path clip-path=\"url(#p26385fe748)\" d=\"M 95.95625 228.439219 \r\nL 125.71625 228.439219 \r\nL 125.71625 255.619219 \r\nL 95.95625 255.619219 \r\nL 95.95625 228.439219 \r\n\" style=\"fill:#2a1636;\"/>\r\n    <path clip-path=\"url(#p26385fe748)\" d=\"M 125.71625 228.439219 \r\nL 155.47625 228.439219 \r\nL 155.47625 255.619219 \r\nL 125.71625 255.619219 \r\nL 125.71625 228.439219 \r\n\" style=\"fill:#1a102a;\"/>\r\n    <path clip-path=\"url(#p26385fe748)\" d=\"M 155.47625 228.439219 \r\nL 185.23625 228.439219 \r\nL 185.23625 255.619219 \r\nL 155.47625 255.619219 \r\nL 155.47625 228.439219 \r\n\" style=\"fill:#31183b;\"/>\r\n    <path clip-path=\"url(#p26385fe748)\" d=\"M 185.23625 228.439219 \r\nL 214.99625 228.439219 \r\nL 214.99625 255.619219 \r\nL 185.23625 255.619219 \r\nL 185.23625 228.439219 \r\n\" style=\"fill:#5c1e51;\"/>\r\n    <path clip-path=\"url(#p26385fe748)\" d=\"M 214.99625 228.439219 \r\nL 244.75625 228.439219 \r\nL 244.75625 255.619219 \r\nL 214.99625 255.619219 \r\nL 214.99625 228.439219 \r\n\" style=\"fill:#05061b;\"/>\r\n    <path clip-path=\"url(#p26385fe748)\" d=\"M 244.75625 228.439219 \r\nL 274.51625 228.439219 \r\nL 274.51625 255.619219 \r\nL 244.75625 255.619219 \r\nL 244.75625 228.439219 \r\n\" style=\"fill:#08081e;\"/>\r\n    <path clip-path=\"url(#p26385fe748)\" d=\"M 274.51625 228.439219 \r\nL 304.27625 228.439219 \r\nL 304.27625 255.619219 \r\nL 274.51625 255.619219 \r\nL 274.51625 228.439219 \r\n\" style=\"fill:#631f53;\"/>\r\n    <path clip-path=\"url(#p26385fe748)\" d=\"M 304.27625 228.439219 \r\nL 334.03625 228.439219 \r\nL 334.03625 255.619219 \r\nL 304.27625 255.619219 \r\nL 304.27625 228.439219 \r\n\" style=\"fill:#451c47;\"/>\r\n    <path clip-path=\"url(#p26385fe748)\" d=\"M 334.03625 228.439219 \r\nL 363.79625 228.439219 \r\nL 363.79625 255.619219 \r\nL 334.03625 255.619219 \r\nL 334.03625 228.439219 \r\n\" style=\"fill:#faebdd;\"/>\r\n    <path clip-path=\"url(#p26385fe748)\" d=\"M 363.79625 228.439219 \r\nL 393.55625 228.439219 \r\nL 393.55625 255.619219 \r\nL 363.79625 255.619219 \r\nL 363.79625 228.439219 \r\n\" style=\"fill:#100b23;\"/>\r\n    <path clip-path=\"url(#p26385fe748)\" d=\"M 393.55625 228.439219 \r\nL 423.31625 228.439219 \r\nL 423.31625 255.619219 \r\nL 393.55625 255.619219 \r\nL 393.55625 228.439219 \r\n\" style=\"fill:#f8d1b8;\"/>\r\n    <path clip-path=\"url(#p26385fe748)\" d=\"M 423.31625 228.439219 \r\nL 453.07625 228.439219 \r\nL 453.07625 255.619219 \r\nL 423.31625 255.619219 \r\nL 423.31625 228.439219 \r\n\" style=\"fill:#3f1b43;\"/>\r\n    <path clip-path=\"url(#p26385fe748)\" d=\"M 95.95625 255.619219 \r\nL 125.71625 255.619219 \r\nL 125.71625 282.799219 \r\nL 95.95625 282.799219 \r\nL 95.95625 255.619219 \r\n\" style=\"fill:#04051a;\"/>\r\n    <path clip-path=\"url(#p26385fe748)\" d=\"M 125.71625 255.619219 \r\nL 155.47625 255.619219 \r\nL 155.47625 282.799219 \r\nL 125.71625 282.799219 \r\nL 125.71625 255.619219 \r\n\" style=\"fill:#1b112b;\"/>\r\n    <path clip-path=\"url(#p26385fe748)\" d=\"M 155.47625 255.619219 \r\nL 185.23625 255.619219 \r\nL 185.23625 282.799219 \r\nL 155.47625 282.799219 \r\nL 155.47625 255.619219 \r\n\" style=\"fill:#0a091f;\"/>\r\n    <path clip-path=\"url(#p26385fe748)\" d=\"M 185.23625 255.619219 \r\nL 214.99625 255.619219 \r\nL 214.99625 282.799219 \r\nL 185.23625 282.799219 \r\nL 185.23625 255.619219 \r\n\" style=\"fill:#1b112b;\"/>\r\n    <path clip-path=\"url(#p26385fe748)\" d=\"M 214.99625 255.619219 \r\nL 244.75625 255.619219 \r\nL 244.75625 282.799219 \r\nL 214.99625 282.799219 \r\nL 214.99625 255.619219 \r\n\" style=\"fill:#f7caac;\"/>\r\n    <path clip-path=\"url(#p26385fe748)\" d=\"M 244.75625 255.619219 \r\nL 274.51625 255.619219 \r\nL 274.51625 282.799219 \r\nL 244.75625 282.799219 \r\nL 244.75625 255.619219 \r\n\" style=\"fill:#f7ccaf;\"/>\r\n    <path clip-path=\"url(#p26385fe748)\" d=\"M 274.51625 255.619219 \r\nL 304.27625 255.619219 \r\nL 304.27625 282.799219 \r\nL 274.51625 282.799219 \r\nL 274.51625 255.619219 \r\n\" style=\"fill:#541e4e;\"/>\r\n    <path clip-path=\"url(#p26385fe748)\" d=\"M 304.27625 255.619219 \r\nL 334.03625 255.619219 \r\nL 334.03625 282.799219 \r\nL 304.27625 282.799219 \r\nL 304.27625 255.619219 \r\n\" style=\"fill:#0e0b22;\"/>\r\n    <path clip-path=\"url(#p26385fe748)\" d=\"M 334.03625 255.619219 \r\nL 363.79625 255.619219 \r\nL 363.79625 282.799219 \r\nL 334.03625 282.799219 \r\nL 334.03625 255.619219 \r\n\" style=\"fill:#100b23;\"/>\r\n    <path clip-path=\"url(#p26385fe748)\" d=\"M 363.79625 255.619219 \r\nL 393.55625 255.619219 \r\nL 393.55625 282.799219 \r\nL 363.79625 282.799219 \r\nL 363.79625 255.619219 \r\n\" style=\"fill:#faebdd;\"/>\r\n    <path clip-path=\"url(#p26385fe748)\" d=\"M 393.55625 255.619219 \r\nL 423.31625 255.619219 \r\nL 423.31625 282.799219 \r\nL 393.55625 282.799219 \r\nL 393.55625 255.619219 \r\n\" style=\"fill:#0e0b22;\"/>\r\n    <path clip-path=\"url(#p26385fe748)\" d=\"M 423.31625 255.619219 \r\nL 453.07625 255.619219 \r\nL 453.07625 282.799219 \r\nL 423.31625 282.799219 \r\nL 423.31625 255.619219 \r\n\" style=\"fill:#d62449;\"/>\r\n    <path clip-path=\"url(#p26385fe748)\" d=\"M 95.95625 282.799219 \r\nL 125.71625 282.799219 \r\nL 125.71625 309.979219 \r\nL 95.95625 309.979219 \r\nL 95.95625 282.799219 \r\n\" style=\"fill:#251433;\"/>\r\n    <path clip-path=\"url(#p26385fe748)\" d=\"M 125.71625 282.799219 \r\nL 155.47625 282.799219 \r\nL 155.47625 309.979219 \r\nL 125.71625 309.979219 \r\nL 125.71625 282.799219 \r\n\" style=\"fill:#170f28;\"/>\r\n    <path clip-path=\"url(#p26385fe748)\" d=\"M 155.47625 282.799219 \r\nL 185.23625 282.799219 \r\nL 185.23625 309.979219 \r\nL 155.47625 309.979219 \r\nL 155.47625 282.799219 \r\n\" style=\"fill:#35193e;\"/>\r\n    <path clip-path=\"url(#p26385fe748)\" d=\"M 185.23625 282.799219 \r\nL 214.99625 282.799219 \r\nL 214.99625 309.979219 \r\nL 185.23625 309.979219 \r\nL 185.23625 282.799219 \r\n\" style=\"fill:#561e4f;\"/>\r\n    <path clip-path=\"url(#p26385fe748)\" d=\"M 214.99625 282.799219 \r\nL 244.75625 282.799219 \r\nL 244.75625 309.979219 \r\nL 214.99625 309.979219 \r\nL 214.99625 282.799219 \r\n\" style=\"fill:#07071d;\"/>\r\n    <path clip-path=\"url(#p26385fe748)\" d=\"M 244.75625 282.799219 \r\nL 274.51625 282.799219 \r\nL 274.51625 309.979219 \r\nL 244.75625 309.979219 \r\nL 244.75625 282.799219 \r\n\" style=\"fill:#0b0920;\"/>\r\n    <path clip-path=\"url(#p26385fe748)\" d=\"M 274.51625 282.799219 \r\nL 304.27625 282.799219 \r\nL 304.27625 309.979219 \r\nL 274.51625 309.979219 \r\nL 274.51625 282.799219 \r\n\" style=\"fill:#661f54;\"/>\r\n    <path clip-path=\"url(#p26385fe748)\" d=\"M 304.27625 282.799219 \r\nL 334.03625 282.799219 \r\nL 334.03625 309.979219 \r\nL 304.27625 309.979219 \r\nL 304.27625 282.799219 \r\n\" style=\"fill:#461c48;\"/>\r\n    <path clip-path=\"url(#p26385fe748)\" d=\"M 334.03625 282.799219 \r\nL 363.79625 282.799219 \r\nL 363.79625 309.979219 \r\nL 334.03625 309.979219 \r\nL 334.03625 282.799219 \r\n\" style=\"fill:#f8d1b8;\"/>\r\n    <path clip-path=\"url(#p26385fe748)\" d=\"M 363.79625 282.799219 \r\nL 393.55625 282.799219 \r\nL 393.55625 309.979219 \r\nL 363.79625 309.979219 \r\nL 363.79625 282.799219 \r\n\" style=\"fill:#0e0b22;\"/>\r\n    <path clip-path=\"url(#p26385fe748)\" d=\"M 393.55625 282.799219 \r\nL 423.31625 282.799219 \r\nL 423.31625 309.979219 \r\nL 393.55625 309.979219 \r\nL 393.55625 282.799219 \r\n\" style=\"fill:#faebdd;\"/>\r\n    <path clip-path=\"url(#p26385fe748)\" d=\"M 423.31625 282.799219 \r\nL 453.07625 282.799219 \r\nL 453.07625 309.979219 \r\nL 423.31625 309.979219 \r\nL 423.31625 282.799219 \r\n\" style=\"fill:#3a1a41;\"/>\r\n    <path clip-path=\"url(#p26385fe748)\" d=\"M 95.95625 309.979219 \r\nL 125.71625 309.979219 \r\nL 125.71625 337.159219 \r\nL 95.95625 337.159219 \r\nL 95.95625 309.979219 \r\n\" style=\"fill:#0a091f;\"/>\r\n    <path clip-path=\"url(#p26385fe748)\" d=\"M 125.71625 309.979219 \r\nL 155.47625 309.979219 \r\nL 155.47625 337.159219 \r\nL 125.71625 337.159219 \r\nL 125.71625 309.979219 \r\n\" style=\"fill:#0d0a21;\"/>\r\n    <path clip-path=\"url(#p26385fe748)\" d=\"M 155.47625 309.979219 \r\nL 185.23625 309.979219 \r\nL 185.23625 337.159219 \r\nL 155.47625 337.159219 \r\nL 155.47625 309.979219 \r\n\" style=\"fill:#130d25;\"/>\r\n    <path clip-path=\"url(#p26385fe748)\" d=\"M 185.23625 309.979219 \r\nL 214.99625 309.979219 \r\nL 214.99625 337.159219 \r\nL 185.23625 337.159219 \r\nL 185.23625 309.979219 \r\n\" style=\"fill:#491d49;\"/>\r\n    <path clip-path=\"url(#p26385fe748)\" d=\"M 214.99625 309.979219 \r\nL 244.75625 309.979219 \r\nL 244.75625 337.159219 \r\nL 214.99625 337.159219 \r\nL 214.99625 309.979219 \r\n\" style=\"fill:#cb1b4f;\"/>\r\n    <path clip-path=\"url(#p26385fe748)\" d=\"M 244.75625 309.979219 \r\nL 274.51625 309.979219 \r\nL 274.51625 337.159219 \r\nL 244.75625 337.159219 \r\nL 244.75625 309.979219 \r\n\" style=\"fill:#c51852;\"/>\r\n    <path clip-path=\"url(#p26385fe748)\" d=\"M 274.51625 309.979219 \r\nL 304.27625 309.979219 \r\nL 304.27625 337.159219 \r\nL 274.51625 337.159219 \r\nL 274.51625 309.979219 \r\n\" style=\"fill:#241432;\"/>\r\n    <path clip-path=\"url(#p26385fe748)\" d=\"M 304.27625 309.979219 \r\nL 334.03625 309.979219 \r\nL 334.03625 337.159219 \r\nL 304.27625 337.159219 \r\nL 304.27625 309.979219 \r\n\" style=\"fill:#04051a;\"/>\r\n    <path clip-path=\"url(#p26385fe748)\" d=\"M 334.03625 309.979219 \r\nL 363.79625 309.979219 \r\nL 363.79625 337.159219 \r\nL 334.03625 337.159219 \r\nL 334.03625 309.979219 \r\n\" style=\"fill:#3f1b43;\"/>\r\n    <path clip-path=\"url(#p26385fe748)\" d=\"M 363.79625 309.979219 \r\nL 393.55625 309.979219 \r\nL 393.55625 337.159219 \r\nL 363.79625 337.159219 \r\nL 363.79625 309.979219 \r\n\" style=\"fill:#d62449;\"/>\r\n    <path clip-path=\"url(#p26385fe748)\" d=\"M 393.55625 309.979219 \r\nL 423.31625 309.979219 \r\nL 423.31625 337.159219 \r\nL 393.55625 337.159219 \r\nL 393.55625 309.979219 \r\n\" style=\"fill:#3a1a41;\"/>\r\n    <path clip-path=\"url(#p26385fe748)\" d=\"M 423.31625 309.979219 \r\nL 453.07625 309.979219 \r\nL 453.07625 337.159219 \r\nL 423.31625 337.159219 \r\nL 423.31625 309.979219 \r\n\" style=\"fill:#faebdd;\"/>\r\n   </g>\r\n   <g id=\"matplotlib.axis_1\">\r\n    <g id=\"xtick_1\">\r\n     <g id=\"line2d_1\">\r\n      <defs>\r\n       <path d=\"M 0 0 \r\nL 0 3.5 \r\n\" id=\"m8f5ec70f6d\" style=\"stroke:#000000;stroke-width:0.8;\"/>\r\n      </defs>\r\n      <g>\r\n       <use style=\"stroke:#000000;stroke-width:0.8;\" x=\"110.83625\" xlink:href=\"#m8f5ec70f6d\" y=\"337.159219\"/>\r\n      </g>\r\n     </g>\r\n     <g id=\"text_1\">\r\n      <!-- peri_title -->\r\n      <g transform=\"translate(113.456563 388.099844)rotate(-90)scale(0.1 -0.1)\">\r\n       <defs>\r\n        <path d=\"M 1159 525 \r\nL 1159 -1331 \r\nL 581 -1331 \r\nL 581 3500 \r\nL 1159 3500 \r\nL 1159 2969 \r\nQ 1341 3281 1617 3432 \r\nQ 1894 3584 2278 3584 \r\nQ 2916 3584 3314 3078 \r\nQ 3713 2572 3713 1747 \r\nQ 3713 922 3314 415 \r\nQ 2916 -91 2278 -91 \r\nQ 1894 -91 1617 61 \r\nQ 1341 213 1159 525 \r\nz\r\nM 3116 1747 \r\nQ 3116 2381 2855 2742 \r\nQ 2594 3103 2138 3103 \r\nQ 1681 3103 1420 2742 \r\nQ 1159 2381 1159 1747 \r\nQ 1159 1113 1420 752 \r\nQ 1681 391 2138 391 \r\nQ 2594 391 2855 752 \r\nQ 3116 1113 3116 1747 \r\nz\r\n\" id=\"DejaVuSans-70\" transform=\"scale(0.015625)\"/>\r\n        <path d=\"M 3597 1894 \r\nL 3597 1613 \r\nL 953 1613 \r\nQ 991 1019 1311 708 \r\nQ 1631 397 2203 397 \r\nQ 2534 397 2845 478 \r\nQ 3156 559 3463 722 \r\nL 3463 178 \r\nQ 3153 47 2828 -22 \r\nQ 2503 -91 2169 -91 \r\nQ 1331 -91 842 396 \r\nQ 353 884 353 1716 \r\nQ 353 2575 817 3079 \r\nQ 1281 3584 2069 3584 \r\nQ 2775 3584 3186 3129 \r\nQ 3597 2675 3597 1894 \r\nz\r\nM 3022 2063 \r\nQ 3016 2534 2758 2815 \r\nQ 2500 3097 2075 3097 \r\nQ 1594 3097 1305 2825 \r\nQ 1016 2553 972 2059 \r\nL 3022 2063 \r\nz\r\n\" id=\"DejaVuSans-65\" transform=\"scale(0.015625)\"/>\r\n        <path d=\"M 2631 2963 \r\nQ 2534 3019 2420 3045 \r\nQ 2306 3072 2169 3072 \r\nQ 1681 3072 1420 2755 \r\nQ 1159 2438 1159 1844 \r\nL 1159 0 \r\nL 581 0 \r\nL 581 3500 \r\nL 1159 3500 \r\nL 1159 2956 \r\nQ 1341 3275 1631 3429 \r\nQ 1922 3584 2338 3584 \r\nQ 2397 3584 2469 3576 \r\nQ 2541 3569 2628 3553 \r\nL 2631 2963 \r\nz\r\n\" id=\"DejaVuSans-72\" transform=\"scale(0.015625)\"/>\r\n        <path d=\"M 603 3500 \r\nL 1178 3500 \r\nL 1178 0 \r\nL 603 0 \r\nL 603 3500 \r\nz\r\nM 603 4863 \r\nL 1178 4863 \r\nL 1178 4134 \r\nL 603 4134 \r\nL 603 4863 \r\nz\r\n\" id=\"DejaVuSans-69\" transform=\"scale(0.015625)\"/>\r\n        <path d=\"M 3263 -1063 \r\nL 3263 -1509 \r\nL -63 -1509 \r\nL -63 -1063 \r\nL 3263 -1063 \r\nz\r\n\" id=\"DejaVuSans-5f\" transform=\"scale(0.015625)\"/>\r\n        <path d=\"M 1172 4494 \r\nL 1172 3500 \r\nL 2356 3500 \r\nL 2356 3053 \r\nL 1172 3053 \r\nL 1172 1153 \r\nQ 1172 725 1289 603 \r\nQ 1406 481 1766 481 \r\nL 2356 481 \r\nL 2356 0 \r\nL 1766 0 \r\nQ 1100 0 847 248 \r\nQ 594 497 594 1153 \r\nL 594 3053 \r\nL 172 3053 \r\nL 172 3500 \r\nL 594 3500 \r\nL 594 4494 \r\nL 1172 4494 \r\nz\r\n\" id=\"DejaVuSans-74\" transform=\"scale(0.015625)\"/>\r\n        <path d=\"M 603 4863 \r\nL 1178 4863 \r\nL 1178 0 \r\nL 603 0 \r\nL 603 4863 \r\nz\r\n\" id=\"DejaVuSans-6c\" transform=\"scale(0.015625)\"/>\r\n       </defs>\r\n       <use xlink:href=\"#DejaVuSans-70\"/>\r\n       <use x=\"63.476562\" xlink:href=\"#DejaVuSans-65\"/>\r\n       <use x=\"125\" xlink:href=\"#DejaVuSans-72\"/>\r\n       <use x=\"166.113281\" xlink:href=\"#DejaVuSans-69\"/>\r\n       <use x=\"193.896484\" xlink:href=\"#DejaVuSans-5f\"/>\r\n       <use x=\"243.896484\" xlink:href=\"#DejaVuSans-74\"/>\r\n       <use x=\"283.105469\" xlink:href=\"#DejaVuSans-69\"/>\r\n       <use x=\"310.888672\" xlink:href=\"#DejaVuSans-74\"/>\r\n       <use x=\"350.097656\" xlink:href=\"#DejaVuSans-6c\"/>\r\n       <use x=\"377.880859\" xlink:href=\"#DejaVuSans-65\"/>\r\n      </g>\r\n     </g>\r\n    </g>\r\n    <g id=\"xtick_2\">\r\n     <g id=\"line2d_2\">\r\n      <g>\r\n       <use style=\"stroke:#000000;stroke-width:0.8;\" x=\"140.59625\" xlink:href=\"#m8f5ec70f6d\" y=\"337.159219\"/>\r\n      </g>\r\n     </g>\r\n     <g id=\"text_2\">\r\n      <!-- comm_title -->\r\n      <g transform=\"translate(143.216563 399.807656)rotate(-90)scale(0.1 -0.1)\">\r\n       <defs>\r\n        <path d=\"M 3122 3366 \r\nL 3122 2828 \r\nQ 2878 2963 2633 3030 \r\nQ 2388 3097 2138 3097 \r\nQ 1578 3097 1268 2742 \r\nQ 959 2388 959 1747 \r\nQ 959 1106 1268 751 \r\nQ 1578 397 2138 397 \r\nQ 2388 397 2633 464 \r\nQ 2878 531 3122 666 \r\nL 3122 134 \r\nQ 2881 22 2623 -34 \r\nQ 2366 -91 2075 -91 \r\nQ 1284 -91 818 406 \r\nQ 353 903 353 1747 \r\nQ 353 2603 823 3093 \r\nQ 1294 3584 2113 3584 \r\nQ 2378 3584 2631 3529 \r\nQ 2884 3475 3122 3366 \r\nz\r\n\" id=\"DejaVuSans-63\" transform=\"scale(0.015625)\"/>\r\n        <path d=\"M 1959 3097 \r\nQ 1497 3097 1228 2736 \r\nQ 959 2375 959 1747 \r\nQ 959 1119 1226 758 \r\nQ 1494 397 1959 397 \r\nQ 2419 397 2687 759 \r\nQ 2956 1122 2956 1747 \r\nQ 2956 2369 2687 2733 \r\nQ 2419 3097 1959 3097 \r\nz\r\nM 1959 3584 \r\nQ 2709 3584 3137 3096 \r\nQ 3566 2609 3566 1747 \r\nQ 3566 888 3137 398 \r\nQ 2709 -91 1959 -91 \r\nQ 1206 -91 779 398 \r\nQ 353 888 353 1747 \r\nQ 353 2609 779 3096 \r\nQ 1206 3584 1959 3584 \r\nz\r\n\" id=\"DejaVuSans-6f\" transform=\"scale(0.015625)\"/>\r\n        <path d=\"M 3328 2828 \r\nQ 3544 3216 3844 3400 \r\nQ 4144 3584 4550 3584 \r\nQ 5097 3584 5394 3201 \r\nQ 5691 2819 5691 2113 \r\nL 5691 0 \r\nL 5113 0 \r\nL 5113 2094 \r\nQ 5113 2597 4934 2840 \r\nQ 4756 3084 4391 3084 \r\nQ 3944 3084 3684 2787 \r\nQ 3425 2491 3425 1978 \r\nL 3425 0 \r\nL 2847 0 \r\nL 2847 2094 \r\nQ 2847 2600 2669 2842 \r\nQ 2491 3084 2119 3084 \r\nQ 1678 3084 1418 2786 \r\nQ 1159 2488 1159 1978 \r\nL 1159 0 \r\nL 581 0 \r\nL 581 3500 \r\nL 1159 3500 \r\nL 1159 2956 \r\nQ 1356 3278 1631 3431 \r\nQ 1906 3584 2284 3584 \r\nQ 2666 3584 2933 3390 \r\nQ 3200 3197 3328 2828 \r\nz\r\n\" id=\"DejaVuSans-6d\" transform=\"scale(0.015625)\"/>\r\n       </defs>\r\n       <use xlink:href=\"#DejaVuSans-63\"/>\r\n       <use x=\"54.980469\" xlink:href=\"#DejaVuSans-6f\"/>\r\n       <use x=\"116.162109\" xlink:href=\"#DejaVuSans-6d\"/>\r\n       <use x=\"213.574219\" xlink:href=\"#DejaVuSans-6d\"/>\r\n       <use x=\"310.986328\" xlink:href=\"#DejaVuSans-5f\"/>\r\n       <use x=\"360.986328\" xlink:href=\"#DejaVuSans-74\"/>\r\n       <use x=\"400.195312\" xlink:href=\"#DejaVuSans-69\"/>\r\n       <use x=\"427.978516\" xlink:href=\"#DejaVuSans-74\"/>\r\n       <use x=\"467.1875\" xlink:href=\"#DejaVuSans-6c\"/>\r\n       <use x=\"494.970703\" xlink:href=\"#DejaVuSans-65\"/>\r\n      </g>\r\n     </g>\r\n    </g>\r\n    <g id=\"xtick_3\">\r\n     <g id=\"line2d_3\">\r\n      <g>\r\n       <use style=\"stroke:#000000;stroke-width:0.8;\" x=\"170.35625\" xlink:href=\"#m8f5ec70f6d\" y=\"337.159219\"/>\r\n      </g>\r\n     </g>\r\n     <g id=\"text_3\">\r\n      <!-- ques_title -->\r\n      <g transform=\"translate(172.976563 392.757656)rotate(-90)scale(0.1 -0.1)\">\r\n       <defs>\r\n        <path d=\"M 947 1747 \r\nQ 947 1113 1208 752 \r\nQ 1469 391 1925 391 \r\nQ 2381 391 2643 752 \r\nQ 2906 1113 2906 1747 \r\nQ 2906 2381 2643 2742 \r\nQ 2381 3103 1925 3103 \r\nQ 1469 3103 1208 2742 \r\nQ 947 2381 947 1747 \r\nz\r\nM 2906 525 \r\nQ 2725 213 2448 61 \r\nQ 2172 -91 1784 -91 \r\nQ 1150 -91 751 415 \r\nQ 353 922 353 1747 \r\nQ 353 2572 751 3078 \r\nQ 1150 3584 1784 3584 \r\nQ 2172 3584 2448 3432 \r\nQ 2725 3281 2906 2969 \r\nL 2906 3500 \r\nL 3481 3500 \r\nL 3481 -1331 \r\nL 2906 -1331 \r\nL 2906 525 \r\nz\r\n\" id=\"DejaVuSans-71\" transform=\"scale(0.015625)\"/>\r\n        <path d=\"M 544 1381 \r\nL 544 3500 \r\nL 1119 3500 \r\nL 1119 1403 \r\nQ 1119 906 1312 657 \r\nQ 1506 409 1894 409 \r\nQ 2359 409 2629 706 \r\nQ 2900 1003 2900 1516 \r\nL 2900 3500 \r\nL 3475 3500 \r\nL 3475 0 \r\nL 2900 0 \r\nL 2900 538 \r\nQ 2691 219 2414 64 \r\nQ 2138 -91 1772 -91 \r\nQ 1169 -91 856 284 \r\nQ 544 659 544 1381 \r\nz\r\nM 1991 3584 \r\nL 1991 3584 \r\nz\r\n\" id=\"DejaVuSans-75\" transform=\"scale(0.015625)\"/>\r\n        <path d=\"M 2834 3397 \r\nL 2834 2853 \r\nQ 2591 2978 2328 3040 \r\nQ 2066 3103 1784 3103 \r\nQ 1356 3103 1142 2972 \r\nQ 928 2841 928 2578 \r\nQ 928 2378 1081 2264 \r\nQ 1234 2150 1697 2047 \r\nL 1894 2003 \r\nQ 2506 1872 2764 1633 \r\nQ 3022 1394 3022 966 \r\nQ 3022 478 2636 193 \r\nQ 2250 -91 1575 -91 \r\nQ 1294 -91 989 -36 \r\nQ 684 19 347 128 \r\nL 347 722 \r\nQ 666 556 975 473 \r\nQ 1284 391 1588 391 \r\nQ 1994 391 2212 530 \r\nQ 2431 669 2431 922 \r\nQ 2431 1156 2273 1281 \r\nQ 2116 1406 1581 1522 \r\nL 1381 1569 \r\nQ 847 1681 609 1914 \r\nQ 372 2147 372 2553 \r\nQ 372 3047 722 3315 \r\nQ 1072 3584 1716 3584 \r\nQ 2034 3584 2315 3537 \r\nQ 2597 3491 2834 3397 \r\nz\r\n\" id=\"DejaVuSans-73\" transform=\"scale(0.015625)\"/>\r\n       </defs>\r\n       <use xlink:href=\"#DejaVuSans-71\"/>\r\n       <use x=\"63.476562\" xlink:href=\"#DejaVuSans-75\"/>\r\n       <use x=\"126.855469\" xlink:href=\"#DejaVuSans-65\"/>\r\n       <use x=\"188.378906\" xlink:href=\"#DejaVuSans-73\"/>\r\n       <use x=\"240.478516\" xlink:href=\"#DejaVuSans-5f\"/>\r\n       <use x=\"290.478516\" xlink:href=\"#DejaVuSans-74\"/>\r\n       <use x=\"329.6875\" xlink:href=\"#DejaVuSans-69\"/>\r\n       <use x=\"357.470703\" xlink:href=\"#DejaVuSans-74\"/>\r\n       <use x=\"396.679688\" xlink:href=\"#DejaVuSans-6c\"/>\r\n       <use x=\"424.462891\" xlink:href=\"#DejaVuSans-65\"/>\r\n      </g>\r\n     </g>\r\n    </g>\r\n    <g id=\"xtick_4\">\r\n     <g id=\"line2d_4\">\r\n      <g>\r\n       <use style=\"stroke:#000000;stroke-width:0.8;\" x=\"200.11625\" xlink:href=\"#m8f5ec70f6d\" y=\"337.159219\"/>\r\n      </g>\r\n     </g>\r\n     <g id=\"text_4\">\r\n      <!-- excl_title -->\r\n      <g transform=\"translate(202.736563 388.707656)rotate(-90)scale(0.1 -0.1)\">\r\n       <defs>\r\n        <path d=\"M 3513 3500 \r\nL 2247 1797 \r\nL 3578 0 \r\nL 2900 0 \r\nL 1881 1375 \r\nL 863 0 \r\nL 184 0 \r\nL 1544 1831 \r\nL 300 3500 \r\nL 978 3500 \r\nL 1906 2253 \r\nL 2834 3500 \r\nL 3513 3500 \r\nz\r\n\" id=\"DejaVuSans-78\" transform=\"scale(0.015625)\"/>\r\n       </defs>\r\n       <use xlink:href=\"#DejaVuSans-65\"/>\r\n       <use x=\"59.773438\" xlink:href=\"#DejaVuSans-78\"/>\r\n       <use x=\"117.203125\" xlink:href=\"#DejaVuSans-63\"/>\r\n       <use x=\"172.183594\" xlink:href=\"#DejaVuSans-6c\"/>\r\n       <use x=\"199.966797\" xlink:href=\"#DejaVuSans-5f\"/>\r\n       <use x=\"249.966797\" xlink:href=\"#DejaVuSans-74\"/>\r\n       <use x=\"289.175781\" xlink:href=\"#DejaVuSans-69\"/>\r\n       <use x=\"316.958984\" xlink:href=\"#DejaVuSans-74\"/>\r\n       <use x=\"356.167969\" xlink:href=\"#DejaVuSans-6c\"/>\r\n       <use x=\"383.951172\" xlink:href=\"#DejaVuSans-65\"/>\r\n      </g>\r\n     </g>\r\n    </g>\r\n    <g id=\"xtick_5\">\r\n     <g id=\"line2d_5\">\r\n      <g>\r\n       <use style=\"stroke:#000000;stroke-width:0.8;\" x=\"229.87625\" xlink:href=\"#m8f5ec70f6d\" y=\"337.159219\"/>\r\n      </g>\r\n     </g>\r\n     <g id=\"text_5\">\r\n      <!-- peri_text -->\r\n      <g transform=\"translate(232.496563 388.287344)rotate(-90)scale(0.1 -0.1)\">\r\n       <use xlink:href=\"#DejaVuSans-70\"/>\r\n       <use x=\"63.476562\" xlink:href=\"#DejaVuSans-65\"/>\r\n       <use x=\"125\" xlink:href=\"#DejaVuSans-72\"/>\r\n       <use x=\"166.113281\" xlink:href=\"#DejaVuSans-69\"/>\r\n       <use x=\"193.896484\" xlink:href=\"#DejaVuSans-5f\"/>\r\n       <use x=\"243.896484\" xlink:href=\"#DejaVuSans-74\"/>\r\n       <use x=\"283.105469\" xlink:href=\"#DejaVuSans-65\"/>\r\n       <use x=\"342.878906\" xlink:href=\"#DejaVuSans-78\"/>\r\n       <use x=\"402.058594\" xlink:href=\"#DejaVuSans-74\"/>\r\n      </g>\r\n     </g>\r\n    </g>\r\n    <g id=\"xtick_6\">\r\n     <g id=\"line2d_6\">\r\n      <g>\r\n       <use style=\"stroke:#000000;stroke-width:0.8;\" x=\"259.63625\" xlink:href=\"#m8f5ec70f6d\" y=\"337.159219\"/>\r\n      </g>\r\n     </g>\r\n     <g id=\"text_6\">\r\n      <!-- comm_text -->\r\n      <g transform=\"translate(262.1175 399.995156)rotate(-90)scale(0.1 -0.1)\">\r\n       <use xlink:href=\"#DejaVuSans-63\"/>\r\n       <use x=\"54.980469\" xlink:href=\"#DejaVuSans-6f\"/>\r\n       <use x=\"116.162109\" xlink:href=\"#DejaVuSans-6d\"/>\r\n       <use x=\"213.574219\" xlink:href=\"#DejaVuSans-6d\"/>\r\n       <use x=\"310.986328\" xlink:href=\"#DejaVuSans-5f\"/>\r\n       <use x=\"360.986328\" xlink:href=\"#DejaVuSans-74\"/>\r\n       <use x=\"400.195312\" xlink:href=\"#DejaVuSans-65\"/>\r\n       <use x=\"459.96875\" xlink:href=\"#DejaVuSans-78\"/>\r\n       <use x=\"519.148438\" xlink:href=\"#DejaVuSans-74\"/>\r\n      </g>\r\n     </g>\r\n    </g>\r\n    <g id=\"xtick_7\">\r\n     <g id=\"line2d_7\">\r\n      <g>\r\n       <use style=\"stroke:#000000;stroke-width:0.8;\" x=\"289.39625\" xlink:href=\"#m8f5ec70f6d\" y=\"337.159219\"/>\r\n      </g>\r\n     </g>\r\n     <g id=\"text_7\">\r\n      <!-- ques_text -->\r\n      <g transform=\"translate(291.8775 392.945156)rotate(-90)scale(0.1 -0.1)\">\r\n       <use xlink:href=\"#DejaVuSans-71\"/>\r\n       <use x=\"63.476562\" xlink:href=\"#DejaVuSans-75\"/>\r\n       <use x=\"126.855469\" xlink:href=\"#DejaVuSans-65\"/>\r\n       <use x=\"188.378906\" xlink:href=\"#DejaVuSans-73\"/>\r\n       <use x=\"240.478516\" xlink:href=\"#DejaVuSans-5f\"/>\r\n       <use x=\"290.478516\" xlink:href=\"#DejaVuSans-74\"/>\r\n       <use x=\"329.6875\" xlink:href=\"#DejaVuSans-65\"/>\r\n       <use x=\"389.460938\" xlink:href=\"#DejaVuSans-78\"/>\r\n       <use x=\"448.640625\" xlink:href=\"#DejaVuSans-74\"/>\r\n      </g>\r\n     </g>\r\n    </g>\r\n    <g id=\"xtick_8\">\r\n     <g id=\"line2d_8\">\r\n      <g>\r\n       <use style=\"stroke:#000000;stroke-width:0.8;\" x=\"319.15625\" xlink:href=\"#m8f5ec70f6d\" y=\"337.159219\"/>\r\n      </g>\r\n     </g>\r\n     <g id=\"text_8\">\r\n      <!-- excl_text -->\r\n      <g transform=\"translate(321.776563 388.895156)rotate(-90)scale(0.1 -0.1)\">\r\n       <use xlink:href=\"#DejaVuSans-65\"/>\r\n       <use x=\"59.773438\" xlink:href=\"#DejaVuSans-78\"/>\r\n       <use x=\"117.203125\" xlink:href=\"#DejaVuSans-63\"/>\r\n       <use x=\"172.183594\" xlink:href=\"#DejaVuSans-6c\"/>\r\n       <use x=\"199.966797\" xlink:href=\"#DejaVuSans-5f\"/>\r\n       <use x=\"249.966797\" xlink:href=\"#DejaVuSans-74\"/>\r\n       <use x=\"289.175781\" xlink:href=\"#DejaVuSans-65\"/>\r\n       <use x=\"348.949219\" xlink:href=\"#DejaVuSans-78\"/>\r\n       <use x=\"408.128906\" xlink:href=\"#DejaVuSans-74\"/>\r\n      </g>\r\n     </g>\r\n    </g>\r\n    <g id=\"xtick_9\">\r\n     <g id=\"line2d_9\">\r\n      <g>\r\n       <use style=\"stroke:#000000;stroke-width:0.8;\" x=\"348.91625\" xlink:href=\"#m8f5ec70f6d\" y=\"337.159219\"/>\r\n      </g>\r\n     </g>\r\n     <g id=\"text_9\">\r\n      <!-- length_title -->\r\n      <g transform=\"translate(351.536563 400.584219)rotate(-90)scale(0.1 -0.1)\">\r\n       <defs>\r\n        <path d=\"M 3513 2113 \r\nL 3513 0 \r\nL 2938 0 \r\nL 2938 2094 \r\nQ 2938 2591 2744 2837 \r\nQ 2550 3084 2163 3084 \r\nQ 1697 3084 1428 2787 \r\nQ 1159 2491 1159 1978 \r\nL 1159 0 \r\nL 581 0 \r\nL 581 3500 \r\nL 1159 3500 \r\nL 1159 2956 \r\nQ 1366 3272 1645 3428 \r\nQ 1925 3584 2291 3584 \r\nQ 2894 3584 3203 3211 \r\nQ 3513 2838 3513 2113 \r\nz\r\n\" id=\"DejaVuSans-6e\" transform=\"scale(0.015625)\"/>\r\n        <path d=\"M 2906 1791 \r\nQ 2906 2416 2648 2759 \r\nQ 2391 3103 1925 3103 \r\nQ 1463 3103 1205 2759 \r\nQ 947 2416 947 1791 \r\nQ 947 1169 1205 825 \r\nQ 1463 481 1925 481 \r\nQ 2391 481 2648 825 \r\nQ 2906 1169 2906 1791 \r\nz\r\nM 3481 434 \r\nQ 3481 -459 3084 -895 \r\nQ 2688 -1331 1869 -1331 \r\nQ 1566 -1331 1297 -1286 \r\nQ 1028 -1241 775 -1147 \r\nL 775 -588 \r\nQ 1028 -725 1275 -790 \r\nQ 1522 -856 1778 -856 \r\nQ 2344 -856 2625 -561 \r\nQ 2906 -266 2906 331 \r\nL 2906 616 \r\nQ 2728 306 2450 153 \r\nQ 2172 0 1784 0 \r\nQ 1141 0 747 490 \r\nQ 353 981 353 1791 \r\nQ 353 2603 747 3093 \r\nQ 1141 3584 1784 3584 \r\nQ 2172 3584 2450 3431 \r\nQ 2728 3278 2906 2969 \r\nL 2906 3500 \r\nL 3481 3500 \r\nL 3481 434 \r\nz\r\n\" id=\"DejaVuSans-67\" transform=\"scale(0.015625)\"/>\r\n        <path d=\"M 3513 2113 \r\nL 3513 0 \r\nL 2938 0 \r\nL 2938 2094 \r\nQ 2938 2591 2744 2837 \r\nQ 2550 3084 2163 3084 \r\nQ 1697 3084 1428 2787 \r\nQ 1159 2491 1159 1978 \r\nL 1159 0 \r\nL 581 0 \r\nL 581 4863 \r\nL 1159 4863 \r\nL 1159 2956 \r\nQ 1366 3272 1645 3428 \r\nQ 1925 3584 2291 3584 \r\nQ 2894 3584 3203 3211 \r\nQ 3513 2838 3513 2113 \r\nz\r\n\" id=\"DejaVuSans-68\" transform=\"scale(0.015625)\"/>\r\n       </defs>\r\n       <use xlink:href=\"#DejaVuSans-6c\"/>\r\n       <use x=\"27.783203\" xlink:href=\"#DejaVuSans-65\"/>\r\n       <use x=\"89.306641\" xlink:href=\"#DejaVuSans-6e\"/>\r\n       <use x=\"152.685547\" xlink:href=\"#DejaVuSans-67\"/>\r\n       <use x=\"216.162109\" xlink:href=\"#DejaVuSans-74\"/>\r\n       <use x=\"255.371094\" xlink:href=\"#DejaVuSans-68\"/>\r\n       <use x=\"318.75\" xlink:href=\"#DejaVuSans-5f\"/>\r\n       <use x=\"368.75\" xlink:href=\"#DejaVuSans-74\"/>\r\n       <use x=\"407.958984\" xlink:href=\"#DejaVuSans-69\"/>\r\n       <use x=\"435.742188\" xlink:href=\"#DejaVuSans-74\"/>\r\n       <use x=\"474.951172\" xlink:href=\"#DejaVuSans-6c\"/>\r\n       <use x=\"502.734375\" xlink:href=\"#DejaVuSans-65\"/>\r\n      </g>\r\n     </g>\r\n    </g>\r\n    <g id=\"xtick_10\">\r\n     <g id=\"line2d_10\">\r\n      <g>\r\n       <use style=\"stroke:#000000;stroke-width:0.8;\" x=\"378.67625\" xlink:href=\"#m8f5ec70f6d\" y=\"337.159219\"/>\r\n      </g>\r\n     </g>\r\n     <g id=\"text_10\">\r\n      <!-- length_text -->\r\n      <g transform=\"translate(381.296563 400.771719)rotate(-90)scale(0.1 -0.1)\">\r\n       <use xlink:href=\"#DejaVuSans-6c\"/>\r\n       <use x=\"27.783203\" xlink:href=\"#DejaVuSans-65\"/>\r\n       <use x=\"89.306641\" xlink:href=\"#DejaVuSans-6e\"/>\r\n       <use x=\"152.685547\" xlink:href=\"#DejaVuSans-67\"/>\r\n       <use x=\"216.162109\" xlink:href=\"#DejaVuSans-74\"/>\r\n       <use x=\"255.371094\" xlink:href=\"#DejaVuSans-68\"/>\r\n       <use x=\"318.75\" xlink:href=\"#DejaVuSans-5f\"/>\r\n       <use x=\"368.75\" xlink:href=\"#DejaVuSans-74\"/>\r\n       <use x=\"407.958984\" xlink:href=\"#DejaVuSans-65\"/>\r\n       <use x=\"467.732422\" xlink:href=\"#DejaVuSans-78\"/>\r\n       <use x=\"526.912109\" xlink:href=\"#DejaVuSans-74\"/>\r\n      </g>\r\n     </g>\r\n    </g>\r\n    <g id=\"xtick_11\">\r\n     <g id=\"line2d_11\">\r\n      <g>\r\n       <use style=\"stroke:#000000;stroke-width:0.8;\" x=\"408.43625\" xlink:href=\"#m8f5ec70f6d\" y=\"337.159219\"/>\r\n      </g>\r\n     </g>\r\n     <g id=\"text_11\">\r\n      <!-- num_words_title -->\r\n      <g transform=\"translate(411.056563 425.915469)rotate(-90)scale(0.1 -0.1)\">\r\n       <defs>\r\n        <path d=\"M 269 3500 \r\nL 844 3500 \r\nL 1563 769 \r\nL 2278 3500 \r\nL 2956 3500 \r\nL 3675 769 \r\nL 4391 3500 \r\nL 4966 3500 \r\nL 4050 0 \r\nL 3372 0 \r\nL 2619 2869 \r\nL 1863 0 \r\nL 1184 0 \r\nL 269 3500 \r\nz\r\n\" id=\"DejaVuSans-77\" transform=\"scale(0.015625)\"/>\r\n        <path d=\"M 2906 2969 \r\nL 2906 4863 \r\nL 3481 4863 \r\nL 3481 0 \r\nL 2906 0 \r\nL 2906 525 \r\nQ 2725 213 2448 61 \r\nQ 2172 -91 1784 -91 \r\nQ 1150 -91 751 415 \r\nQ 353 922 353 1747 \r\nQ 353 2572 751 3078 \r\nQ 1150 3584 1784 3584 \r\nQ 2172 3584 2448 3432 \r\nQ 2725 3281 2906 2969 \r\nz\r\nM 947 1747 \r\nQ 947 1113 1208 752 \r\nQ 1469 391 1925 391 \r\nQ 2381 391 2643 752 \r\nQ 2906 1113 2906 1747 \r\nQ 2906 2381 2643 2742 \r\nQ 2381 3103 1925 3103 \r\nQ 1469 3103 1208 2742 \r\nQ 947 2381 947 1747 \r\nz\r\n\" id=\"DejaVuSans-64\" transform=\"scale(0.015625)\"/>\r\n       </defs>\r\n       <use xlink:href=\"#DejaVuSans-6e\"/>\r\n       <use x=\"63.378906\" xlink:href=\"#DejaVuSans-75\"/>\r\n       <use x=\"126.757812\" xlink:href=\"#DejaVuSans-6d\"/>\r\n       <use x=\"224.169922\" xlink:href=\"#DejaVuSans-5f\"/>\r\n       <use x=\"274.169922\" xlink:href=\"#DejaVuSans-77\"/>\r\n       <use x=\"355.957031\" xlink:href=\"#DejaVuSans-6f\"/>\r\n       <use x=\"417.138672\" xlink:href=\"#DejaVuSans-72\"/>\r\n       <use x=\"456.501953\" xlink:href=\"#DejaVuSans-64\"/>\r\n       <use x=\"519.978516\" xlink:href=\"#DejaVuSans-73\"/>\r\n       <use x=\"572.078125\" xlink:href=\"#DejaVuSans-5f\"/>\r\n       <use x=\"622.078125\" xlink:href=\"#DejaVuSans-74\"/>\r\n       <use x=\"661.287109\" xlink:href=\"#DejaVuSans-69\"/>\r\n       <use x=\"689.070312\" xlink:href=\"#DejaVuSans-74\"/>\r\n       <use x=\"728.279297\" xlink:href=\"#DejaVuSans-6c\"/>\r\n       <use x=\"756.0625\" xlink:href=\"#DejaVuSans-65\"/>\r\n      </g>\r\n     </g>\r\n    </g>\r\n    <g id=\"xtick_12\">\r\n     <g id=\"line2d_12\">\r\n      <g>\r\n       <use style=\"stroke:#000000;stroke-width:0.8;\" x=\"438.19625\" xlink:href=\"#m8f5ec70f6d\" y=\"337.159219\"/>\r\n      </g>\r\n     </g>\r\n     <g id=\"text_12\">\r\n      <!-- title_ratio -->\r\n      <g transform=\"translate(440.816563 391.765469)rotate(-90)scale(0.1 -0.1)\">\r\n       <defs>\r\n        <path d=\"M 2194 1759 \r\nQ 1497 1759 1228 1600 \r\nQ 959 1441 959 1056 \r\nQ 959 750 1161 570 \r\nQ 1363 391 1709 391 \r\nQ 2188 391 2477 730 \r\nQ 2766 1069 2766 1631 \r\nL 2766 1759 \r\nL 2194 1759 \r\nz\r\nM 3341 1997 \r\nL 3341 0 \r\nL 2766 0 \r\nL 2766 531 \r\nQ 2569 213 2275 61 \r\nQ 1981 -91 1556 -91 \r\nQ 1019 -91 701 211 \r\nQ 384 513 384 1019 \r\nQ 384 1609 779 1909 \r\nQ 1175 2209 1959 2209 \r\nL 2766 2209 \r\nL 2766 2266 \r\nQ 2766 2663 2505 2880 \r\nQ 2244 3097 1772 3097 \r\nQ 1472 3097 1187 3025 \r\nQ 903 2953 641 2809 \r\nL 641 3341 \r\nQ 956 3463 1253 3523 \r\nQ 1550 3584 1831 3584 \r\nQ 2591 3584 2966 3190 \r\nQ 3341 2797 3341 1997 \r\nz\r\n\" id=\"DejaVuSans-61\" transform=\"scale(0.015625)\"/>\r\n       </defs>\r\n       <use xlink:href=\"#DejaVuSans-74\"/>\r\n       <use x=\"39.208984\" xlink:href=\"#DejaVuSans-69\"/>\r\n       <use x=\"66.992188\" xlink:href=\"#DejaVuSans-74\"/>\r\n       <use x=\"106.201172\" xlink:href=\"#DejaVuSans-6c\"/>\r\n       <use x=\"133.984375\" xlink:href=\"#DejaVuSans-65\"/>\r\n       <use x=\"195.507812\" xlink:href=\"#DejaVuSans-5f\"/>\r\n       <use x=\"245.507812\" xlink:href=\"#DejaVuSans-72\"/>\r\n       <use x=\"286.621094\" xlink:href=\"#DejaVuSans-61\"/>\r\n       <use x=\"347.900391\" xlink:href=\"#DejaVuSans-74\"/>\r\n       <use x=\"387.109375\" xlink:href=\"#DejaVuSans-69\"/>\r\n       <use x=\"414.892578\" xlink:href=\"#DejaVuSans-6f\"/>\r\n      </g>\r\n     </g>\r\n    </g>\r\n   </g>\r\n   <g id=\"matplotlib.axis_2\">\r\n    <g id=\"ytick_1\">\r\n     <g id=\"line2d_13\">\r\n      <defs>\r\n       <path d=\"M 0 0 \r\nL -3.5 0 \r\n\" id=\"m963faa58d2\" style=\"stroke:#000000;stroke-width:0.8;\"/>\r\n      </defs>\r\n      <g>\r\n       <use style=\"stroke:#000000;stroke-width:0.8;\" x=\"95.95625\" xlink:href=\"#m963faa58d2\" y=\"24.589219\"/>\r\n      </g>\r\n     </g>\r\n     <g id=\"text_13\">\r\n      <!-- peri_title -->\r\n      <g transform=\"translate(45.015625 28.388438)scale(0.1 -0.1)\">\r\n       <use xlink:href=\"#DejaVuSans-70\"/>\r\n       <use x=\"63.476562\" xlink:href=\"#DejaVuSans-65\"/>\r\n       <use x=\"125\" xlink:href=\"#DejaVuSans-72\"/>\r\n       <use x=\"166.113281\" xlink:href=\"#DejaVuSans-69\"/>\r\n       <use x=\"193.896484\" xlink:href=\"#DejaVuSans-5f\"/>\r\n       <use x=\"243.896484\" xlink:href=\"#DejaVuSans-74\"/>\r\n       <use x=\"283.105469\" xlink:href=\"#DejaVuSans-69\"/>\r\n       <use x=\"310.888672\" xlink:href=\"#DejaVuSans-74\"/>\r\n       <use x=\"350.097656\" xlink:href=\"#DejaVuSans-6c\"/>\r\n       <use x=\"377.880859\" xlink:href=\"#DejaVuSans-65\"/>\r\n      </g>\r\n     </g>\r\n    </g>\r\n    <g id=\"ytick_2\">\r\n     <g id=\"line2d_14\">\r\n      <g>\r\n       <use style=\"stroke:#000000;stroke-width:0.8;\" x=\"95.95625\" xlink:href=\"#m963faa58d2\" y=\"51.769219\"/>\r\n      </g>\r\n     </g>\r\n     <g id=\"text_14\">\r\n      <!-- comm_title -->\r\n      <g transform=\"translate(33.307813 55.568438)scale(0.1 -0.1)\">\r\n       <use xlink:href=\"#DejaVuSans-63\"/>\r\n       <use x=\"54.980469\" xlink:href=\"#DejaVuSans-6f\"/>\r\n       <use x=\"116.162109\" xlink:href=\"#DejaVuSans-6d\"/>\r\n       <use x=\"213.574219\" xlink:href=\"#DejaVuSans-6d\"/>\r\n       <use x=\"310.986328\" xlink:href=\"#DejaVuSans-5f\"/>\r\n       <use x=\"360.986328\" xlink:href=\"#DejaVuSans-74\"/>\r\n       <use x=\"400.195312\" xlink:href=\"#DejaVuSans-69\"/>\r\n       <use x=\"427.978516\" xlink:href=\"#DejaVuSans-74\"/>\r\n       <use x=\"467.1875\" xlink:href=\"#DejaVuSans-6c\"/>\r\n       <use x=\"494.970703\" xlink:href=\"#DejaVuSans-65\"/>\r\n      </g>\r\n     </g>\r\n    </g>\r\n    <g id=\"ytick_3\">\r\n     <g id=\"line2d_15\">\r\n      <g>\r\n       <use style=\"stroke:#000000;stroke-width:0.8;\" x=\"95.95625\" xlink:href=\"#m963faa58d2\" y=\"78.949219\"/>\r\n      </g>\r\n     </g>\r\n     <g id=\"text_15\">\r\n      <!-- ques_title -->\r\n      <g transform=\"translate(40.357813 82.748438)scale(0.1 -0.1)\">\r\n       <use xlink:href=\"#DejaVuSans-71\"/>\r\n       <use x=\"63.476562\" xlink:href=\"#DejaVuSans-75\"/>\r\n       <use x=\"126.855469\" xlink:href=\"#DejaVuSans-65\"/>\r\n       <use x=\"188.378906\" xlink:href=\"#DejaVuSans-73\"/>\r\n       <use x=\"240.478516\" xlink:href=\"#DejaVuSans-5f\"/>\r\n       <use x=\"290.478516\" xlink:href=\"#DejaVuSans-74\"/>\r\n       <use x=\"329.6875\" xlink:href=\"#DejaVuSans-69\"/>\r\n       <use x=\"357.470703\" xlink:href=\"#DejaVuSans-74\"/>\r\n       <use x=\"396.679688\" xlink:href=\"#DejaVuSans-6c\"/>\r\n       <use x=\"424.462891\" xlink:href=\"#DejaVuSans-65\"/>\r\n      </g>\r\n     </g>\r\n    </g>\r\n    <g id=\"ytick_4\">\r\n     <g id=\"line2d_16\">\r\n      <g>\r\n       <use style=\"stroke:#000000;stroke-width:0.8;\" x=\"95.95625\" xlink:href=\"#m963faa58d2\" y=\"106.129219\"/>\r\n      </g>\r\n     </g>\r\n     <g id=\"text_16\">\r\n      <!-- excl_title -->\r\n      <g transform=\"translate(44.407813 109.928438)scale(0.1 -0.1)\">\r\n       <use xlink:href=\"#DejaVuSans-65\"/>\r\n       <use x=\"59.773438\" xlink:href=\"#DejaVuSans-78\"/>\r\n       <use x=\"117.203125\" xlink:href=\"#DejaVuSans-63\"/>\r\n       <use x=\"172.183594\" xlink:href=\"#DejaVuSans-6c\"/>\r\n       <use x=\"199.966797\" xlink:href=\"#DejaVuSans-5f\"/>\r\n       <use x=\"249.966797\" xlink:href=\"#DejaVuSans-74\"/>\r\n       <use x=\"289.175781\" xlink:href=\"#DejaVuSans-69\"/>\r\n       <use x=\"316.958984\" xlink:href=\"#DejaVuSans-74\"/>\r\n       <use x=\"356.167969\" xlink:href=\"#DejaVuSans-6c\"/>\r\n       <use x=\"383.951172\" xlink:href=\"#DejaVuSans-65\"/>\r\n      </g>\r\n     </g>\r\n    </g>\r\n    <g id=\"ytick_5\">\r\n     <g id=\"line2d_17\">\r\n      <g>\r\n       <use style=\"stroke:#000000;stroke-width:0.8;\" x=\"95.95625\" xlink:href=\"#m963faa58d2\" y=\"133.309219\"/>\r\n      </g>\r\n     </g>\r\n     <g id=\"text_17\">\r\n      <!-- peri_text -->\r\n      <g transform=\"translate(44.828125 137.108438)scale(0.1 -0.1)\">\r\n       <use xlink:href=\"#DejaVuSans-70\"/>\r\n       <use x=\"63.476562\" xlink:href=\"#DejaVuSans-65\"/>\r\n       <use x=\"125\" xlink:href=\"#DejaVuSans-72\"/>\r\n       <use x=\"166.113281\" xlink:href=\"#DejaVuSans-69\"/>\r\n       <use x=\"193.896484\" xlink:href=\"#DejaVuSans-5f\"/>\r\n       <use x=\"243.896484\" xlink:href=\"#DejaVuSans-74\"/>\r\n       <use x=\"283.105469\" xlink:href=\"#DejaVuSans-65\"/>\r\n       <use x=\"342.878906\" xlink:href=\"#DejaVuSans-78\"/>\r\n       <use x=\"402.058594\" xlink:href=\"#DejaVuSans-74\"/>\r\n      </g>\r\n     </g>\r\n    </g>\r\n    <g id=\"ytick_6\">\r\n     <g id=\"line2d_18\">\r\n      <g>\r\n       <use style=\"stroke:#000000;stroke-width:0.8;\" x=\"95.95625\" xlink:href=\"#m963faa58d2\" y=\"160.489219\"/>\r\n      </g>\r\n     </g>\r\n     <g id=\"text_18\">\r\n      <!-- comm_text -->\r\n      <g transform=\"translate(33.120313 164.149375)scale(0.1 -0.1)\">\r\n       <use xlink:href=\"#DejaVuSans-63\"/>\r\n       <use x=\"54.980469\" xlink:href=\"#DejaVuSans-6f\"/>\r\n       <use x=\"116.162109\" xlink:href=\"#DejaVuSans-6d\"/>\r\n       <use x=\"213.574219\" xlink:href=\"#DejaVuSans-6d\"/>\r\n       <use x=\"310.986328\" xlink:href=\"#DejaVuSans-5f\"/>\r\n       <use x=\"360.986328\" xlink:href=\"#DejaVuSans-74\"/>\r\n       <use x=\"400.195312\" xlink:href=\"#DejaVuSans-65\"/>\r\n       <use x=\"459.96875\" xlink:href=\"#DejaVuSans-78\"/>\r\n       <use x=\"519.148438\" xlink:href=\"#DejaVuSans-74\"/>\r\n      </g>\r\n     </g>\r\n    </g>\r\n    <g id=\"ytick_7\">\r\n     <g id=\"line2d_19\">\r\n      <g>\r\n       <use style=\"stroke:#000000;stroke-width:0.8;\" x=\"95.95625\" xlink:href=\"#m963faa58d2\" y=\"187.669219\"/>\r\n      </g>\r\n     </g>\r\n     <g id=\"text_19\">\r\n      <!-- ques_text -->\r\n      <g transform=\"translate(40.170313 191.329375)scale(0.1 -0.1)\">\r\n       <use xlink:href=\"#DejaVuSans-71\"/>\r\n       <use x=\"63.476562\" xlink:href=\"#DejaVuSans-75\"/>\r\n       <use x=\"126.855469\" xlink:href=\"#DejaVuSans-65\"/>\r\n       <use x=\"188.378906\" xlink:href=\"#DejaVuSans-73\"/>\r\n       <use x=\"240.478516\" xlink:href=\"#DejaVuSans-5f\"/>\r\n       <use x=\"290.478516\" xlink:href=\"#DejaVuSans-74\"/>\r\n       <use x=\"329.6875\" xlink:href=\"#DejaVuSans-65\"/>\r\n       <use x=\"389.460938\" xlink:href=\"#DejaVuSans-78\"/>\r\n       <use x=\"448.640625\" xlink:href=\"#DejaVuSans-74\"/>\r\n      </g>\r\n     </g>\r\n    </g>\r\n    <g id=\"ytick_8\">\r\n     <g id=\"line2d_20\">\r\n      <g>\r\n       <use style=\"stroke:#000000;stroke-width:0.8;\" x=\"95.95625\" xlink:href=\"#m963faa58d2\" y=\"214.849219\"/>\r\n      </g>\r\n     </g>\r\n     <g id=\"text_20\">\r\n      <!-- excl_text -->\r\n      <g transform=\"translate(44.220313 218.648438)scale(0.1 -0.1)\">\r\n       <use xlink:href=\"#DejaVuSans-65\"/>\r\n       <use x=\"59.773438\" xlink:href=\"#DejaVuSans-78\"/>\r\n       <use x=\"117.203125\" xlink:href=\"#DejaVuSans-63\"/>\r\n       <use x=\"172.183594\" xlink:href=\"#DejaVuSans-6c\"/>\r\n       <use x=\"199.966797\" xlink:href=\"#DejaVuSans-5f\"/>\r\n       <use x=\"249.966797\" xlink:href=\"#DejaVuSans-74\"/>\r\n       <use x=\"289.175781\" xlink:href=\"#DejaVuSans-65\"/>\r\n       <use x=\"348.949219\" xlink:href=\"#DejaVuSans-78\"/>\r\n       <use x=\"408.128906\" xlink:href=\"#DejaVuSans-74\"/>\r\n      </g>\r\n     </g>\r\n    </g>\r\n    <g id=\"ytick_9\">\r\n     <g id=\"line2d_21\">\r\n      <g>\r\n       <use style=\"stroke:#000000;stroke-width:0.8;\" x=\"95.95625\" xlink:href=\"#m963faa58d2\" y=\"242.029219\"/>\r\n      </g>\r\n     </g>\r\n     <g id=\"text_21\">\r\n      <!-- length_title -->\r\n      <g transform=\"translate(32.53125 245.828438)scale(0.1 -0.1)\">\r\n       <use xlink:href=\"#DejaVuSans-6c\"/>\r\n       <use x=\"27.783203\" xlink:href=\"#DejaVuSans-65\"/>\r\n       <use x=\"89.306641\" xlink:href=\"#DejaVuSans-6e\"/>\r\n       <use x=\"152.685547\" xlink:href=\"#DejaVuSans-67\"/>\r\n       <use x=\"216.162109\" xlink:href=\"#DejaVuSans-74\"/>\r\n       <use x=\"255.371094\" xlink:href=\"#DejaVuSans-68\"/>\r\n       <use x=\"318.75\" xlink:href=\"#DejaVuSans-5f\"/>\r\n       <use x=\"368.75\" xlink:href=\"#DejaVuSans-74\"/>\r\n       <use x=\"407.958984\" xlink:href=\"#DejaVuSans-69\"/>\r\n       <use x=\"435.742188\" xlink:href=\"#DejaVuSans-74\"/>\r\n       <use x=\"474.951172\" xlink:href=\"#DejaVuSans-6c\"/>\r\n       <use x=\"502.734375\" xlink:href=\"#DejaVuSans-65\"/>\r\n      </g>\r\n     </g>\r\n    </g>\r\n    <g id=\"ytick_10\">\r\n     <g id=\"line2d_22\">\r\n      <g>\r\n       <use style=\"stroke:#000000;stroke-width:0.8;\" x=\"95.95625\" xlink:href=\"#m963faa58d2\" y=\"269.209219\"/>\r\n      </g>\r\n     </g>\r\n     <g id=\"text_22\">\r\n      <!-- length_text -->\r\n      <g transform=\"translate(32.34375 273.008438)scale(0.1 -0.1)\">\r\n       <use xlink:href=\"#DejaVuSans-6c\"/>\r\n       <use x=\"27.783203\" xlink:href=\"#DejaVuSans-65\"/>\r\n       <use x=\"89.306641\" xlink:href=\"#DejaVuSans-6e\"/>\r\n       <use x=\"152.685547\" xlink:href=\"#DejaVuSans-67\"/>\r\n       <use x=\"216.162109\" xlink:href=\"#DejaVuSans-74\"/>\r\n       <use x=\"255.371094\" xlink:href=\"#DejaVuSans-68\"/>\r\n       <use x=\"318.75\" xlink:href=\"#DejaVuSans-5f\"/>\r\n       <use x=\"368.75\" xlink:href=\"#DejaVuSans-74\"/>\r\n       <use x=\"407.958984\" xlink:href=\"#DejaVuSans-65\"/>\r\n       <use x=\"467.732422\" xlink:href=\"#DejaVuSans-78\"/>\r\n       <use x=\"526.912109\" xlink:href=\"#DejaVuSans-74\"/>\r\n      </g>\r\n     </g>\r\n    </g>\r\n    <g id=\"ytick_11\">\r\n     <g id=\"line2d_23\">\r\n      <g>\r\n       <use style=\"stroke:#000000;stroke-width:0.8;\" x=\"95.95625\" xlink:href=\"#m963faa58d2\" y=\"296.389219\"/>\r\n      </g>\r\n     </g>\r\n     <g id=\"text_23\">\r\n      <!-- num_words_title -->\r\n      <g transform=\"translate(7.2 300.188437)scale(0.1 -0.1)\">\r\n       <use xlink:href=\"#DejaVuSans-6e\"/>\r\n       <use x=\"63.378906\" xlink:href=\"#DejaVuSans-75\"/>\r\n       <use x=\"126.757812\" xlink:href=\"#DejaVuSans-6d\"/>\r\n       <use x=\"224.169922\" xlink:href=\"#DejaVuSans-5f\"/>\r\n       <use x=\"274.169922\" xlink:href=\"#DejaVuSans-77\"/>\r\n       <use x=\"355.957031\" xlink:href=\"#DejaVuSans-6f\"/>\r\n       <use x=\"417.138672\" xlink:href=\"#DejaVuSans-72\"/>\r\n       <use x=\"456.501953\" xlink:href=\"#DejaVuSans-64\"/>\r\n       <use x=\"519.978516\" xlink:href=\"#DejaVuSans-73\"/>\r\n       <use x=\"572.078125\" xlink:href=\"#DejaVuSans-5f\"/>\r\n       <use x=\"622.078125\" xlink:href=\"#DejaVuSans-74\"/>\r\n       <use x=\"661.287109\" xlink:href=\"#DejaVuSans-69\"/>\r\n       <use x=\"689.070312\" xlink:href=\"#DejaVuSans-74\"/>\r\n       <use x=\"728.279297\" xlink:href=\"#DejaVuSans-6c\"/>\r\n       <use x=\"756.0625\" xlink:href=\"#DejaVuSans-65\"/>\r\n      </g>\r\n     </g>\r\n    </g>\r\n    <g id=\"ytick_12\">\r\n     <g id=\"line2d_24\">\r\n      <g>\r\n       <use style=\"stroke:#000000;stroke-width:0.8;\" x=\"95.95625\" xlink:href=\"#m963faa58d2\" y=\"323.569219\"/>\r\n      </g>\r\n     </g>\r\n     <g id=\"text_24\">\r\n      <!-- title_ratio -->\r\n      <g transform=\"translate(41.35 327.368438)scale(0.1 -0.1)\">\r\n       <use xlink:href=\"#DejaVuSans-74\"/>\r\n       <use x=\"39.208984\" xlink:href=\"#DejaVuSans-69\"/>\r\n       <use x=\"66.992188\" xlink:href=\"#DejaVuSans-74\"/>\r\n       <use x=\"106.201172\" xlink:href=\"#DejaVuSans-6c\"/>\r\n       <use x=\"133.984375\" xlink:href=\"#DejaVuSans-65\"/>\r\n       <use x=\"195.507812\" xlink:href=\"#DejaVuSans-5f\"/>\r\n       <use x=\"245.507812\" xlink:href=\"#DejaVuSans-72\"/>\r\n       <use x=\"286.621094\" xlink:href=\"#DejaVuSans-61\"/>\r\n       <use x=\"347.900391\" xlink:href=\"#DejaVuSans-74\"/>\r\n       <use x=\"387.109375\" xlink:href=\"#DejaVuSans-69\"/>\r\n       <use x=\"414.892578\" xlink:href=\"#DejaVuSans-6f\"/>\r\n      </g>\r\n     </g>\r\n    </g>\r\n   </g>\r\n   <g id=\"text_25\">\r\n    <!-- 1 -->\r\n    <g style=\"fill:#262626;\" transform=\"translate(107.655 27.348594)scale(0.1 -0.1)\">\r\n     <defs>\r\n      <path d=\"M 794 531 \r\nL 1825 531 \r\nL 1825 4091 \r\nL 703 3866 \r\nL 703 4441 \r\nL 1819 4666 \r\nL 2450 4666 \r\nL 2450 531 \r\nL 3481 531 \r\nL 3481 0 \r\nL 794 0 \r\nL 794 531 \r\nz\r\n\" id=\"DejaVuSans-31\" transform=\"scale(0.015625)\"/>\r\n     </defs>\r\n     <use xlink:href=\"#DejaVuSans-31\"/>\r\n    </g>\r\n   </g>\r\n   <g id=\"text_26\">\r\n    <!-- 0.0087 -->\r\n    <g style=\"fill:#ffffff;\" transform=\"translate(123.100938 27.348594)scale(0.1 -0.1)\">\r\n     <defs>\r\n      <path d=\"M 2034 4250 \r\nQ 1547 4250 1301 3770 \r\nQ 1056 3291 1056 2328 \r\nQ 1056 1369 1301 889 \r\nQ 1547 409 2034 409 \r\nQ 2525 409 2770 889 \r\nQ 3016 1369 3016 2328 \r\nQ 3016 3291 2770 3770 \r\nQ 2525 4250 2034 4250 \r\nz\r\nM 2034 4750 \r\nQ 2819 4750 3233 4129 \r\nQ 3647 3509 3647 2328 \r\nQ 3647 1150 3233 529 \r\nQ 2819 -91 2034 -91 \r\nQ 1250 -91 836 529 \r\nQ 422 1150 422 2328 \r\nQ 422 3509 836 4129 \r\nQ 1250 4750 2034 4750 \r\nz\r\n\" id=\"DejaVuSans-30\" transform=\"scale(0.015625)\"/>\r\n      <path d=\"M 684 794 \r\nL 1344 794 \r\nL 1344 0 \r\nL 684 0 \r\nL 684 794 \r\nz\r\n\" id=\"DejaVuSans-2e\" transform=\"scale(0.015625)\"/>\r\n      <path d=\"M 2034 2216 \r\nQ 1584 2216 1326 1975 \r\nQ 1069 1734 1069 1313 \r\nQ 1069 891 1326 650 \r\nQ 1584 409 2034 409 \r\nQ 2484 409 2743 651 \r\nQ 3003 894 3003 1313 \r\nQ 3003 1734 2745 1975 \r\nQ 2488 2216 2034 2216 \r\nz\r\nM 1403 2484 \r\nQ 997 2584 770 2862 \r\nQ 544 3141 544 3541 \r\nQ 544 4100 942 4425 \r\nQ 1341 4750 2034 4750 \r\nQ 2731 4750 3128 4425 \r\nQ 3525 4100 3525 3541 \r\nQ 3525 3141 3298 2862 \r\nQ 3072 2584 2669 2484 \r\nQ 3125 2378 3379 2068 \r\nQ 3634 1759 3634 1313 \r\nQ 3634 634 3220 271 \r\nQ 2806 -91 2034 -91 \r\nQ 1263 -91 848 271 \r\nQ 434 634 434 1313 \r\nQ 434 1759 690 2068 \r\nQ 947 2378 1403 2484 \r\nz\r\nM 1172 3481 \r\nQ 1172 3119 1398 2916 \r\nQ 1625 2713 2034 2713 \r\nQ 2441 2713 2670 2916 \r\nQ 2900 3119 2900 3481 \r\nQ 2900 3844 2670 4047 \r\nQ 2441 4250 2034 4250 \r\nQ 1625 4250 1398 4047 \r\nQ 1172 3844 1172 3481 \r\nz\r\n\" id=\"DejaVuSans-38\" transform=\"scale(0.015625)\"/>\r\n      <path d=\"M 525 4666 \r\nL 3525 4666 \r\nL 3525 4397 \r\nL 1831 0 \r\nL 1172 0 \r\nL 2766 4134 \r\nL 525 4134 \r\nL 525 4666 \r\nz\r\n\" id=\"DejaVuSans-37\" transform=\"scale(0.015625)\"/>\r\n     </defs>\r\n     <use xlink:href=\"#DejaVuSans-30\"/>\r\n     <use x=\"63.623047\" xlink:href=\"#DejaVuSans-2e\"/>\r\n     <use x=\"95.410156\" xlink:href=\"#DejaVuSans-30\"/>\r\n     <use x=\"159.033203\" xlink:href=\"#DejaVuSans-30\"/>\r\n     <use x=\"222.65625\" xlink:href=\"#DejaVuSans-38\"/>\r\n     <use x=\"286.279297\" xlink:href=\"#DejaVuSans-37\"/>\r\n    </g>\r\n   </g>\r\n   <g id=\"text_27\">\r\n    <!-- 0.041 -->\r\n    <g style=\"fill:#ffffff;\" transform=\"translate(156.042188 27.348594)scale(0.1 -0.1)\">\r\n     <defs>\r\n      <path d=\"M 2419 4116 \r\nL 825 1625 \r\nL 2419 1625 \r\nL 2419 4116 \r\nz\r\nM 2253 4666 \r\nL 3047 4666 \r\nL 3047 1625 \r\nL 3713 1625 \r\nL 3713 1100 \r\nL 3047 1100 \r\nL 3047 0 \r\nL 2419 0 \r\nL 2419 1100 \r\nL 313 1100 \r\nL 313 1709 \r\nL 2253 4666 \r\nz\r\n\" id=\"DejaVuSans-34\" transform=\"scale(0.015625)\"/>\r\n     </defs>\r\n     <use xlink:href=\"#DejaVuSans-30\"/>\r\n     <use x=\"63.623047\" xlink:href=\"#DejaVuSans-2e\"/>\r\n     <use x=\"95.410156\" xlink:href=\"#DejaVuSans-30\"/>\r\n     <use x=\"159.033203\" xlink:href=\"#DejaVuSans-34\"/>\r\n     <use x=\"222.65625\" xlink:href=\"#DejaVuSans-31\"/>\r\n    </g>\r\n   </g>\r\n   <g id=\"text_28\">\r\n    <!-- 0.068 -->\r\n    <g style=\"fill:#ffffff;\" transform=\"translate(185.802188 27.348594)scale(0.1 -0.1)\">\r\n     <defs>\r\n      <path d=\"M 2113 2584 \r\nQ 1688 2584 1439 2293 \r\nQ 1191 2003 1191 1497 \r\nQ 1191 994 1439 701 \r\nQ 1688 409 2113 409 \r\nQ 2538 409 2786 701 \r\nQ 3034 994 3034 1497 \r\nQ 3034 2003 2786 2293 \r\nQ 2538 2584 2113 2584 \r\nz\r\nM 3366 4563 \r\nL 3366 3988 \r\nQ 3128 4100 2886 4159 \r\nQ 2644 4219 2406 4219 \r\nQ 1781 4219 1451 3797 \r\nQ 1122 3375 1075 2522 \r\nQ 1259 2794 1537 2939 \r\nQ 1816 3084 2150 3084 \r\nQ 2853 3084 3261 2657 \r\nQ 3669 2231 3669 1497 \r\nQ 3669 778 3244 343 \r\nQ 2819 -91 2113 -91 \r\nQ 1303 -91 875 529 \r\nQ 447 1150 447 2328 \r\nQ 447 3434 972 4092 \r\nQ 1497 4750 2381 4750 \r\nQ 2619 4750 2861 4703 \r\nQ 3103 4656 3366 4563 \r\nz\r\n\" id=\"DejaVuSans-36\" transform=\"scale(0.015625)\"/>\r\n     </defs>\r\n     <use xlink:href=\"#DejaVuSans-30\"/>\r\n     <use x=\"63.623047\" xlink:href=\"#DejaVuSans-2e\"/>\r\n     <use x=\"95.410156\" xlink:href=\"#DejaVuSans-30\"/>\r\n     <use x=\"159.033203\" xlink:href=\"#DejaVuSans-36\"/>\r\n     <use x=\"222.65625\" xlink:href=\"#DejaVuSans-38\"/>\r\n    </g>\r\n   </g>\r\n   <g id=\"text_29\">\r\n    <!-- 0.1 -->\r\n    <g style=\"fill:#ffffff;\" transform=\"translate(221.924688 27.348594)scale(0.1 -0.1)\">\r\n     <use xlink:href=\"#DejaVuSans-30\"/>\r\n     <use x=\"63.623047\" xlink:href=\"#DejaVuSans-2e\"/>\r\n     <use x=\"95.410156\" xlink:href=\"#DejaVuSans-31\"/>\r\n    </g>\r\n   </g>\r\n   <g id=\"text_30\">\r\n    <!-- 0.0049 -->\r\n    <g style=\"fill:#ffffff;\" transform=\"translate(242.140938 27.348594)scale(0.1 -0.1)\">\r\n     <defs>\r\n      <path d=\"M 703 97 \r\nL 703 672 \r\nQ 941 559 1184 500 \r\nQ 1428 441 1663 441 \r\nQ 2288 441 2617 861 \r\nQ 2947 1281 2994 2138 \r\nQ 2813 1869 2534 1725 \r\nQ 2256 1581 1919 1581 \r\nQ 1219 1581 811 2004 \r\nQ 403 2428 403 3163 \r\nQ 403 3881 828 4315 \r\nQ 1253 4750 1959 4750 \r\nQ 2769 4750 3195 4129 \r\nQ 3622 3509 3622 2328 \r\nQ 3622 1225 3098 567 \r\nQ 2575 -91 1691 -91 \r\nQ 1453 -91 1209 -44 \r\nQ 966 3 703 97 \r\nz\r\nM 1959 2075 \r\nQ 2384 2075 2632 2365 \r\nQ 2881 2656 2881 3163 \r\nQ 2881 3666 2632 3958 \r\nQ 2384 4250 1959 4250 \r\nQ 1534 4250 1286 3958 \r\nQ 1038 3666 1038 3163 \r\nQ 1038 2656 1286 2365 \r\nQ 1534 2075 1959 2075 \r\nz\r\n\" id=\"DejaVuSans-39\" transform=\"scale(0.015625)\"/>\r\n     </defs>\r\n     <use xlink:href=\"#DejaVuSans-30\"/>\r\n     <use x=\"63.623047\" xlink:href=\"#DejaVuSans-2e\"/>\r\n     <use x=\"95.410156\" xlink:href=\"#DejaVuSans-30\"/>\r\n     <use x=\"159.033203\" xlink:href=\"#DejaVuSans-30\"/>\r\n     <use x=\"222.65625\" xlink:href=\"#DejaVuSans-34\"/>\r\n     <use x=\"286.279297\" xlink:href=\"#DejaVuSans-39\"/>\r\n    </g>\r\n   </g>\r\n   <g id=\"text_31\">\r\n    <!-- 0.098 -->\r\n    <g style=\"fill:#ffffff;\" transform=\"translate(275.082188 27.348594)scale(0.1 -0.1)\">\r\n     <use xlink:href=\"#DejaVuSans-30\"/>\r\n     <use x=\"63.623047\" xlink:href=\"#DejaVuSans-2e\"/>\r\n     <use x=\"95.410156\" xlink:href=\"#DejaVuSans-30\"/>\r\n     <use x=\"159.033203\" xlink:href=\"#DejaVuSans-39\"/>\r\n     <use x=\"222.65625\" xlink:href=\"#DejaVuSans-38\"/>\r\n    </g>\r\n   </g>\r\n   <g id=\"text_32\">\r\n    <!-- 0.098 -->\r\n    <g style=\"fill:#ffffff;\" transform=\"translate(304.842188 27.348594)scale(0.1 -0.1)\">\r\n     <use xlink:href=\"#DejaVuSans-30\"/>\r\n     <use x=\"63.623047\" xlink:href=\"#DejaVuSans-2e\"/>\r\n     <use x=\"95.410156\" xlink:href=\"#DejaVuSans-30\"/>\r\n     <use x=\"159.033203\" xlink:href=\"#DejaVuSans-39\"/>\r\n     <use x=\"222.65625\" xlink:href=\"#DejaVuSans-38\"/>\r\n    </g>\r\n   </g>\r\n   <g id=\"text_33\">\r\n    <!-- 0.12 -->\r\n    <g style=\"fill:#ffffff;\" transform=\"translate(337.783438 27.348594)scale(0.1 -0.1)\">\r\n     <defs>\r\n      <path d=\"M 1228 531 \r\nL 3431 531 \r\nL 3431 0 \r\nL 469 0 \r\nL 469 531 \r\nQ 828 903 1448 1529 \r\nQ 2069 2156 2228 2338 \r\nQ 2531 2678 2651 2914 \r\nQ 2772 3150 2772 3378 \r\nQ 2772 3750 2511 3984 \r\nQ 2250 4219 1831 4219 \r\nQ 1534 4219 1204 4116 \r\nQ 875 4013 500 3803 \r\nL 500 4441 \r\nQ 881 4594 1212 4672 \r\nQ 1544 4750 1819 4750 \r\nQ 2544 4750 2975 4387 \r\nQ 3406 4025 3406 3419 \r\nQ 3406 3131 3298 2873 \r\nQ 3191 2616 2906 2266 \r\nQ 2828 2175 2409 1742 \r\nQ 1991 1309 1228 531 \r\nz\r\n\" id=\"DejaVuSans-32\" transform=\"scale(0.015625)\"/>\r\n     </defs>\r\n     <use xlink:href=\"#DejaVuSans-30\"/>\r\n     <use x=\"63.623047\" xlink:href=\"#DejaVuSans-2e\"/>\r\n     <use x=\"95.410156\" xlink:href=\"#DejaVuSans-31\"/>\r\n     <use x=\"159.033203\" xlink:href=\"#DejaVuSans-32\"/>\r\n    </g>\r\n   </g>\r\n   <g id=\"text_34\">\r\n    <!-- 0.01 -->\r\n    <g style=\"fill:#ffffff;\" transform=\"translate(367.543438 27.348594)scale(0.1 -0.1)\">\r\n     <use xlink:href=\"#DejaVuSans-30\"/>\r\n     <use x=\"63.623047\" xlink:href=\"#DejaVuSans-2e\"/>\r\n     <use x=\"95.410156\" xlink:href=\"#DejaVuSans-30\"/>\r\n     <use x=\"159.033203\" xlink:href=\"#DejaVuSans-31\"/>\r\n    </g>\r\n   </g>\r\n   <g id=\"text_35\">\r\n    <!-- 0.1 -->\r\n    <g style=\"fill:#ffffff;\" transform=\"translate(400.484688 27.348594)scale(0.1 -0.1)\">\r\n     <use xlink:href=\"#DejaVuSans-30\"/>\r\n     <use x=\"63.623047\" xlink:href=\"#DejaVuSans-2e\"/>\r\n     <use x=\"95.410156\" xlink:href=\"#DejaVuSans-31\"/>\r\n    </g>\r\n   </g>\r\n   <g id=\"text_36\">\r\n    <!-- 0.029 -->\r\n    <g style=\"fill:#ffffff;\" transform=\"translate(423.882188 27.348594)scale(0.1 -0.1)\">\r\n     <use xlink:href=\"#DejaVuSans-30\"/>\r\n     <use x=\"63.623047\" xlink:href=\"#DejaVuSans-2e\"/>\r\n     <use x=\"95.410156\" xlink:href=\"#DejaVuSans-30\"/>\r\n     <use x=\"159.033203\" xlink:href=\"#DejaVuSans-32\"/>\r\n     <use x=\"222.65625\" xlink:href=\"#DejaVuSans-39\"/>\r\n    </g>\r\n   </g>\r\n   <g id=\"text_37\">\r\n    <!-- 0.0087 -->\r\n    <g style=\"fill:#ffffff;\" transform=\"translate(93.340938 54.528594)scale(0.1 -0.1)\">\r\n     <use xlink:href=\"#DejaVuSans-30\"/>\r\n     <use x=\"63.623047\" xlink:href=\"#DejaVuSans-2e\"/>\r\n     <use x=\"95.410156\" xlink:href=\"#DejaVuSans-30\"/>\r\n     <use x=\"159.033203\" xlink:href=\"#DejaVuSans-30\"/>\r\n     <use x=\"222.65625\" xlink:href=\"#DejaVuSans-38\"/>\r\n     <use x=\"286.279297\" xlink:href=\"#DejaVuSans-37\"/>\r\n    </g>\r\n   </g>\r\n   <g id=\"text_38\">\r\n    <!-- 1 -->\r\n    <g style=\"fill:#262626;\" transform=\"translate(137.415 54.528594)scale(0.1 -0.1)\">\r\n     <use xlink:href=\"#DejaVuSans-31\"/>\r\n    </g>\r\n   </g>\r\n   <g id=\"text_39\">\r\n    <!-- 0.013 -->\r\n    <g style=\"fill:#ffffff;\" transform=\"translate(156.042188 54.528594)scale(0.1 -0.1)\">\r\n     <defs>\r\n      <path d=\"M 2597 2516 \r\nQ 3050 2419 3304 2112 \r\nQ 3559 1806 3559 1356 \r\nQ 3559 666 3084 287 \r\nQ 2609 -91 1734 -91 \r\nQ 1441 -91 1130 -33 \r\nQ 819 25 488 141 \r\nL 488 750 \r\nQ 750 597 1062 519 \r\nQ 1375 441 1716 441 \r\nQ 2309 441 2620 675 \r\nQ 2931 909 2931 1356 \r\nQ 2931 1769 2642 2001 \r\nQ 2353 2234 1838 2234 \r\nL 1294 2234 \r\nL 1294 2753 \r\nL 1863 2753 \r\nQ 2328 2753 2575 2939 \r\nQ 2822 3125 2822 3475 \r\nQ 2822 3834 2567 4026 \r\nQ 2313 4219 1838 4219 \r\nQ 1578 4219 1281 4162 \r\nQ 984 4106 628 3988 \r\nL 628 4550 \r\nQ 988 4650 1302 4700 \r\nQ 1616 4750 1894 4750 \r\nQ 2613 4750 3031 4423 \r\nQ 3450 4097 3450 3541 \r\nQ 3450 3153 3228 2886 \r\nQ 3006 2619 2597 2516 \r\nz\r\n\" id=\"DejaVuSans-33\" transform=\"scale(0.015625)\"/>\r\n     </defs>\r\n     <use xlink:href=\"#DejaVuSans-30\"/>\r\n     <use x=\"63.623047\" xlink:href=\"#DejaVuSans-2e\"/>\r\n     <use x=\"95.410156\" xlink:href=\"#DejaVuSans-30\"/>\r\n     <use x=\"159.033203\" xlink:href=\"#DejaVuSans-31\"/>\r\n     <use x=\"222.65625\" xlink:href=\"#DejaVuSans-33\"/>\r\n    </g>\r\n   </g>\r\n   <g id=\"text_40\">\r\n    <!-- 0.038 -->\r\n    <g style=\"fill:#ffffff;\" transform=\"translate(185.802188 54.528594)scale(0.1 -0.1)\">\r\n     <use xlink:href=\"#DejaVuSans-30\"/>\r\n     <use x=\"63.623047\" xlink:href=\"#DejaVuSans-2e\"/>\r\n     <use x=\"95.410156\" xlink:href=\"#DejaVuSans-30\"/>\r\n     <use x=\"159.033203\" xlink:href=\"#DejaVuSans-33\"/>\r\n     <use x=\"222.65625\" xlink:href=\"#DejaVuSans-38\"/>\r\n    </g>\r\n   </g>\r\n   <g id=\"text_41\">\r\n    <!-- 0.079 -->\r\n    <g style=\"fill:#ffffff;\" transform=\"translate(215.562188 54.528594)scale(0.1 -0.1)\">\r\n     <use xlink:href=\"#DejaVuSans-30\"/>\r\n     <use x=\"63.623047\" xlink:href=\"#DejaVuSans-2e\"/>\r\n     <use x=\"95.410156\" xlink:href=\"#DejaVuSans-30\"/>\r\n     <use x=\"159.033203\" xlink:href=\"#DejaVuSans-37\"/>\r\n     <use x=\"222.65625\" xlink:href=\"#DejaVuSans-39\"/>\r\n    </g>\r\n   </g>\r\n   <g id=\"text_42\">\r\n    <!-- 0.091 -->\r\n    <g style=\"fill:#ffffff;\" transform=\"translate(245.322188 54.528594)scale(0.1 -0.1)\">\r\n     <use xlink:href=\"#DejaVuSans-30\"/>\r\n     <use x=\"63.623047\" xlink:href=\"#DejaVuSans-2e\"/>\r\n     <use x=\"95.410156\" xlink:href=\"#DejaVuSans-30\"/>\r\n     <use x=\"159.033203\" xlink:href=\"#DejaVuSans-39\"/>\r\n     <use x=\"222.65625\" xlink:href=\"#DejaVuSans-31\"/>\r\n    </g>\r\n   </g>\r\n   <g id=\"text_43\">\r\n    <!-- 0.015 -->\r\n    <g style=\"fill:#ffffff;\" transform=\"translate(275.082188 54.528594)scale(0.1 -0.1)\">\r\n     <defs>\r\n      <path d=\"M 691 4666 \r\nL 3169 4666 \r\nL 3169 4134 \r\nL 1269 4134 \r\nL 1269 2991 \r\nQ 1406 3038 1543 3061 \r\nQ 1681 3084 1819 3084 \r\nQ 2600 3084 3056 2656 \r\nQ 3513 2228 3513 1497 \r\nQ 3513 744 3044 326 \r\nQ 2575 -91 1722 -91 \r\nQ 1428 -91 1123 -41 \r\nQ 819 9 494 109 \r\nL 494 744 \r\nQ 775 591 1075 516 \r\nQ 1375 441 1709 441 \r\nQ 2250 441 2565 725 \r\nQ 2881 1009 2881 1497 \r\nQ 2881 1984 2565 2268 \r\nQ 2250 2553 1709 2553 \r\nQ 1456 2553 1204 2497 \r\nQ 953 2441 691 2322 \r\nL 691 4666 \r\nz\r\n\" id=\"DejaVuSans-35\" transform=\"scale(0.015625)\"/>\r\n     </defs>\r\n     <use xlink:href=\"#DejaVuSans-30\"/>\r\n     <use x=\"63.623047\" xlink:href=\"#DejaVuSans-2e\"/>\r\n     <use x=\"95.410156\" xlink:href=\"#DejaVuSans-30\"/>\r\n     <use x=\"159.033203\" xlink:href=\"#DejaVuSans-31\"/>\r\n     <use x=\"222.65625\" xlink:href=\"#DejaVuSans-35\"/>\r\n    </g>\r\n   </g>\r\n   <g id=\"text_44\">\r\n    <!-- 0.0062 -->\r\n    <g style=\"fill:#ffffff;\" transform=\"translate(301.660938 54.528594)scale(0.1 -0.1)\">\r\n     <use xlink:href=\"#DejaVuSans-30\"/>\r\n     <use x=\"63.623047\" xlink:href=\"#DejaVuSans-2e\"/>\r\n     <use x=\"95.410156\" xlink:href=\"#DejaVuSans-30\"/>\r\n     <use x=\"159.033203\" xlink:href=\"#DejaVuSans-30\"/>\r\n     <use x=\"222.65625\" xlink:href=\"#DejaVuSans-36\"/>\r\n     <use x=\"286.279297\" xlink:href=\"#DejaVuSans-32\"/>\r\n    </g>\r\n   </g>\r\n   <g id=\"text_45\">\r\n    <!-- 0.072 -->\r\n    <g style=\"fill:#ffffff;\" transform=\"translate(334.602188 54.528594)scale(0.1 -0.1)\">\r\n     <use xlink:href=\"#DejaVuSans-30\"/>\r\n     <use x=\"63.623047\" xlink:href=\"#DejaVuSans-2e\"/>\r\n     <use x=\"95.410156\" xlink:href=\"#DejaVuSans-30\"/>\r\n     <use x=\"159.033203\" xlink:href=\"#DejaVuSans-37\"/>\r\n     <use x=\"222.65625\" xlink:href=\"#DejaVuSans-32\"/>\r\n    </g>\r\n   </g>\r\n   <g id=\"text_46\">\r\n    <!-- 0.077 -->\r\n    <g style=\"fill:#ffffff;\" transform=\"translate(364.362188 54.528594)scale(0.1 -0.1)\">\r\n     <use xlink:href=\"#DejaVuSans-30\"/>\r\n     <use x=\"63.623047\" xlink:href=\"#DejaVuSans-2e\"/>\r\n     <use x=\"95.410156\" xlink:href=\"#DejaVuSans-30\"/>\r\n     <use x=\"159.033203\" xlink:href=\"#DejaVuSans-37\"/>\r\n     <use x=\"222.65625\" xlink:href=\"#DejaVuSans-37\"/>\r\n    </g>\r\n   </g>\r\n   <g id=\"text_47\">\r\n    <!-- 0.064 -->\r\n    <g style=\"fill:#ffffff;\" transform=\"translate(394.122188 54.528594)scale(0.1 -0.1)\">\r\n     <use xlink:href=\"#DejaVuSans-30\"/>\r\n     <use x=\"63.623047\" xlink:href=\"#DejaVuSans-2e\"/>\r\n     <use x=\"95.410156\" xlink:href=\"#DejaVuSans-30\"/>\r\n     <use x=\"159.033203\" xlink:href=\"#DejaVuSans-36\"/>\r\n     <use x=\"222.65625\" xlink:href=\"#DejaVuSans-34\"/>\r\n    </g>\r\n   </g>\r\n   <g id=\"text_48\">\r\n    <!-- 0.037 -->\r\n    <g style=\"fill:#ffffff;\" transform=\"translate(423.882188 54.528594)scale(0.1 -0.1)\">\r\n     <use xlink:href=\"#DejaVuSans-30\"/>\r\n     <use x=\"63.623047\" xlink:href=\"#DejaVuSans-2e\"/>\r\n     <use x=\"95.410156\" xlink:href=\"#DejaVuSans-30\"/>\r\n     <use x=\"159.033203\" xlink:href=\"#DejaVuSans-33\"/>\r\n     <use x=\"222.65625\" xlink:href=\"#DejaVuSans-37\"/>\r\n    </g>\r\n   </g>\r\n   <g id=\"text_49\">\r\n    <!-- 0.041 -->\r\n    <g style=\"fill:#ffffff;\" transform=\"translate(96.522188 81.708594)scale(0.1 -0.1)\">\r\n     <use xlink:href=\"#DejaVuSans-30\"/>\r\n     <use x=\"63.623047\" xlink:href=\"#DejaVuSans-2e\"/>\r\n     <use x=\"95.410156\" xlink:href=\"#DejaVuSans-30\"/>\r\n     <use x=\"159.033203\" xlink:href=\"#DejaVuSans-34\"/>\r\n     <use x=\"222.65625\" xlink:href=\"#DejaVuSans-31\"/>\r\n    </g>\r\n   </g>\r\n   <g id=\"text_50\">\r\n    <!-- 0.013 -->\r\n    <g style=\"fill:#ffffff;\" transform=\"translate(126.282188 81.708594)scale(0.1 -0.1)\">\r\n     <use xlink:href=\"#DejaVuSans-30\"/>\r\n     <use x=\"63.623047\" xlink:href=\"#DejaVuSans-2e\"/>\r\n     <use x=\"95.410156\" xlink:href=\"#DejaVuSans-30\"/>\r\n     <use x=\"159.033203\" xlink:href=\"#DejaVuSans-31\"/>\r\n     <use x=\"222.65625\" xlink:href=\"#DejaVuSans-33\"/>\r\n    </g>\r\n   </g>\r\n   <g id=\"text_51\">\r\n    <!-- 1 -->\r\n    <g style=\"fill:#262626;\" transform=\"translate(167.175 81.708594)scale(0.1 -0.1)\">\r\n     <use xlink:href=\"#DejaVuSans-31\"/>\r\n    </g>\r\n   </g>\r\n   <g id=\"text_52\">\r\n    <!-- 0.036 -->\r\n    <g style=\"fill:#ffffff;\" transform=\"translate(185.802188 81.708594)scale(0.1 -0.1)\">\r\n     <use xlink:href=\"#DejaVuSans-30\"/>\r\n     <use x=\"63.623047\" xlink:href=\"#DejaVuSans-2e\"/>\r\n     <use x=\"95.410156\" xlink:href=\"#DejaVuSans-30\"/>\r\n     <use x=\"159.033203\" xlink:href=\"#DejaVuSans-33\"/>\r\n     <use x=\"222.65625\" xlink:href=\"#DejaVuSans-36\"/>\r\n    </g>\r\n   </g>\r\n   <g id=\"text_53\">\r\n    <!-- 0.014 -->\r\n    <g style=\"fill:#ffffff;\" transform=\"translate(215.562188 81.708594)scale(0.1 -0.1)\">\r\n     <use xlink:href=\"#DejaVuSans-30\"/>\r\n     <use x=\"63.623047\" xlink:href=\"#DejaVuSans-2e\"/>\r\n     <use x=\"95.410156\" xlink:href=\"#DejaVuSans-30\"/>\r\n     <use x=\"159.033203\" xlink:href=\"#DejaVuSans-31\"/>\r\n     <use x=\"222.65625\" xlink:href=\"#DejaVuSans-34\"/>\r\n    </g>\r\n   </g>\r\n   <g id=\"text_54\">\r\n    <!-- 0.017 -->\r\n    <g style=\"fill:#ffffff;\" transform=\"translate(245.322188 81.708594)scale(0.1 -0.1)\">\r\n     <use xlink:href=\"#DejaVuSans-30\"/>\r\n     <use x=\"63.623047\" xlink:href=\"#DejaVuSans-2e\"/>\r\n     <use x=\"95.410156\" xlink:href=\"#DejaVuSans-30\"/>\r\n     <use x=\"159.033203\" xlink:href=\"#DejaVuSans-31\"/>\r\n     <use x=\"222.65625\" xlink:href=\"#DejaVuSans-37\"/>\r\n    </g>\r\n   </g>\r\n   <g id=\"text_55\">\r\n    <!-- 0.14 -->\r\n    <g style=\"fill:#ffffff;\" transform=\"translate(278.263438 81.708594)scale(0.1 -0.1)\">\r\n     <use xlink:href=\"#DejaVuSans-30\"/>\r\n     <use x=\"63.623047\" xlink:href=\"#DejaVuSans-2e\"/>\r\n     <use x=\"95.410156\" xlink:href=\"#DejaVuSans-31\"/>\r\n     <use x=\"159.033203\" xlink:href=\"#DejaVuSans-34\"/>\r\n    </g>\r\n   </g>\r\n   <g id=\"text_56\">\r\n    <!-- 0.055 -->\r\n    <g style=\"fill:#ffffff;\" transform=\"translate(304.842188 81.708594)scale(0.1 -0.1)\">\r\n     <use xlink:href=\"#DejaVuSans-30\"/>\r\n     <use x=\"63.623047\" xlink:href=\"#DejaVuSans-2e\"/>\r\n     <use x=\"95.410156\" xlink:href=\"#DejaVuSans-30\"/>\r\n     <use x=\"159.033203\" xlink:href=\"#DejaVuSans-35\"/>\r\n     <use x=\"222.65625\" xlink:href=\"#DejaVuSans-35\"/>\r\n    </g>\r\n   </g>\r\n   <g id=\"text_57\">\r\n    <!-- 0.13 -->\r\n    <g style=\"fill:#ffffff;\" transform=\"translate(337.783438 81.708594)scale(0.1 -0.1)\">\r\n     <use xlink:href=\"#DejaVuSans-30\"/>\r\n     <use x=\"63.623047\" xlink:href=\"#DejaVuSans-2e\"/>\r\n     <use x=\"95.410156\" xlink:href=\"#DejaVuSans-31\"/>\r\n     <use x=\"159.033203\" xlink:href=\"#DejaVuSans-33\"/>\r\n    </g>\r\n   </g>\r\n   <g id=\"text_58\">\r\n    <!-- 0.03 -->\r\n    <g style=\"fill:#ffffff;\" transform=\"translate(367.543438 81.708594)scale(0.1 -0.1)\">\r\n     <use xlink:href=\"#DejaVuSans-30\"/>\r\n     <use x=\"63.623047\" xlink:href=\"#DejaVuSans-2e\"/>\r\n     <use x=\"95.410156\" xlink:href=\"#DejaVuSans-30\"/>\r\n     <use x=\"159.033203\" xlink:href=\"#DejaVuSans-33\"/>\r\n    </g>\r\n   </g>\r\n   <g id=\"text_59\">\r\n    <!-- 0.14 -->\r\n    <g style=\"fill:#ffffff;\" transform=\"translate(397.303438 81.708594)scale(0.1 -0.1)\">\r\n     <use xlink:href=\"#DejaVuSans-30\"/>\r\n     <use x=\"63.623047\" xlink:href=\"#DejaVuSans-2e\"/>\r\n     <use x=\"95.410156\" xlink:href=\"#DejaVuSans-31\"/>\r\n     <use x=\"159.033203\" xlink:href=\"#DejaVuSans-34\"/>\r\n    </g>\r\n   </g>\r\n   <g id=\"text_60\">\r\n    <!-- 0.055 -->\r\n    <g style=\"fill:#ffffff;\" transform=\"translate(423.882188 81.708594)scale(0.1 -0.1)\">\r\n     <use xlink:href=\"#DejaVuSans-30\"/>\r\n     <use x=\"63.623047\" xlink:href=\"#DejaVuSans-2e\"/>\r\n     <use x=\"95.410156\" xlink:href=\"#DejaVuSans-30\"/>\r\n     <use x=\"159.033203\" xlink:href=\"#DejaVuSans-35\"/>\r\n     <use x=\"222.65625\" xlink:href=\"#DejaVuSans-35\"/>\r\n    </g>\r\n   </g>\r\n   <g id=\"text_61\">\r\n    <!-- 0.068 -->\r\n    <g style=\"fill:#ffffff;\" transform=\"translate(96.522188 108.888594)scale(0.1 -0.1)\">\r\n     <use xlink:href=\"#DejaVuSans-30\"/>\r\n     <use x=\"63.623047\" xlink:href=\"#DejaVuSans-2e\"/>\r\n     <use x=\"95.410156\" xlink:href=\"#DejaVuSans-30\"/>\r\n     <use x=\"159.033203\" xlink:href=\"#DejaVuSans-36\"/>\r\n     <use x=\"222.65625\" xlink:href=\"#DejaVuSans-38\"/>\r\n    </g>\r\n   </g>\r\n   <g id=\"text_62\">\r\n    <!-- 0.038 -->\r\n    <g style=\"fill:#ffffff;\" transform=\"translate(126.282188 108.888594)scale(0.1 -0.1)\">\r\n     <use xlink:href=\"#DejaVuSans-30\"/>\r\n     <use x=\"63.623047\" xlink:href=\"#DejaVuSans-2e\"/>\r\n     <use x=\"95.410156\" xlink:href=\"#DejaVuSans-30\"/>\r\n     <use x=\"159.033203\" xlink:href=\"#DejaVuSans-33\"/>\r\n     <use x=\"222.65625\" xlink:href=\"#DejaVuSans-38\"/>\r\n    </g>\r\n   </g>\r\n   <g id=\"text_63\">\r\n    <!-- 0.036 -->\r\n    <g style=\"fill:#ffffff;\" transform=\"translate(156.042188 108.888594)scale(0.1 -0.1)\">\r\n     <use xlink:href=\"#DejaVuSans-30\"/>\r\n     <use x=\"63.623047\" xlink:href=\"#DejaVuSans-2e\"/>\r\n     <use x=\"95.410156\" xlink:href=\"#DejaVuSans-30\"/>\r\n     <use x=\"159.033203\" xlink:href=\"#DejaVuSans-33\"/>\r\n     <use x=\"222.65625\" xlink:href=\"#DejaVuSans-36\"/>\r\n    </g>\r\n   </g>\r\n   <g id=\"text_64\">\r\n    <!-- 1 -->\r\n    <g style=\"fill:#262626;\" transform=\"translate(196.935 108.888594)scale(0.1 -0.1)\">\r\n     <use xlink:href=\"#DejaVuSans-31\"/>\r\n    </g>\r\n   </g>\r\n   <g id=\"text_65\">\r\n    <!-- 0.081 -->\r\n    <g style=\"fill:#ffffff;\" transform=\"translate(215.562188 108.888594)scale(0.1 -0.1)\">\r\n     <use xlink:href=\"#DejaVuSans-30\"/>\r\n     <use x=\"63.623047\" xlink:href=\"#DejaVuSans-2e\"/>\r\n     <use x=\"95.410156\" xlink:href=\"#DejaVuSans-30\"/>\r\n     <use x=\"159.033203\" xlink:href=\"#DejaVuSans-38\"/>\r\n     <use x=\"222.65625\" xlink:href=\"#DejaVuSans-31\"/>\r\n    </g>\r\n   </g>\r\n   <g id=\"text_66\">\r\n    <!-- 0.077 -->\r\n    <g style=\"fill:#ffffff;\" transform=\"translate(245.322188 108.888594)scale(0.1 -0.1)\">\r\n     <use xlink:href=\"#DejaVuSans-30\"/>\r\n     <use x=\"63.623047\" xlink:href=\"#DejaVuSans-2e\"/>\r\n     <use x=\"95.410156\" xlink:href=\"#DejaVuSans-30\"/>\r\n     <use x=\"159.033203\" xlink:href=\"#DejaVuSans-37\"/>\r\n     <use x=\"222.65625\" xlink:href=\"#DejaVuSans-37\"/>\r\n    </g>\r\n   </g>\r\n   <g id=\"text_67\">\r\n    <!-- 0.067 -->\r\n    <g style=\"fill:#ffffff;\" transform=\"translate(275.082188 108.888594)scale(0.1 -0.1)\">\r\n     <use xlink:href=\"#DejaVuSans-30\"/>\r\n     <use x=\"63.623047\" xlink:href=\"#DejaVuSans-2e\"/>\r\n     <use x=\"95.410156\" xlink:href=\"#DejaVuSans-30\"/>\r\n     <use x=\"159.033203\" xlink:href=\"#DejaVuSans-36\"/>\r\n     <use x=\"222.65625\" xlink:href=\"#DejaVuSans-37\"/>\r\n    </g>\r\n   </g>\r\n   <g id=\"text_68\">\r\n    <!-- 0.18 -->\r\n    <g style=\"fill:#ffffff;\" transform=\"translate(308.023438 108.888594)scale(0.1 -0.1)\">\r\n     <use xlink:href=\"#DejaVuSans-30\"/>\r\n     <use x=\"63.623047\" xlink:href=\"#DejaVuSans-2e\"/>\r\n     <use x=\"95.410156\" xlink:href=\"#DejaVuSans-31\"/>\r\n     <use x=\"159.033203\" xlink:href=\"#DejaVuSans-38\"/>\r\n    </g>\r\n   </g>\r\n   <g id=\"text_69\">\r\n    <!-- 0.25 -->\r\n    <g style=\"fill:#ffffff;\" transform=\"translate(337.783438 108.888594)scale(0.1 -0.1)\">\r\n     <use xlink:href=\"#DejaVuSans-30\"/>\r\n     <use x=\"63.623047\" xlink:href=\"#DejaVuSans-2e\"/>\r\n     <use x=\"95.410156\" xlink:href=\"#DejaVuSans-32\"/>\r\n     <use x=\"159.033203\" xlink:href=\"#DejaVuSans-35\"/>\r\n    </g>\r\n   </g>\r\n   <g id=\"text_70\">\r\n    <!-- 0.075 -->\r\n    <g style=\"fill:#ffffff;\" transform=\"translate(364.362188 108.888594)scale(0.1 -0.1)\">\r\n     <use xlink:href=\"#DejaVuSans-30\"/>\r\n     <use x=\"63.623047\" xlink:href=\"#DejaVuSans-2e\"/>\r\n     <use x=\"95.410156\" xlink:href=\"#DejaVuSans-30\"/>\r\n     <use x=\"159.033203\" xlink:href=\"#DejaVuSans-37\"/>\r\n     <use x=\"222.65625\" xlink:href=\"#DejaVuSans-35\"/>\r\n    </g>\r\n   </g>\r\n   <g id=\"text_71\">\r\n    <!-- 0.23 -->\r\n    <g style=\"fill:#ffffff;\" transform=\"translate(397.303438 108.888594)scale(0.1 -0.1)\">\r\n     <use xlink:href=\"#DejaVuSans-30\"/>\r\n     <use x=\"63.623047\" xlink:href=\"#DejaVuSans-2e\"/>\r\n     <use x=\"95.410156\" xlink:href=\"#DejaVuSans-32\"/>\r\n     <use x=\"159.033203\" xlink:href=\"#DejaVuSans-33\"/>\r\n    </g>\r\n   </g>\r\n   <g id=\"text_72\">\r\n    <!-- 0.2 -->\r\n    <g style=\"fill:#ffffff;\" transform=\"translate(430.244688 108.888594)scale(0.1 -0.1)\">\r\n     <use xlink:href=\"#DejaVuSans-30\"/>\r\n     <use x=\"63.623047\" xlink:href=\"#DejaVuSans-2e\"/>\r\n     <use x=\"95.410156\" xlink:href=\"#DejaVuSans-32\"/>\r\n    </g>\r\n   </g>\r\n   <g id=\"text_73\">\r\n    <!-- 0.1 -->\r\n    <g style=\"fill:#ffffff;\" transform=\"translate(102.884688 136.068594)scale(0.1 -0.1)\">\r\n     <use xlink:href=\"#DejaVuSans-30\"/>\r\n     <use x=\"63.623047\" xlink:href=\"#DejaVuSans-2e\"/>\r\n     <use x=\"95.410156\" xlink:href=\"#DejaVuSans-31\"/>\r\n    </g>\r\n   </g>\r\n   <g id=\"text_74\">\r\n    <!-- 0.079 -->\r\n    <g style=\"fill:#ffffff;\" transform=\"translate(126.282188 136.068594)scale(0.1 -0.1)\">\r\n     <use xlink:href=\"#DejaVuSans-30\"/>\r\n     <use x=\"63.623047\" xlink:href=\"#DejaVuSans-2e\"/>\r\n     <use x=\"95.410156\" xlink:href=\"#DejaVuSans-30\"/>\r\n     <use x=\"159.033203\" xlink:href=\"#DejaVuSans-37\"/>\r\n     <use x=\"222.65625\" xlink:href=\"#DejaVuSans-39\"/>\r\n    </g>\r\n   </g>\r\n   <g id=\"text_75\">\r\n    <!-- 0.014 -->\r\n    <g style=\"fill:#ffffff;\" transform=\"translate(156.042188 136.068594)scale(0.1 -0.1)\">\r\n     <use xlink:href=\"#DejaVuSans-30\"/>\r\n     <use x=\"63.623047\" xlink:href=\"#DejaVuSans-2e\"/>\r\n     <use x=\"95.410156\" xlink:href=\"#DejaVuSans-30\"/>\r\n     <use x=\"159.033203\" xlink:href=\"#DejaVuSans-31\"/>\r\n     <use x=\"222.65625\" xlink:href=\"#DejaVuSans-34\"/>\r\n    </g>\r\n   </g>\r\n   <g id=\"text_76\">\r\n    <!-- 0.081 -->\r\n    <g style=\"fill:#ffffff;\" transform=\"translate(185.802188 136.068594)scale(0.1 -0.1)\">\r\n     <use xlink:href=\"#DejaVuSans-30\"/>\r\n     <use x=\"63.623047\" xlink:href=\"#DejaVuSans-2e\"/>\r\n     <use x=\"95.410156\" xlink:href=\"#DejaVuSans-30\"/>\r\n     <use x=\"159.033203\" xlink:href=\"#DejaVuSans-38\"/>\r\n     <use x=\"222.65625\" xlink:href=\"#DejaVuSans-31\"/>\r\n    </g>\r\n   </g>\r\n   <g id=\"text_77\">\r\n    <!-- 1 -->\r\n    <g style=\"fill:#262626;\" transform=\"translate(226.695 136.068594)scale(0.1 -0.1)\">\r\n     <use xlink:href=\"#DejaVuSans-31\"/>\r\n    </g>\r\n   </g>\r\n   <g id=\"text_78\">\r\n    <!-- 0.85 -->\r\n    <g style=\"fill:#262626;\" transform=\"translate(248.503438 136.068594)scale(0.1 -0.1)\">\r\n     <use xlink:href=\"#DejaVuSans-30\"/>\r\n     <use x=\"63.623047\" xlink:href=\"#DejaVuSans-2e\"/>\r\n     <use x=\"95.410156\" xlink:href=\"#DejaVuSans-38\"/>\r\n     <use x=\"159.033203\" xlink:href=\"#DejaVuSans-35\"/>\r\n    </g>\r\n   </g>\r\n   <g id=\"text_79\">\r\n    <!-- 0.2 -->\r\n    <g style=\"fill:#ffffff;\" transform=\"translate(281.444687 136.068594)scale(0.1 -0.1)\">\r\n     <use xlink:href=\"#DejaVuSans-30\"/>\r\n     <use x=\"63.623047\" xlink:href=\"#DejaVuSans-2e\"/>\r\n     <use x=\"95.410156\" xlink:href=\"#DejaVuSans-32\"/>\r\n    </g>\r\n   </g>\r\n   <g id=\"text_80\">\r\n    <!-- 0.05 -->\r\n    <g style=\"fill:#ffffff;\" transform=\"translate(308.023438 136.068594)scale(0.1 -0.1)\">\r\n     <use xlink:href=\"#DejaVuSans-30\"/>\r\n     <use x=\"63.623047\" xlink:href=\"#DejaVuSans-2e\"/>\r\n     <use x=\"95.410156\" xlink:href=\"#DejaVuSans-30\"/>\r\n     <use x=\"159.033203\" xlink:href=\"#DejaVuSans-35\"/>\r\n    </g>\r\n   </g>\r\n   <g id=\"text_81\">\r\n    <!-- 0.015 -->\r\n    <g style=\"fill:#ffffff;\" transform=\"translate(334.602188 136.068594)scale(0.1 -0.1)\">\r\n     <use xlink:href=\"#DejaVuSans-30\"/>\r\n     <use x=\"63.623047\" xlink:href=\"#DejaVuSans-2e\"/>\r\n     <use x=\"95.410156\" xlink:href=\"#DejaVuSans-30\"/>\r\n     <use x=\"159.033203\" xlink:href=\"#DejaVuSans-31\"/>\r\n     <use x=\"222.65625\" xlink:href=\"#DejaVuSans-35\"/>\r\n    </g>\r\n   </g>\r\n   <g id=\"text_82\">\r\n    <!-- 0.91 -->\r\n    <g style=\"fill:#262626;\" transform=\"translate(367.543438 136.068594)scale(0.1 -0.1)\">\r\n     <use xlink:href=\"#DejaVuSans-30\"/>\r\n     <use x=\"63.623047\" xlink:href=\"#DejaVuSans-2e\"/>\r\n     <use x=\"95.410156\" xlink:href=\"#DejaVuSans-39\"/>\r\n     <use x=\"159.033203\" xlink:href=\"#DejaVuSans-31\"/>\r\n    </g>\r\n   </g>\r\n   <g id=\"text_83\">\r\n    <!-- 0.024 -->\r\n    <g style=\"fill:#ffffff;\" transform=\"translate(394.122188 136.068594)scale(0.1 -0.1)\">\r\n     <use xlink:href=\"#DejaVuSans-30\"/>\r\n     <use x=\"63.623047\" xlink:href=\"#DejaVuSans-2e\"/>\r\n     <use x=\"95.410156\" xlink:href=\"#DejaVuSans-30\"/>\r\n     <use x=\"159.033203\" xlink:href=\"#DejaVuSans-32\"/>\r\n     <use x=\"222.65625\" xlink:href=\"#DejaVuSans-34\"/>\r\n    </g>\r\n   </g>\r\n   <g id=\"text_84\">\r\n    <!-- 0.5 -->\r\n    <g style=\"fill:#ffffff;\" transform=\"translate(430.244688 136.068594)scale(0.1 -0.1)\">\r\n     <use xlink:href=\"#DejaVuSans-30\"/>\r\n     <use x=\"63.623047\" xlink:href=\"#DejaVuSans-2e\"/>\r\n     <use x=\"95.410156\" xlink:href=\"#DejaVuSans-35\"/>\r\n    </g>\r\n   </g>\r\n   <g id=\"text_85\">\r\n    <!-- 0.0049 -->\r\n    <g style=\"fill:#ffffff;\" transform=\"translate(93.340938 163.248594)scale(0.1 -0.1)\">\r\n     <use xlink:href=\"#DejaVuSans-30\"/>\r\n     <use x=\"63.623047\" xlink:href=\"#DejaVuSans-2e\"/>\r\n     <use x=\"95.410156\" xlink:href=\"#DejaVuSans-30\"/>\r\n     <use x=\"159.033203\" xlink:href=\"#DejaVuSans-30\"/>\r\n     <use x=\"222.65625\" xlink:href=\"#DejaVuSans-34\"/>\r\n     <use x=\"286.279297\" xlink:href=\"#DejaVuSans-39\"/>\r\n    </g>\r\n   </g>\r\n   <g id=\"text_86\">\r\n    <!-- 0.091 -->\r\n    <g style=\"fill:#ffffff;\" transform=\"translate(126.282188 163.248594)scale(0.1 -0.1)\">\r\n     <use xlink:href=\"#DejaVuSans-30\"/>\r\n     <use x=\"63.623047\" xlink:href=\"#DejaVuSans-2e\"/>\r\n     <use x=\"95.410156\" xlink:href=\"#DejaVuSans-30\"/>\r\n     <use x=\"159.033203\" xlink:href=\"#DejaVuSans-39\"/>\r\n     <use x=\"222.65625\" xlink:href=\"#DejaVuSans-31\"/>\r\n    </g>\r\n   </g>\r\n   <g id=\"text_87\">\r\n    <!-- 0.017 -->\r\n    <g style=\"fill:#ffffff;\" transform=\"translate(156.042188 163.248594)scale(0.1 -0.1)\">\r\n     <use xlink:href=\"#DejaVuSans-30\"/>\r\n     <use x=\"63.623047\" xlink:href=\"#DejaVuSans-2e\"/>\r\n     <use x=\"95.410156\" xlink:href=\"#DejaVuSans-30\"/>\r\n     <use x=\"159.033203\" xlink:href=\"#DejaVuSans-31\"/>\r\n     <use x=\"222.65625\" xlink:href=\"#DejaVuSans-37\"/>\r\n    </g>\r\n   </g>\r\n   <g id=\"text_88\">\r\n    <!-- 0.077 -->\r\n    <g style=\"fill:#ffffff;\" transform=\"translate(185.802188 163.248594)scale(0.1 -0.1)\">\r\n     <use xlink:href=\"#DejaVuSans-30\"/>\r\n     <use x=\"63.623047\" xlink:href=\"#DejaVuSans-2e\"/>\r\n     <use x=\"95.410156\" xlink:href=\"#DejaVuSans-30\"/>\r\n     <use x=\"159.033203\" xlink:href=\"#DejaVuSans-37\"/>\r\n     <use x=\"222.65625\" xlink:href=\"#DejaVuSans-37\"/>\r\n    </g>\r\n   </g>\r\n   <g id=\"text_89\">\r\n    <!-- 0.85 -->\r\n    <g style=\"fill:#262626;\" transform=\"translate(218.743438 163.248594)scale(0.1 -0.1)\">\r\n     <use xlink:href=\"#DejaVuSans-30\"/>\r\n     <use x=\"63.623047\" xlink:href=\"#DejaVuSans-2e\"/>\r\n     <use x=\"95.410156\" xlink:href=\"#DejaVuSans-38\"/>\r\n     <use x=\"159.033203\" xlink:href=\"#DejaVuSans-35\"/>\r\n    </g>\r\n   </g>\r\n   <g id=\"text_90\">\r\n    <!-- 1 -->\r\n    <g style=\"fill:#262626;\" transform=\"translate(256.455 163.248594)scale(0.1 -0.1)\">\r\n     <use xlink:href=\"#DejaVuSans-31\"/>\r\n    </g>\r\n   </g>\r\n   <g id=\"text_91\">\r\n    <!-- 0.2 -->\r\n    <g style=\"fill:#ffffff;\" transform=\"translate(281.444687 163.248594)scale(0.1 -0.1)\">\r\n     <use xlink:href=\"#DejaVuSans-30\"/>\r\n     <use x=\"63.623047\" xlink:href=\"#DejaVuSans-2e\"/>\r\n     <use x=\"95.410156\" xlink:href=\"#DejaVuSans-32\"/>\r\n    </g>\r\n   </g>\r\n   <g id=\"text_92\">\r\n    <!-- 0.028 -->\r\n    <g style=\"fill:#ffffff;\" transform=\"translate(304.842188 163.248594)scale(0.1 -0.1)\">\r\n     <use xlink:href=\"#DejaVuSans-30\"/>\r\n     <use x=\"63.623047\" xlink:href=\"#DejaVuSans-2e\"/>\r\n     <use x=\"95.410156\" xlink:href=\"#DejaVuSans-30\"/>\r\n     <use x=\"159.033203\" xlink:href=\"#DejaVuSans-32\"/>\r\n     <use x=\"222.65625\" xlink:href=\"#DejaVuSans-38\"/>\r\n    </g>\r\n   </g>\r\n   <g id=\"text_93\">\r\n    <!-- 0.026 -->\r\n    <g style=\"fill:#ffffff;\" transform=\"translate(334.602188 163.248594)scale(0.1 -0.1)\">\r\n     <use xlink:href=\"#DejaVuSans-30\"/>\r\n     <use x=\"63.623047\" xlink:href=\"#DejaVuSans-2e\"/>\r\n     <use x=\"95.410156\" xlink:href=\"#DejaVuSans-30\"/>\r\n     <use x=\"159.033203\" xlink:href=\"#DejaVuSans-32\"/>\r\n     <use x=\"222.65625\" xlink:href=\"#DejaVuSans-36\"/>\r\n    </g>\r\n   </g>\r\n   <g id=\"text_94\">\r\n    <!-- 0.92 -->\r\n    <g style=\"fill:#262626;\" transform=\"translate(367.543438 163.248594)scale(0.1 -0.1)\">\r\n     <use xlink:href=\"#DejaVuSans-30\"/>\r\n     <use x=\"63.623047\" xlink:href=\"#DejaVuSans-2e\"/>\r\n     <use x=\"95.410156\" xlink:href=\"#DejaVuSans-39\"/>\r\n     <use x=\"159.033203\" xlink:href=\"#DejaVuSans-32\"/>\r\n    </g>\r\n   </g>\r\n   <g id=\"text_95\">\r\n    <!-- 0.033 -->\r\n    <g style=\"fill:#ffffff;\" transform=\"translate(394.122188 163.248594)scale(0.1 -0.1)\">\r\n     <use xlink:href=\"#DejaVuSans-30\"/>\r\n     <use x=\"63.623047\" xlink:href=\"#DejaVuSans-2e\"/>\r\n     <use x=\"95.410156\" xlink:href=\"#DejaVuSans-30\"/>\r\n     <use x=\"159.033203\" xlink:href=\"#DejaVuSans-33\"/>\r\n     <use x=\"222.65625\" xlink:href=\"#DejaVuSans-33\"/>\r\n    </g>\r\n   </g>\r\n   <g id=\"text_96\">\r\n    <!-- 0.49 -->\r\n    <g style=\"fill:#ffffff;\" transform=\"translate(427.063438 163.248594)scale(0.1 -0.1)\">\r\n     <use xlink:href=\"#DejaVuSans-30\"/>\r\n     <use x=\"63.623047\" xlink:href=\"#DejaVuSans-2e\"/>\r\n     <use x=\"95.410156\" xlink:href=\"#DejaVuSans-34\"/>\r\n     <use x=\"159.033203\" xlink:href=\"#DejaVuSans-39\"/>\r\n    </g>\r\n   </g>\r\n   <g id=\"text_97\">\r\n    <!-- 0.098 -->\r\n    <g style=\"fill:#ffffff;\" transform=\"translate(96.522188 190.428594)scale(0.1 -0.1)\">\r\n     <use xlink:href=\"#DejaVuSans-30\"/>\r\n     <use x=\"63.623047\" xlink:href=\"#DejaVuSans-2e\"/>\r\n     <use x=\"95.410156\" xlink:href=\"#DejaVuSans-30\"/>\r\n     <use x=\"159.033203\" xlink:href=\"#DejaVuSans-39\"/>\r\n     <use x=\"222.65625\" xlink:href=\"#DejaVuSans-38\"/>\r\n    </g>\r\n   </g>\r\n   <g id=\"text_98\">\r\n    <!-- 0.015 -->\r\n    <g style=\"fill:#ffffff;\" transform=\"translate(126.282188 190.428594)scale(0.1 -0.1)\">\r\n     <use xlink:href=\"#DejaVuSans-30\"/>\r\n     <use x=\"63.623047\" xlink:href=\"#DejaVuSans-2e\"/>\r\n     <use x=\"95.410156\" xlink:href=\"#DejaVuSans-30\"/>\r\n     <use x=\"159.033203\" xlink:href=\"#DejaVuSans-31\"/>\r\n     <use x=\"222.65625\" xlink:href=\"#DejaVuSans-35\"/>\r\n    </g>\r\n   </g>\r\n   <g id=\"text_99\">\r\n    <!-- 0.14 -->\r\n    <g style=\"fill:#ffffff;\" transform=\"translate(159.223438 190.428594)scale(0.1 -0.1)\">\r\n     <use xlink:href=\"#DejaVuSans-30\"/>\r\n     <use x=\"63.623047\" xlink:href=\"#DejaVuSans-2e\"/>\r\n     <use x=\"95.410156\" xlink:href=\"#DejaVuSans-31\"/>\r\n     <use x=\"159.033203\" xlink:href=\"#DejaVuSans-34\"/>\r\n    </g>\r\n   </g>\r\n   <g id=\"text_100\">\r\n    <!-- 0.067 -->\r\n    <g style=\"fill:#ffffff;\" transform=\"translate(185.802188 190.428594)scale(0.1 -0.1)\">\r\n     <use xlink:href=\"#DejaVuSans-30\"/>\r\n     <use x=\"63.623047\" xlink:href=\"#DejaVuSans-2e\"/>\r\n     <use x=\"95.410156\" xlink:href=\"#DejaVuSans-30\"/>\r\n     <use x=\"159.033203\" xlink:href=\"#DejaVuSans-36\"/>\r\n     <use x=\"222.65625\" xlink:href=\"#DejaVuSans-37\"/>\r\n    </g>\r\n   </g>\r\n   <g id=\"text_101\">\r\n    <!-- 0.2 -->\r\n    <g style=\"fill:#ffffff;\" transform=\"translate(221.924688 190.428594)scale(0.1 -0.1)\">\r\n     <use xlink:href=\"#DejaVuSans-30\"/>\r\n     <use x=\"63.623047\" xlink:href=\"#DejaVuSans-2e\"/>\r\n     <use x=\"95.410156\" xlink:href=\"#DejaVuSans-32\"/>\r\n    </g>\r\n   </g>\r\n   <g id=\"text_102\">\r\n    <!-- 0.2 -->\r\n    <g style=\"fill:#ffffff;\" transform=\"translate(251.684688 190.428594)scale(0.1 -0.1)\">\r\n     <use xlink:href=\"#DejaVuSans-30\"/>\r\n     <use x=\"63.623047\" xlink:href=\"#DejaVuSans-2e\"/>\r\n     <use x=\"95.410156\" xlink:href=\"#DejaVuSans-32\"/>\r\n    </g>\r\n   </g>\r\n   <g id=\"text_103\">\r\n    <!-- 1 -->\r\n    <g style=\"fill:#262626;\" transform=\"translate(286.215 190.428594)scale(0.1 -0.1)\">\r\n     <use xlink:href=\"#DejaVuSans-31\"/>\r\n    </g>\r\n   </g>\r\n   <g id=\"text_104\">\r\n    <!-- 0.27 -->\r\n    <g style=\"fill:#ffffff;\" transform=\"translate(308.023438 190.428594)scale(0.1 -0.1)\">\r\n     <use xlink:href=\"#DejaVuSans-30\"/>\r\n     <use x=\"63.623047\" xlink:href=\"#DejaVuSans-2e\"/>\r\n     <use x=\"95.410156\" xlink:href=\"#DejaVuSans-32\"/>\r\n     <use x=\"159.033203\" xlink:href=\"#DejaVuSans-37\"/>\r\n    </g>\r\n   </g>\r\n   <g id=\"text_105\">\r\n    <!-- 0.26 -->\r\n    <g style=\"fill:#ffffff;\" transform=\"translate(337.783438 190.428594)scale(0.1 -0.1)\">\r\n     <use xlink:href=\"#DejaVuSans-30\"/>\r\n     <use x=\"63.623047\" xlink:href=\"#DejaVuSans-2e\"/>\r\n     <use x=\"95.410156\" xlink:href=\"#DejaVuSans-32\"/>\r\n     <use x=\"159.033203\" xlink:href=\"#DejaVuSans-36\"/>\r\n    </g>\r\n   </g>\r\n   <g id=\"text_106\">\r\n    <!-- 0.22 -->\r\n    <g style=\"fill:#ffffff;\" transform=\"translate(367.543438 190.428594)scale(0.1 -0.1)\">\r\n     <use xlink:href=\"#DejaVuSans-30\"/>\r\n     <use x=\"63.623047\" xlink:href=\"#DejaVuSans-2e\"/>\r\n     <use x=\"95.410156\" xlink:href=\"#DejaVuSans-32\"/>\r\n     <use x=\"159.033203\" xlink:href=\"#DejaVuSans-32\"/>\r\n    </g>\r\n   </g>\r\n   <g id=\"text_107\">\r\n    <!-- 0.27 -->\r\n    <g style=\"fill:#ffffff;\" transform=\"translate(397.303438 190.428594)scale(0.1 -0.1)\">\r\n     <use xlink:href=\"#DejaVuSans-30\"/>\r\n     <use x=\"63.623047\" xlink:href=\"#DejaVuSans-2e\"/>\r\n     <use x=\"95.410156\" xlink:href=\"#DejaVuSans-32\"/>\r\n     <use x=\"159.033203\" xlink:href=\"#DejaVuSans-37\"/>\r\n    </g>\r\n   </g>\r\n   <g id=\"text_108\">\r\n    <!-- 0.1 -->\r\n    <g style=\"fill:#ffffff;\" transform=\"translate(430.244688 190.428594)scale(0.1 -0.1)\">\r\n     <use xlink:href=\"#DejaVuSans-30\"/>\r\n     <use x=\"63.623047\" xlink:href=\"#DejaVuSans-2e\"/>\r\n     <use x=\"95.410156\" xlink:href=\"#DejaVuSans-31\"/>\r\n    </g>\r\n   </g>\r\n   <g id=\"text_109\">\r\n    <!-- 0.098 -->\r\n    <g style=\"fill:#ffffff;\" transform=\"translate(96.522188 217.608594)scale(0.1 -0.1)\">\r\n     <use xlink:href=\"#DejaVuSans-30\"/>\r\n     <use x=\"63.623047\" xlink:href=\"#DejaVuSans-2e\"/>\r\n     <use x=\"95.410156\" xlink:href=\"#DejaVuSans-30\"/>\r\n     <use x=\"159.033203\" xlink:href=\"#DejaVuSans-39\"/>\r\n     <use x=\"222.65625\" xlink:href=\"#DejaVuSans-38\"/>\r\n    </g>\r\n   </g>\r\n   <g id=\"text_110\">\r\n    <!-- 0.0062 -->\r\n    <g style=\"fill:#ffffff;\" transform=\"translate(123.100938 217.608594)scale(0.1 -0.1)\">\r\n     <use xlink:href=\"#DejaVuSans-30\"/>\r\n     <use x=\"63.623047\" xlink:href=\"#DejaVuSans-2e\"/>\r\n     <use x=\"95.410156\" xlink:href=\"#DejaVuSans-30\"/>\r\n     <use x=\"159.033203\" xlink:href=\"#DejaVuSans-30\"/>\r\n     <use x=\"222.65625\" xlink:href=\"#DejaVuSans-36\"/>\r\n     <use x=\"286.279297\" xlink:href=\"#DejaVuSans-32\"/>\r\n    </g>\r\n   </g>\r\n   <g id=\"text_111\">\r\n    <!-- 0.055 -->\r\n    <g style=\"fill:#ffffff;\" transform=\"translate(156.042188 217.608594)scale(0.1 -0.1)\">\r\n     <use xlink:href=\"#DejaVuSans-30\"/>\r\n     <use x=\"63.623047\" xlink:href=\"#DejaVuSans-2e\"/>\r\n     <use x=\"95.410156\" xlink:href=\"#DejaVuSans-30\"/>\r\n     <use x=\"159.033203\" xlink:href=\"#DejaVuSans-35\"/>\r\n     <use x=\"222.65625\" xlink:href=\"#DejaVuSans-35\"/>\r\n    </g>\r\n   </g>\r\n   <g id=\"text_112\">\r\n    <!-- 0.18 -->\r\n    <g style=\"fill:#ffffff;\" transform=\"translate(188.983438 217.608594)scale(0.1 -0.1)\">\r\n     <use xlink:href=\"#DejaVuSans-30\"/>\r\n     <use x=\"63.623047\" xlink:href=\"#DejaVuSans-2e\"/>\r\n     <use x=\"95.410156\" xlink:href=\"#DejaVuSans-31\"/>\r\n     <use x=\"159.033203\" xlink:href=\"#DejaVuSans-38\"/>\r\n    </g>\r\n   </g>\r\n   <g id=\"text_113\">\r\n    <!-- 0.05 -->\r\n    <g style=\"fill:#ffffff;\" transform=\"translate(218.743438 217.608594)scale(0.1 -0.1)\">\r\n     <use xlink:href=\"#DejaVuSans-30\"/>\r\n     <use x=\"63.623047\" xlink:href=\"#DejaVuSans-2e\"/>\r\n     <use x=\"95.410156\" xlink:href=\"#DejaVuSans-30\"/>\r\n     <use x=\"159.033203\" xlink:href=\"#DejaVuSans-35\"/>\r\n    </g>\r\n   </g>\r\n   <g id=\"text_114\">\r\n    <!-- 0.028 -->\r\n    <g style=\"fill:#ffffff;\" transform=\"translate(245.322188 217.608594)scale(0.1 -0.1)\">\r\n     <use xlink:href=\"#DejaVuSans-30\"/>\r\n     <use x=\"63.623047\" xlink:href=\"#DejaVuSans-2e\"/>\r\n     <use x=\"95.410156\" xlink:href=\"#DejaVuSans-30\"/>\r\n     <use x=\"159.033203\" xlink:href=\"#DejaVuSans-32\"/>\r\n     <use x=\"222.65625\" xlink:href=\"#DejaVuSans-38\"/>\r\n    </g>\r\n   </g>\r\n   <g id=\"text_115\">\r\n    <!-- 0.27 -->\r\n    <g style=\"fill:#ffffff;\" transform=\"translate(278.263438 217.608594)scale(0.1 -0.1)\">\r\n     <use xlink:href=\"#DejaVuSans-30\"/>\r\n     <use x=\"63.623047\" xlink:href=\"#DejaVuSans-2e\"/>\r\n     <use x=\"95.410156\" xlink:href=\"#DejaVuSans-32\"/>\r\n     <use x=\"159.033203\" xlink:href=\"#DejaVuSans-37\"/>\r\n    </g>\r\n   </g>\r\n   <g id=\"text_116\">\r\n    <!-- 1 -->\r\n    <g style=\"fill:#262626;\" transform=\"translate(315.975 217.608594)scale(0.1 -0.1)\">\r\n     <use xlink:href=\"#DejaVuSans-31\"/>\r\n    </g>\r\n   </g>\r\n   <g id=\"text_117\">\r\n    <!-- 0.19 -->\r\n    <g style=\"fill:#ffffff;\" transform=\"translate(337.783438 217.608594)scale(0.1 -0.1)\">\r\n     <use xlink:href=\"#DejaVuSans-30\"/>\r\n     <use x=\"63.623047\" xlink:href=\"#DejaVuSans-2e\"/>\r\n     <use x=\"95.410156\" xlink:href=\"#DejaVuSans-31\"/>\r\n     <use x=\"159.033203\" xlink:href=\"#DejaVuSans-39\"/>\r\n    </g>\r\n   </g>\r\n   <g id=\"text_118\">\r\n    <!-- 0.044 -->\r\n    <g style=\"fill:#ffffff;\" transform=\"translate(364.362188 217.608594)scale(0.1 -0.1)\">\r\n     <use xlink:href=\"#DejaVuSans-30\"/>\r\n     <use x=\"63.623047\" xlink:href=\"#DejaVuSans-2e\"/>\r\n     <use x=\"95.410156\" xlink:href=\"#DejaVuSans-30\"/>\r\n     <use x=\"159.033203\" xlink:href=\"#DejaVuSans-34\"/>\r\n     <use x=\"222.65625\" xlink:href=\"#DejaVuSans-34\"/>\r\n    </g>\r\n   </g>\r\n   <g id=\"text_119\">\r\n    <!-- 0.19 -->\r\n    <g style=\"fill:#ffffff;\" transform=\"translate(397.303438 217.608594)scale(0.1 -0.1)\">\r\n     <use xlink:href=\"#DejaVuSans-30\"/>\r\n     <use x=\"63.623047\" xlink:href=\"#DejaVuSans-2e\"/>\r\n     <use x=\"95.410156\" xlink:href=\"#DejaVuSans-31\"/>\r\n     <use x=\"159.033203\" xlink:href=\"#DejaVuSans-39\"/>\r\n    </g>\r\n   </g>\r\n   <g id=\"text_120\">\r\n    <!-- 0.01 -->\r\n    <g style=\"fill:#ffffff;\" transform=\"translate(427.063438 217.608594)scale(0.1 -0.1)\">\r\n     <use xlink:href=\"#DejaVuSans-30\"/>\r\n     <use x=\"63.623047\" xlink:href=\"#DejaVuSans-2e\"/>\r\n     <use x=\"95.410156\" xlink:href=\"#DejaVuSans-30\"/>\r\n     <use x=\"159.033203\" xlink:href=\"#DejaVuSans-31\"/>\r\n    </g>\r\n   </g>\r\n   <g id=\"text_121\">\r\n    <!-- 0.12 -->\r\n    <g style=\"fill:#ffffff;\" transform=\"translate(99.703438 244.788594)scale(0.1 -0.1)\">\r\n     <use xlink:href=\"#DejaVuSans-30\"/>\r\n     <use x=\"63.623047\" xlink:href=\"#DejaVuSans-2e\"/>\r\n     <use x=\"95.410156\" xlink:href=\"#DejaVuSans-31\"/>\r\n     <use x=\"159.033203\" xlink:href=\"#DejaVuSans-32\"/>\r\n    </g>\r\n   </g>\r\n   <g id=\"text_122\">\r\n    <!-- 0.072 -->\r\n    <g style=\"fill:#ffffff;\" transform=\"translate(126.282188 244.788594)scale(0.1 -0.1)\">\r\n     <use xlink:href=\"#DejaVuSans-30\"/>\r\n     <use x=\"63.623047\" xlink:href=\"#DejaVuSans-2e\"/>\r\n     <use x=\"95.410156\" xlink:href=\"#DejaVuSans-30\"/>\r\n     <use x=\"159.033203\" xlink:href=\"#DejaVuSans-37\"/>\r\n     <use x=\"222.65625\" xlink:href=\"#DejaVuSans-32\"/>\r\n    </g>\r\n   </g>\r\n   <g id=\"text_123\">\r\n    <!-- 0.13 -->\r\n    <g style=\"fill:#ffffff;\" transform=\"translate(159.223438 244.788594)scale(0.1 -0.1)\">\r\n     <use xlink:href=\"#DejaVuSans-30\"/>\r\n     <use x=\"63.623047\" xlink:href=\"#DejaVuSans-2e\"/>\r\n     <use x=\"95.410156\" xlink:href=\"#DejaVuSans-31\"/>\r\n     <use x=\"159.033203\" xlink:href=\"#DejaVuSans-33\"/>\r\n    </g>\r\n   </g>\r\n   <g id=\"text_124\">\r\n    <!-- 0.25 -->\r\n    <g style=\"fill:#ffffff;\" transform=\"translate(188.983438 244.788594)scale(0.1 -0.1)\">\r\n     <use xlink:href=\"#DejaVuSans-30\"/>\r\n     <use x=\"63.623047\" xlink:href=\"#DejaVuSans-2e\"/>\r\n     <use x=\"95.410156\" xlink:href=\"#DejaVuSans-32\"/>\r\n     <use x=\"159.033203\" xlink:href=\"#DejaVuSans-35\"/>\r\n    </g>\r\n   </g>\r\n   <g id=\"text_125\">\r\n    <!-- 0.015 -->\r\n    <g style=\"fill:#ffffff;\" transform=\"translate(215.562188 244.788594)scale(0.1 -0.1)\">\r\n     <use xlink:href=\"#DejaVuSans-30\"/>\r\n     <use x=\"63.623047\" xlink:href=\"#DejaVuSans-2e\"/>\r\n     <use x=\"95.410156\" xlink:href=\"#DejaVuSans-30\"/>\r\n     <use x=\"159.033203\" xlink:href=\"#DejaVuSans-31\"/>\r\n     <use x=\"222.65625\" xlink:href=\"#DejaVuSans-35\"/>\r\n    </g>\r\n   </g>\r\n   <g id=\"text_126\">\r\n    <!-- 0.026 -->\r\n    <g style=\"fill:#ffffff;\" transform=\"translate(245.322188 244.788594)scale(0.1 -0.1)\">\r\n     <use xlink:href=\"#DejaVuSans-30\"/>\r\n     <use x=\"63.623047\" xlink:href=\"#DejaVuSans-2e\"/>\r\n     <use x=\"95.410156\" xlink:href=\"#DejaVuSans-30\"/>\r\n     <use x=\"159.033203\" xlink:href=\"#DejaVuSans-32\"/>\r\n     <use x=\"222.65625\" xlink:href=\"#DejaVuSans-36\"/>\r\n    </g>\r\n   </g>\r\n   <g id=\"text_127\">\r\n    <!-- 0.26 -->\r\n    <g style=\"fill:#ffffff;\" transform=\"translate(278.263438 244.788594)scale(0.1 -0.1)\">\r\n     <use xlink:href=\"#DejaVuSans-30\"/>\r\n     <use x=\"63.623047\" xlink:href=\"#DejaVuSans-2e\"/>\r\n     <use x=\"95.410156\" xlink:href=\"#DejaVuSans-32\"/>\r\n     <use x=\"159.033203\" xlink:href=\"#DejaVuSans-36\"/>\r\n    </g>\r\n   </g>\r\n   <g id=\"text_128\">\r\n    <!-- 0.19 -->\r\n    <g style=\"fill:#ffffff;\" transform=\"translate(308.023438 244.788594)scale(0.1 -0.1)\">\r\n     <use xlink:href=\"#DejaVuSans-30\"/>\r\n     <use x=\"63.623047\" xlink:href=\"#DejaVuSans-2e\"/>\r\n     <use x=\"95.410156\" xlink:href=\"#DejaVuSans-31\"/>\r\n     <use x=\"159.033203\" xlink:href=\"#DejaVuSans-39\"/>\r\n    </g>\r\n   </g>\r\n   <g id=\"text_129\">\r\n    <!-- 1 -->\r\n    <g style=\"fill:#262626;\" transform=\"translate(345.735 244.788594)scale(0.1 -0.1)\">\r\n     <use xlink:href=\"#DejaVuSans-31\"/>\r\n    </g>\r\n   </g>\r\n   <g id=\"text_130\">\r\n    <!-- 0.044 -->\r\n    <g style=\"fill:#ffffff;\" transform=\"translate(364.362188 244.788594)scale(0.1 -0.1)\">\r\n     <use xlink:href=\"#DejaVuSans-30\"/>\r\n     <use x=\"63.623047\" xlink:href=\"#DejaVuSans-2e\"/>\r\n     <use x=\"95.410156\" xlink:href=\"#DejaVuSans-30\"/>\r\n     <use x=\"159.033203\" xlink:href=\"#DejaVuSans-34\"/>\r\n     <use x=\"222.65625\" xlink:href=\"#DejaVuSans-34\"/>\r\n    </g>\r\n   </g>\r\n   <g id=\"text_131\">\r\n    <!-- 0.93 -->\r\n    <g style=\"fill:#262626;\" transform=\"translate(397.303438 244.788594)scale(0.1 -0.1)\">\r\n     <use xlink:href=\"#DejaVuSans-30\"/>\r\n     <use x=\"63.623047\" xlink:href=\"#DejaVuSans-2e\"/>\r\n     <use x=\"95.410156\" xlink:href=\"#DejaVuSans-39\"/>\r\n     <use x=\"159.033203\" xlink:href=\"#DejaVuSans-33\"/>\r\n    </g>\r\n   </g>\r\n   <g id=\"text_132\">\r\n    <!-- 0.17 -->\r\n    <g style=\"fill:#ffffff;\" transform=\"translate(427.063438 244.788594)scale(0.1 -0.1)\">\r\n     <use xlink:href=\"#DejaVuSans-30\"/>\r\n     <use x=\"63.623047\" xlink:href=\"#DejaVuSans-2e\"/>\r\n     <use x=\"95.410156\" xlink:href=\"#DejaVuSans-31\"/>\r\n     <use x=\"159.033203\" xlink:href=\"#DejaVuSans-37\"/>\r\n    </g>\r\n   </g>\r\n   <g id=\"text_133\">\r\n    <!-- 0.01 -->\r\n    <g style=\"fill:#ffffff;\" transform=\"translate(99.703438 271.968594)scale(0.1 -0.1)\">\r\n     <use xlink:href=\"#DejaVuSans-30\"/>\r\n     <use x=\"63.623047\" xlink:href=\"#DejaVuSans-2e\"/>\r\n     <use x=\"95.410156\" xlink:href=\"#DejaVuSans-30\"/>\r\n     <use x=\"159.033203\" xlink:href=\"#DejaVuSans-31\"/>\r\n    </g>\r\n   </g>\r\n   <g id=\"text_134\">\r\n    <!-- 0.077 -->\r\n    <g style=\"fill:#ffffff;\" transform=\"translate(126.282188 271.968594)scale(0.1 -0.1)\">\r\n     <use xlink:href=\"#DejaVuSans-30\"/>\r\n     <use x=\"63.623047\" xlink:href=\"#DejaVuSans-2e\"/>\r\n     <use x=\"95.410156\" xlink:href=\"#DejaVuSans-30\"/>\r\n     <use x=\"159.033203\" xlink:href=\"#DejaVuSans-37\"/>\r\n     <use x=\"222.65625\" xlink:href=\"#DejaVuSans-37\"/>\r\n    </g>\r\n   </g>\r\n   <g id=\"text_135\">\r\n    <!-- 0.03 -->\r\n    <g style=\"fill:#ffffff;\" transform=\"translate(159.223438 271.968594)scale(0.1 -0.1)\">\r\n     <use xlink:href=\"#DejaVuSans-30\"/>\r\n     <use x=\"63.623047\" xlink:href=\"#DejaVuSans-2e\"/>\r\n     <use x=\"95.410156\" xlink:href=\"#DejaVuSans-30\"/>\r\n     <use x=\"159.033203\" xlink:href=\"#DejaVuSans-33\"/>\r\n    </g>\r\n   </g>\r\n   <g id=\"text_136\">\r\n    <!-- 0.075 -->\r\n    <g style=\"fill:#ffffff;\" transform=\"translate(185.802188 271.968594)scale(0.1 -0.1)\">\r\n     <use xlink:href=\"#DejaVuSans-30\"/>\r\n     <use x=\"63.623047\" xlink:href=\"#DejaVuSans-2e\"/>\r\n     <use x=\"95.410156\" xlink:href=\"#DejaVuSans-30\"/>\r\n     <use x=\"159.033203\" xlink:href=\"#DejaVuSans-37\"/>\r\n     <use x=\"222.65625\" xlink:href=\"#DejaVuSans-35\"/>\r\n    </g>\r\n   </g>\r\n   <g id=\"text_137\">\r\n    <!-- 0.91 -->\r\n    <g style=\"fill:#262626;\" transform=\"translate(218.743438 271.968594)scale(0.1 -0.1)\">\r\n     <use xlink:href=\"#DejaVuSans-30\"/>\r\n     <use x=\"63.623047\" xlink:href=\"#DejaVuSans-2e\"/>\r\n     <use x=\"95.410156\" xlink:href=\"#DejaVuSans-39\"/>\r\n     <use x=\"159.033203\" xlink:href=\"#DejaVuSans-31\"/>\r\n    </g>\r\n   </g>\r\n   <g id=\"text_138\">\r\n    <!-- 0.92 -->\r\n    <g style=\"fill:#262626;\" transform=\"translate(248.503438 271.968594)scale(0.1 -0.1)\">\r\n     <use xlink:href=\"#DejaVuSans-30\"/>\r\n     <use x=\"63.623047\" xlink:href=\"#DejaVuSans-2e\"/>\r\n     <use x=\"95.410156\" xlink:href=\"#DejaVuSans-39\"/>\r\n     <use x=\"159.033203\" xlink:href=\"#DejaVuSans-32\"/>\r\n    </g>\r\n   </g>\r\n   <g id=\"text_139\">\r\n    <!-- 0.22 -->\r\n    <g style=\"fill:#ffffff;\" transform=\"translate(278.263438 271.968594)scale(0.1 -0.1)\">\r\n     <use xlink:href=\"#DejaVuSans-30\"/>\r\n     <use x=\"63.623047\" xlink:href=\"#DejaVuSans-2e\"/>\r\n     <use x=\"95.410156\" xlink:href=\"#DejaVuSans-32\"/>\r\n     <use x=\"159.033203\" xlink:href=\"#DejaVuSans-32\"/>\r\n    </g>\r\n   </g>\r\n   <g id=\"text_140\">\r\n    <!-- 0.044 -->\r\n    <g style=\"fill:#ffffff;\" transform=\"translate(304.842188 271.968594)scale(0.1 -0.1)\">\r\n     <use xlink:href=\"#DejaVuSans-30\"/>\r\n     <use x=\"63.623047\" xlink:href=\"#DejaVuSans-2e\"/>\r\n     <use x=\"95.410156\" xlink:href=\"#DejaVuSans-30\"/>\r\n     <use x=\"159.033203\" xlink:href=\"#DejaVuSans-34\"/>\r\n     <use x=\"222.65625\" xlink:href=\"#DejaVuSans-34\"/>\r\n    </g>\r\n   </g>\r\n   <g id=\"text_141\">\r\n    <!-- 0.044 -->\r\n    <g style=\"fill:#ffffff;\" transform=\"translate(334.602188 271.968594)scale(0.1 -0.1)\">\r\n     <use xlink:href=\"#DejaVuSans-30\"/>\r\n     <use x=\"63.623047\" xlink:href=\"#DejaVuSans-2e\"/>\r\n     <use x=\"95.410156\" xlink:href=\"#DejaVuSans-30\"/>\r\n     <use x=\"159.033203\" xlink:href=\"#DejaVuSans-34\"/>\r\n     <use x=\"222.65625\" xlink:href=\"#DejaVuSans-34\"/>\r\n    </g>\r\n   </g>\r\n   <g id=\"text_142\">\r\n    <!-- 1 -->\r\n    <g style=\"fill:#262626;\" transform=\"translate(375.495 271.968594)scale(0.1 -0.1)\">\r\n     <use xlink:href=\"#DejaVuSans-31\"/>\r\n    </g>\r\n   </g>\r\n   <g id=\"text_143\">\r\n    <!-- 0.043 -->\r\n    <g style=\"fill:#ffffff;\" transform=\"translate(394.122188 271.968594)scale(0.1 -0.1)\">\r\n     <use xlink:href=\"#DejaVuSans-30\"/>\r\n     <use x=\"63.623047\" xlink:href=\"#DejaVuSans-2e\"/>\r\n     <use x=\"95.410156\" xlink:href=\"#DejaVuSans-30\"/>\r\n     <use x=\"159.033203\" xlink:href=\"#DejaVuSans-34\"/>\r\n     <use x=\"222.65625\" xlink:href=\"#DejaVuSans-33\"/>\r\n    </g>\r\n   </g>\r\n   <g id=\"text_144\">\r\n    <!-- 0.54 -->\r\n    <g style=\"fill:#ffffff;\" transform=\"translate(427.063438 271.968594)scale(0.1 -0.1)\">\r\n     <use xlink:href=\"#DejaVuSans-30\"/>\r\n     <use x=\"63.623047\" xlink:href=\"#DejaVuSans-2e\"/>\r\n     <use x=\"95.410156\" xlink:href=\"#DejaVuSans-35\"/>\r\n     <use x=\"159.033203\" xlink:href=\"#DejaVuSans-34\"/>\r\n    </g>\r\n   </g>\r\n   <g id=\"text_145\">\r\n    <!-- 0.1 -->\r\n    <g style=\"fill:#ffffff;\" transform=\"translate(102.884688 299.148594)scale(0.1 -0.1)\">\r\n     <use xlink:href=\"#DejaVuSans-30\"/>\r\n     <use x=\"63.623047\" xlink:href=\"#DejaVuSans-2e\"/>\r\n     <use x=\"95.410156\" xlink:href=\"#DejaVuSans-31\"/>\r\n    </g>\r\n   </g>\r\n   <g id=\"text_146\">\r\n    <!-- 0.064 -->\r\n    <g style=\"fill:#ffffff;\" transform=\"translate(126.282188 299.148594)scale(0.1 -0.1)\">\r\n     <use xlink:href=\"#DejaVuSans-30\"/>\r\n     <use x=\"63.623047\" xlink:href=\"#DejaVuSans-2e\"/>\r\n     <use x=\"95.410156\" xlink:href=\"#DejaVuSans-30\"/>\r\n     <use x=\"159.033203\" xlink:href=\"#DejaVuSans-36\"/>\r\n     <use x=\"222.65625\" xlink:href=\"#DejaVuSans-34\"/>\r\n    </g>\r\n   </g>\r\n   <g id=\"text_147\">\r\n    <!-- 0.14 -->\r\n    <g style=\"fill:#ffffff;\" transform=\"translate(159.223438 299.148594)scale(0.1 -0.1)\">\r\n     <use xlink:href=\"#DejaVuSans-30\"/>\r\n     <use x=\"63.623047\" xlink:href=\"#DejaVuSans-2e\"/>\r\n     <use x=\"95.410156\" xlink:href=\"#DejaVuSans-31\"/>\r\n     <use x=\"159.033203\" xlink:href=\"#DejaVuSans-34\"/>\r\n    </g>\r\n   </g>\r\n   <g id=\"text_148\">\r\n    <!-- 0.23 -->\r\n    <g style=\"fill:#ffffff;\" transform=\"translate(188.983438 299.148594)scale(0.1 -0.1)\">\r\n     <use xlink:href=\"#DejaVuSans-30\"/>\r\n     <use x=\"63.623047\" xlink:href=\"#DejaVuSans-2e\"/>\r\n     <use x=\"95.410156\" xlink:href=\"#DejaVuSans-32\"/>\r\n     <use x=\"159.033203\" xlink:href=\"#DejaVuSans-33\"/>\r\n    </g>\r\n   </g>\r\n   <g id=\"text_149\">\r\n    <!-- 0.024 -->\r\n    <g style=\"fill:#ffffff;\" transform=\"translate(215.562188 299.148594)scale(0.1 -0.1)\">\r\n     <use xlink:href=\"#DejaVuSans-30\"/>\r\n     <use x=\"63.623047\" xlink:href=\"#DejaVuSans-2e\"/>\r\n     <use x=\"95.410156\" xlink:href=\"#DejaVuSans-30\"/>\r\n     <use x=\"159.033203\" xlink:href=\"#DejaVuSans-32\"/>\r\n     <use x=\"222.65625\" xlink:href=\"#DejaVuSans-34\"/>\r\n    </g>\r\n   </g>\r\n   <g id=\"text_150\">\r\n    <!-- 0.033 -->\r\n    <g style=\"fill:#ffffff;\" transform=\"translate(245.322188 299.148594)scale(0.1 -0.1)\">\r\n     <use xlink:href=\"#DejaVuSans-30\"/>\r\n     <use x=\"63.623047\" xlink:href=\"#DejaVuSans-2e\"/>\r\n     <use x=\"95.410156\" xlink:href=\"#DejaVuSans-30\"/>\r\n     <use x=\"159.033203\" xlink:href=\"#DejaVuSans-33\"/>\r\n     <use x=\"222.65625\" xlink:href=\"#DejaVuSans-33\"/>\r\n    </g>\r\n   </g>\r\n   <g id=\"text_151\">\r\n    <!-- 0.27 -->\r\n    <g style=\"fill:#ffffff;\" transform=\"translate(278.263438 299.148594)scale(0.1 -0.1)\">\r\n     <use xlink:href=\"#DejaVuSans-30\"/>\r\n     <use x=\"63.623047\" xlink:href=\"#DejaVuSans-2e\"/>\r\n     <use x=\"95.410156\" xlink:href=\"#DejaVuSans-32\"/>\r\n     <use x=\"159.033203\" xlink:href=\"#DejaVuSans-37\"/>\r\n    </g>\r\n   </g>\r\n   <g id=\"text_152\">\r\n    <!-- 0.19 -->\r\n    <g style=\"fill:#ffffff;\" transform=\"translate(308.023438 299.148594)scale(0.1 -0.1)\">\r\n     <use xlink:href=\"#DejaVuSans-30\"/>\r\n     <use x=\"63.623047\" xlink:href=\"#DejaVuSans-2e\"/>\r\n     <use x=\"95.410156\" xlink:href=\"#DejaVuSans-31\"/>\r\n     <use x=\"159.033203\" xlink:href=\"#DejaVuSans-39\"/>\r\n    </g>\r\n   </g>\r\n   <g id=\"text_153\">\r\n    <!-- 0.93 -->\r\n    <g style=\"fill:#262626;\" transform=\"translate(337.783438 299.148594)scale(0.1 -0.1)\">\r\n     <use xlink:href=\"#DejaVuSans-30\"/>\r\n     <use x=\"63.623047\" xlink:href=\"#DejaVuSans-2e\"/>\r\n     <use x=\"95.410156\" xlink:href=\"#DejaVuSans-39\"/>\r\n     <use x=\"159.033203\" xlink:href=\"#DejaVuSans-33\"/>\r\n    </g>\r\n   </g>\r\n   <g id=\"text_154\">\r\n    <!-- 0.043 -->\r\n    <g style=\"fill:#ffffff;\" transform=\"translate(364.362188 299.148594)scale(0.1 -0.1)\">\r\n     <use xlink:href=\"#DejaVuSans-30\"/>\r\n     <use x=\"63.623047\" xlink:href=\"#DejaVuSans-2e\"/>\r\n     <use x=\"95.410156\" xlink:href=\"#DejaVuSans-30\"/>\r\n     <use x=\"159.033203\" xlink:href=\"#DejaVuSans-34\"/>\r\n     <use x=\"222.65625\" xlink:href=\"#DejaVuSans-33\"/>\r\n    </g>\r\n   </g>\r\n   <g id=\"text_155\">\r\n    <!-- 1 -->\r\n    <g style=\"fill:#262626;\" transform=\"translate(405.255 299.148594)scale(0.1 -0.1)\">\r\n     <use xlink:href=\"#DejaVuSans-31\"/>\r\n    </g>\r\n   </g>\r\n   <g id=\"text_156\">\r\n    <!-- 0.16 -->\r\n    <g style=\"fill:#ffffff;\" transform=\"translate(427.063438 299.148594)scale(0.1 -0.1)\">\r\n     <use xlink:href=\"#DejaVuSans-30\"/>\r\n     <use x=\"63.623047\" xlink:href=\"#DejaVuSans-2e\"/>\r\n     <use x=\"95.410156\" xlink:href=\"#DejaVuSans-31\"/>\r\n     <use x=\"159.033203\" xlink:href=\"#DejaVuSans-36\"/>\r\n    </g>\r\n   </g>\r\n   <g id=\"text_157\">\r\n    <!-- 0.029 -->\r\n    <g style=\"fill:#ffffff;\" transform=\"translate(96.522188 326.328594)scale(0.1 -0.1)\">\r\n     <use xlink:href=\"#DejaVuSans-30\"/>\r\n     <use x=\"63.623047\" xlink:href=\"#DejaVuSans-2e\"/>\r\n     <use x=\"95.410156\" xlink:href=\"#DejaVuSans-30\"/>\r\n     <use x=\"159.033203\" xlink:href=\"#DejaVuSans-32\"/>\r\n     <use x=\"222.65625\" xlink:href=\"#DejaVuSans-39\"/>\r\n    </g>\r\n   </g>\r\n   <g id=\"text_158\">\r\n    <!-- 0.037 -->\r\n    <g style=\"fill:#ffffff;\" transform=\"translate(126.282188 326.328594)scale(0.1 -0.1)\">\r\n     <use xlink:href=\"#DejaVuSans-30\"/>\r\n     <use x=\"63.623047\" xlink:href=\"#DejaVuSans-2e\"/>\r\n     <use x=\"95.410156\" xlink:href=\"#DejaVuSans-30\"/>\r\n     <use x=\"159.033203\" xlink:href=\"#DejaVuSans-33\"/>\r\n     <use x=\"222.65625\" xlink:href=\"#DejaVuSans-37\"/>\r\n    </g>\r\n   </g>\r\n   <g id=\"text_159\">\r\n    <!-- 0.055 -->\r\n    <g style=\"fill:#ffffff;\" transform=\"translate(156.042188 326.328594)scale(0.1 -0.1)\">\r\n     <use xlink:href=\"#DejaVuSans-30\"/>\r\n     <use x=\"63.623047\" xlink:href=\"#DejaVuSans-2e\"/>\r\n     <use x=\"95.410156\" xlink:href=\"#DejaVuSans-30\"/>\r\n     <use x=\"159.033203\" xlink:href=\"#DejaVuSans-35\"/>\r\n     <use x=\"222.65625\" xlink:href=\"#DejaVuSans-35\"/>\r\n    </g>\r\n   </g>\r\n   <g id=\"text_160\">\r\n    <!-- 0.2 -->\r\n    <g style=\"fill:#ffffff;\" transform=\"translate(192.164688 326.328594)scale(0.1 -0.1)\">\r\n     <use xlink:href=\"#DejaVuSans-30\"/>\r\n     <use x=\"63.623047\" xlink:href=\"#DejaVuSans-2e\"/>\r\n     <use x=\"95.410156\" xlink:href=\"#DejaVuSans-32\"/>\r\n    </g>\r\n   </g>\r\n   <g id=\"text_161\">\r\n    <!-- 0.5 -->\r\n    <g style=\"fill:#ffffff;\" transform=\"translate(221.924688 326.328594)scale(0.1 -0.1)\">\r\n     <use xlink:href=\"#DejaVuSans-30\"/>\r\n     <use x=\"63.623047\" xlink:href=\"#DejaVuSans-2e\"/>\r\n     <use x=\"95.410156\" xlink:href=\"#DejaVuSans-35\"/>\r\n    </g>\r\n   </g>\r\n   <g id=\"text_162\">\r\n    <!-- 0.49 -->\r\n    <g style=\"fill:#ffffff;\" transform=\"translate(248.503438 326.328594)scale(0.1 -0.1)\">\r\n     <use xlink:href=\"#DejaVuSans-30\"/>\r\n     <use x=\"63.623047\" xlink:href=\"#DejaVuSans-2e\"/>\r\n     <use x=\"95.410156\" xlink:href=\"#DejaVuSans-34\"/>\r\n     <use x=\"159.033203\" xlink:href=\"#DejaVuSans-39\"/>\r\n    </g>\r\n   </g>\r\n   <g id=\"text_163\">\r\n    <!-- 0.1 -->\r\n    <g style=\"fill:#ffffff;\" transform=\"translate(281.444687 326.328594)scale(0.1 -0.1)\">\r\n     <use xlink:href=\"#DejaVuSans-30\"/>\r\n     <use x=\"63.623047\" xlink:href=\"#DejaVuSans-2e\"/>\r\n     <use x=\"95.410156\" xlink:href=\"#DejaVuSans-31\"/>\r\n    </g>\r\n   </g>\r\n   <g id=\"text_164\">\r\n    <!-- 0.01 -->\r\n    <g style=\"fill:#ffffff;\" transform=\"translate(308.023438 326.328594)scale(0.1 -0.1)\">\r\n     <use xlink:href=\"#DejaVuSans-30\"/>\r\n     <use x=\"63.623047\" xlink:href=\"#DejaVuSans-2e\"/>\r\n     <use x=\"95.410156\" xlink:href=\"#DejaVuSans-30\"/>\r\n     <use x=\"159.033203\" xlink:href=\"#DejaVuSans-31\"/>\r\n    </g>\r\n   </g>\r\n   <g id=\"text_165\">\r\n    <!-- 0.17 -->\r\n    <g style=\"fill:#ffffff;\" transform=\"translate(337.783438 326.328594)scale(0.1 -0.1)\">\r\n     <use xlink:href=\"#DejaVuSans-30\"/>\r\n     <use x=\"63.623047\" xlink:href=\"#DejaVuSans-2e\"/>\r\n     <use x=\"95.410156\" xlink:href=\"#DejaVuSans-31\"/>\r\n     <use x=\"159.033203\" xlink:href=\"#DejaVuSans-37\"/>\r\n    </g>\r\n   </g>\r\n   <g id=\"text_166\">\r\n    <!-- 0.54 -->\r\n    <g style=\"fill:#ffffff;\" transform=\"translate(367.543438 326.328594)scale(0.1 -0.1)\">\r\n     <use xlink:href=\"#DejaVuSans-30\"/>\r\n     <use x=\"63.623047\" xlink:href=\"#DejaVuSans-2e\"/>\r\n     <use x=\"95.410156\" xlink:href=\"#DejaVuSans-35\"/>\r\n     <use x=\"159.033203\" xlink:href=\"#DejaVuSans-34\"/>\r\n    </g>\r\n   </g>\r\n   <g id=\"text_167\">\r\n    <!-- 0.16 -->\r\n    <g style=\"fill:#ffffff;\" transform=\"translate(397.303438 326.328594)scale(0.1 -0.1)\">\r\n     <use xlink:href=\"#DejaVuSans-30\"/>\r\n     <use x=\"63.623047\" xlink:href=\"#DejaVuSans-2e\"/>\r\n     <use x=\"95.410156\" xlink:href=\"#DejaVuSans-31\"/>\r\n     <use x=\"159.033203\" xlink:href=\"#DejaVuSans-36\"/>\r\n    </g>\r\n   </g>\r\n   <g id=\"text_168\">\r\n    <!-- 1 -->\r\n    <g style=\"fill:#262626;\" transform=\"translate(435.015 326.328594)scale(0.1 -0.1)\">\r\n     <use xlink:href=\"#DejaVuSans-31\"/>\r\n    </g>\r\n   </g>\r\n  </g>\r\n  <g id=\"axes_2\">\r\n   <g id=\"patch_3\">\r\n    <path d=\"M 475.39625 337.159219 \r\nL 491.70425 337.159219 \r\nL 491.70425 10.999219 \r\nL 475.39625 10.999219 \r\nz\r\n\" style=\"fill:#ffffff;\"/>\r\n   </g>\r\n   <g id=\"patch_4\">\r\n    <path clip-path=\"url(#pc843d16531)\" d=\"M 475.39625 337.159219 \r\nL 475.39625 335.885156 \r\nL 475.39625 12.273281 \r\nL 475.39625 10.999219 \r\nL 491.70425 10.999219 \r\nL 491.70425 12.273281 \r\nL 491.70425 335.885156 \r\nL 491.70425 337.159219 \r\nL 491.70425 337.159219 \r\nz\r\n\" style=\"fill:#ffffff;stroke:#ffffff;stroke-linejoin:miter;stroke-width:0.01;\"/>\r\n   </g>\r\n   <image height=\"326\" id=\"image28c066a82e\" transform=\"scale(1 -1)translate(0 -326)\" width=\"17\" x=\"475\" xlink:href=\"data:image/png;base64,\r\niVBORw0KGgoAAAANSUhEUgAAABEAAAFGCAYAAACMkXQBAAAB30lEQVR4nO2cwY3DMAwEKUVpIv33mfxj/3YMDAiqgMVyuKQEOHfr9f58KzxnpQpVtQGNOmvlXiCRkjhhwG4NE8aJB6wlJwhY0RR7wBKxN01xq+6opjg30y5snitjwHqdqKZYsh5FdzETNkt3RGFjmMQSrtejB6yGCZQTBGx+Buytk/x0u3eYsGmYQFcG4ESzY6krAxBBHsOa7lCJBUQ061E0xUxie4HV5ET0QUTTYk9iVZsNEGFaHH8F7Ag2P6Ip1jARhU3EBBEZsI+IQEyA7niYTNjuRIgWm16PeT0ME9EUEyL7S4AlnEzYriILcZIbcb2oWzGByiFEgAlEyjGFDXgqnU2IiNYjUo4FLPWRCBGRMEHKocBqmAA3uilsQDme7kBgARmGCdSdWAMDO0z+DsWEcMIkNnfSDWx1A2sRIQoSMSG8eJxQYIEvTRBYiRMGbBHlDJOrCMREIiL68aSGyamdY5nEXg/EhPizNU/YVq+wmbozYJ9wQj38JOV0A0vE/hRzoSNgZ4qvTixMmKeFhYkIrGgAge6YNlur9WgC65niZom1gB0mDzkZsDcia71iERNYS3dMTJiw5TkZsDcixACa7h3NZjOFTTI71JXhASvJiafFIrDIP75rt9nynPwAVGcuS57S+TsAAAAASUVORK5CYII=\" y=\"-11\"/>\r\n   <g id=\"matplotlib.axis_3\"/>\r\n   <g id=\"matplotlib.axis_4\">\r\n    <g id=\"ytick_13\">\r\n     <g id=\"line2d_25\">\r\n      <defs>\r\n       <path d=\"M 0 0 \r\nL 3.5 0 \r\n\" id=\"m942fe6bb13\" style=\"stroke:#000000;stroke-width:0.8;\"/>\r\n      </defs>\r\n      <g>\r\n       <use style=\"stroke:#000000;stroke-width:0.8;\" x=\"491.70425\" xlink:href=\"#m942fe6bb13\" y=\"273.219168\"/>\r\n      </g>\r\n     </g>\r\n     <g id=\"text_169\">\r\n      <!-- 0.2 -->\r\n      <g transform=\"translate(498.70425 277.018386)scale(0.1 -0.1)\">\r\n       <use xlink:href=\"#DejaVuSans-30\"/>\r\n       <use x=\"63.623047\" xlink:href=\"#DejaVuSans-2e\"/>\r\n       <use x=\"95.410156\" xlink:href=\"#DejaVuSans-32\"/>\r\n      </g>\r\n     </g>\r\n    </g>\r\n    <g id=\"ytick_14\">\r\n     <g id=\"line2d_26\">\r\n      <g>\r\n       <use style=\"stroke:#000000;stroke-width:0.8;\" x=\"491.70425\" xlink:href=\"#m942fe6bb13\" y=\"207.66418\"/>\r\n      </g>\r\n     </g>\r\n     <g id=\"text_170\">\r\n      <!-- 0.4 -->\r\n      <g transform=\"translate(498.70425 211.463399)scale(0.1 -0.1)\">\r\n       <use xlink:href=\"#DejaVuSans-30\"/>\r\n       <use x=\"63.623047\" xlink:href=\"#DejaVuSans-2e\"/>\r\n       <use x=\"95.410156\" xlink:href=\"#DejaVuSans-34\"/>\r\n      </g>\r\n     </g>\r\n    </g>\r\n    <g id=\"ytick_15\">\r\n     <g id=\"line2d_27\">\r\n      <g>\r\n       <use style=\"stroke:#000000;stroke-width:0.8;\" x=\"491.70425\" xlink:href=\"#m942fe6bb13\" y=\"142.109193\"/>\r\n      </g>\r\n     </g>\r\n     <g id=\"text_171\">\r\n      <!-- 0.6 -->\r\n      <g transform=\"translate(498.70425 145.908412)scale(0.1 -0.1)\">\r\n       <use xlink:href=\"#DejaVuSans-30\"/>\r\n       <use x=\"63.623047\" xlink:href=\"#DejaVuSans-2e\"/>\r\n       <use x=\"95.410156\" xlink:href=\"#DejaVuSans-36\"/>\r\n      </g>\r\n     </g>\r\n    </g>\r\n    <g id=\"ytick_16\">\r\n     <g id=\"line2d_28\">\r\n      <g>\r\n       <use style=\"stroke:#000000;stroke-width:0.8;\" x=\"491.70425\" xlink:href=\"#m942fe6bb13\" y=\"76.554206\"/>\r\n      </g>\r\n     </g>\r\n     <g id=\"text_172\">\r\n      <!-- 0.8 -->\r\n      <g transform=\"translate(498.70425 80.353425)scale(0.1 -0.1)\">\r\n       <use xlink:href=\"#DejaVuSans-30\"/>\r\n       <use x=\"63.623047\" xlink:href=\"#DejaVuSans-2e\"/>\r\n       <use x=\"95.410156\" xlink:href=\"#DejaVuSans-38\"/>\r\n      </g>\r\n     </g>\r\n    </g>\r\n    <g id=\"ytick_17\">\r\n     <g id=\"line2d_29\">\r\n      <g>\r\n       <use style=\"stroke:#000000;stroke-width:0.8;\" x=\"491.70425\" xlink:href=\"#m942fe6bb13\" y=\"10.999219\"/>\r\n      </g>\r\n     </g>\r\n     <g id=\"text_173\">\r\n      <!-- 1.0 -->\r\n      <g transform=\"translate(498.70425 14.798438)scale(0.1 -0.1)\">\r\n       <use xlink:href=\"#DejaVuSans-31\"/>\r\n       <use x=\"63.623047\" xlink:href=\"#DejaVuSans-2e\"/>\r\n       <use x=\"95.410156\" xlink:href=\"#DejaVuSans-30\"/>\r\n      </g>\r\n     </g>\r\n    </g>\r\n   </g>\r\n   <g id=\"LineCollection_1\"/>\r\n   <g id=\"patch_5\">\r\n    <path d=\"M 475.39625 337.159219 \r\nL 475.39625 335.885156 \r\nL 475.39625 12.273281 \r\nL 475.39625 10.999219 \r\nL 491.70425 10.999219 \r\nL 491.70425 12.273281 \r\nL 491.70425 335.885156 \r\nL 491.70425 337.159219 \r\nz\r\n\" style=\"fill:none;\"/>\r\n   </g>\r\n  </g>\r\n </g>\r\n <defs>\r\n  <clipPath id=\"p26385fe748\">\r\n   <rect height=\"326.16\" width=\"357.12\" x=\"95.95625\" y=\"10.999219\"/>\r\n  </clipPath>\r\n  <clipPath id=\"pc843d16531\">\r\n   <rect height=\"326.16\" width=\"16.308\" x=\"475.39625\" y=\"10.999219\"/>\r\n  </clipPath>\r\n </defs>\r\n</svg>\r\n",
      "image/png": "[encoded data removed]"
     },
     "metadata": {
      "needs_background": "light"
     }
    }
   ],
   "metadata": {
    "execution": {
     "iopub.execute_input": "2021-02-25T12:19:03.070597Z",
     "iopub.status.busy": "2021-02-25T12:19:03.069970Z",
     "iopub.status.idle": "2021-02-25T12:19:04.888029Z",
     "shell.execute_reply": "2021-02-25T12:19:04.888567Z"
    },
    "papermill": {
     "duration": 1.874092,
     "end_time": "2021-02-25T12:19:04.888740",
     "exception": false,
     "start_time": "2021-02-25T12:19:03.014648",
     "status": "completed"
    },
    "tags": []
   }
  },
  {
   "cell_type": "markdown",
   "source": [
    "* huge correlation between `peri_text` and `length_text`\r\n",
    "\r\n",
    "* huge correlation between `comm_text` and `length_text`\r\n",
    "\r\n",
    "* huge correlation between `comm_text` and `peri_text`\r\n",
    "\r\n",
    "* huge correlation between `peri_test` and `num_words_text`\r\n",
    "\r\n",
    "...and so on"
   ],
   "metadata": {
    "papermill": {
     "duration": 0.05239,
     "end_time": "2021-02-25T12:19:04.994002",
     "exception": false,
     "start_time": "2021-02-25T12:19:04.941612",
     "status": "completed"
    },
    "tags": []
   }
  },
  {
   "cell_type": "markdown",
   "source": [
    "## How do they Interact with the Target?"
   ],
   "metadata": {
    "papermill": {
     "duration": 0.052854,
     "end_time": "2021-02-25T12:19:05.099936",
     "exception": false,
     "start_time": "2021-02-25T12:19:05.047082",
     "status": "completed"
    },
    "tags": []
   }
  },
  {
   "cell_type": "code",
   "execution_count": 30,
   "source": [
    "pd.concat([X_train_punct_len, y_train], axis=1).groupby('is_fake').mean()"
   ],
   "outputs": [
    {
     "output_type": "execute_result",
     "data": {
      "text/plain": [
       "         peri_title  comm_title  ques_title  excl_title  peri_text  comm_text  \\\n",
       "is_fake                                                                         \n",
       "0          0.443414    0.245659    0.005611    0.000709  20.736090  19.218133   \n",
       "1          0.091878    0.185900    0.063724    0.118584  20.071139  19.769667   \n",
       "\n",
       "         ques_text  excl_text  length_title  length_text  num_words_title  \\\n",
       "is_fake                                                                     \n",
       "0         0.092971   0.054755     64.667513  2365.246131         9.952451   \n",
       "1         1.056482   0.591009     93.281138  2429.592110        14.572298   \n",
       "\n",
       "         title_ratio  \n",
       "is_fake               \n",
       "0           0.048532  \n",
       "1           0.065802  "
      ],
      "text/html": [
       "<div>\n",
       "<style scoped>\n",
       "    .dataframe tbody tr th:only-of-type {\n",
       "        vertical-align: middle;\n",
       "    }\n",
       "\n",
       "    .dataframe tbody tr th {\n",
       "        vertical-align: top;\n",
       "    }\n",
       "\n",
       "    .dataframe thead th {\n",
       "        text-align: right;\n",
       "    }\n",
       "</style>\n",
       "<table border=\"1\" class=\"dataframe\">\n",
       "  <thead>\n",
       "    <tr style=\"text-align: right;\">\n",
       "      <th></th>\n",
       "      <th>peri_title</th>\n",
       "      <th>comm_title</th>\n",
       "      <th>ques_title</th>\n",
       "      <th>excl_title</th>\n",
       "      <th>peri_text</th>\n",
       "      <th>comm_text</th>\n",
       "      <th>ques_text</th>\n",
       "      <th>excl_text</th>\n",
       "      <th>length_title</th>\n",
       "      <th>length_text</th>\n",
       "      <th>num_words_title</th>\n",
       "      <th>title_ratio</th>\n",
       "    </tr>\n",
       "    <tr>\n",
       "      <th>is_fake</th>\n",
       "      <th></th>\n",
       "      <th></th>\n",
       "      <th></th>\n",
       "      <th></th>\n",
       "      <th></th>\n",
       "      <th></th>\n",
       "      <th></th>\n",
       "      <th></th>\n",
       "      <th></th>\n",
       "      <th></th>\n",
       "      <th></th>\n",
       "      <th></th>\n",
       "    </tr>\n",
       "  </thead>\n",
       "  <tbody>\n",
       "    <tr>\n",
       "      <th>0</th>\n",
       "      <td>0.443414</td>\n",
       "      <td>0.245659</td>\n",
       "      <td>0.005611</td>\n",
       "      <td>0.000709</td>\n",
       "      <td>20.736090</td>\n",
       "      <td>19.218133</td>\n",
       "      <td>0.092971</td>\n",
       "      <td>0.054755</td>\n",
       "      <td>64.667513</td>\n",
       "      <td>2365.246131</td>\n",
       "      <td>9.952451</td>\n",
       "      <td>0.048532</td>\n",
       "    </tr>\n",
       "    <tr>\n",
       "      <th>1</th>\n",
       "      <td>0.091878</td>\n",
       "      <td>0.185900</td>\n",
       "      <td>0.063724</td>\n",
       "      <td>0.118584</td>\n",
       "      <td>20.071139</td>\n",
       "      <td>19.769667</td>\n",
       "      <td>1.056482</td>\n",
       "      <td>0.591009</td>\n",
       "      <td>93.281138</td>\n",
       "      <td>2429.592110</td>\n",
       "      <td>14.572298</td>\n",
       "      <td>0.065802</td>\n",
       "    </tr>\n",
       "  </tbody>\n",
       "</table>\n",
       "</div>"
      ]
     },
     "metadata": {},
     "execution_count": 30
    }
   ],
   "metadata": {
    "execution": {
     "iopub.execute_input": "2021-02-25T12:19:05.214646Z",
     "iopub.status.busy": "2021-02-25T12:19:05.213231Z",
     "iopub.status.idle": "2021-02-25T12:19:05.236926Z",
     "shell.execute_reply": "2021-02-25T12:19:05.236352Z"
    },
    "papermill": {
     "duration": 0.084389,
     "end_time": "2021-02-25T12:19:05.237074",
     "exception": false,
     "start_time": "2021-02-25T12:19:05.152685",
     "status": "completed"
    },
    "tags": []
   }
  },
  {
   "cell_type": "markdown",
   "source": [
    "**Main Findings:**\r\n",
    "* Titles of Fake News contain ~4 times less `periods`\r\n",
    "\r\n",
    "* Titles of Fake News contain ~10 times more `question marks`\r\n",
    "\r\n",
    "* Titles of Fake News contain ~130 times more `exclamation marks` \r\n",
    "\r\n",
    "* Texts of Fake News contain ~10 times more `question marks` \r\n",
    "\r\n",
    "* Texts of Fake News contain ~10 times more `exclamation marks`\r\n",
    "\r\n",
    "* Titles of Fake News are 50% `longer`. The number of words seems to reflect that fact as well. -> The length of words in the titles of Fake News and real News don't seem to vary a lot.\r\n",
    "\r\n",
    "* $\\frac{len(title)}{len(title) + len(text)}$ is ~40% longer in Fake News\r\n",
    "\r\n",
    "* Let's ignore the high correlations we found above. A more elaborate approach would be to eliminate correlating features by dropping them or using dimensionality reduction like PCA"
   ],
   "metadata": {
    "papermill": {
     "duration": 0.052533,
     "end_time": "2021-02-25T12:19:05.342852",
     "exception": false,
     "start_time": "2021-02-25T12:19:05.290319",
     "status": "completed"
    },
    "tags": []
   }
  },
  {
   "cell_type": "markdown",
   "source": [
    "# A Simple Model based on Punctuation and Text Length\r\n",
    "RandomForest for our classification!"
   ],
   "metadata": {
    "papermill": {
     "duration": 0.052409,
     "end_time": "2021-02-25T12:19:05.448041",
     "exception": false,
     "start_time": "2021-02-25T12:19:05.395632",
     "status": "completed"
    },
    "tags": []
   }
  },
  {
   "cell_type": "code",
   "execution_count": 31,
   "source": [
    "from sklearn.model_selection import cross_val_predict\r\n",
    "from sklearn.metrics import f1_score\r\n",
    "from sklearn.metrics import accuracy_score\r\n",
    "from sklearn.ensemble import RandomForestClassifier\r\n",
    "rf = RandomForestClassifier(random_state=42)\r\n",
    "preds = cross_val_predict(rf, X_train_punct_len, y_train, cv=5)\r\n",
    "f1 = f1_score(y_true=y_train, y_pred=preds)\r\n",
    "acc = accuracy_score(y_true=y_train, y_pred=preds)\r\n",
    "print(f'f1: {f1}\\nacc: {acc}')"
   ],
   "outputs": [
    {
     "output_type": "stream",
     "name": "stdout",
     "text": [
      "f1: 0.9237802197802197\n",
      "acc: 0.9239295741693964\n"
     ]
    }
   ],
   "metadata": {
    "execution": {
     "iopub.execute_input": "2021-02-25T12:19:05.557038Z",
     "iopub.status.busy": "2021-02-25T12:19:05.556433Z",
     "iopub.status.idle": "2021-02-25T12:19:24.757974Z",
     "shell.execute_reply": "2021-02-25T12:19:24.757404Z"
    },
    "papermill": {
     "duration": 19.257192,
     "end_time": "2021-02-25T12:19:24.758125",
     "exception": false,
     "start_time": "2021-02-25T12:19:05.500933",
     "status": "completed"
    },
    "tags": []
   }
  },
  {
   "cell_type": "code",
   "execution_count": 32,
   "source": [
    "rf.fit(X_train_punct_len, y_train)\r\n",
    "pd.Series(rf.feature_importances_, \r\n",
    "          index=X_train_punct_len.columns).sort_values(ascending=False)"
   ],
   "outputs": [
    {
     "output_type": "execute_result",
     "data": {
      "text/plain": [
       "length_title       0.311736\n",
       "num_words_title    0.168124\n",
       "ques_text          0.110972\n",
       "title_ratio        0.093478\n",
       "length_text        0.086901\n",
       "excl_text          0.054821\n",
       "peri_text          0.051729\n",
       "comm_text          0.049232\n",
       "peri_title         0.035872\n",
       "excl_title         0.019800\n",
       "comm_title         0.011048\n",
       "ques_title         0.006287\n",
       "dtype: float64"
      ]
     },
     "metadata": {},
     "execution_count": 32
    }
   ],
   "metadata": {
    "execution": {
     "iopub.execute_input": "2021-02-25T12:19:24.980184Z",
     "iopub.status.busy": "2021-02-25T12:19:24.979077Z",
     "iopub.status.idle": "2021-02-25T12:19:29.723422Z",
     "shell.execute_reply": "2021-02-25T12:19:29.724162Z"
    },
    "papermill": {
     "duration": 4.805634,
     "end_time": "2021-02-25T12:19:29.724407",
     "exception": false,
     "start_time": "2021-02-25T12:19:24.918773",
     "status": "completed"
    },
    "tags": []
   }
  },
  {
   "cell_type": "markdown",
   "source": [
    "## Finetune the model"
   ],
   "metadata": {
    "papermill": {
     "duration": 0.053886,
     "end_time": "2021-02-25T12:19:29.954936",
     "exception": false,
     "start_time": "2021-02-25T12:19:29.901050",
     "status": "completed"
    },
    "tags": []
   }
  },
  {
   "cell_type": "code",
   "execution_count": 33,
   "source": [
    "from sklearn.model_selection import GridSearchCV\r\n",
    "params= {'n_estimators':[200, 300],\r\n",
    "        'criterion':['gini', 'entropy'],\r\n",
    "        'max_depth':[5, None],\r\n",
    "        'max_features':[2,5]}\r\n",
    "gscv = GridSearchCV(rf, params)\r\n",
    "gscv.fit(X_train_punct_len, y_train)\r\n",
    "gscv.best_params_"
   ],
   "outputs": [
    {
     "output_type": "execute_result",
     "data": {
      "text/plain": [
       "{'criterion': 'entropy',\n",
       " 'max_depth': None,\n",
       " 'max_features': 2,\n",
       " 'n_estimators': 200}"
      ]
     },
     "metadata": {},
     "execution_count": 33
    }
   ],
   "metadata": {
    "execution": {
     "iopub.execute_input": "2021-02-25T12:19:30.072562Z",
     "iopub.status.busy": "2021-02-25T12:19:30.071570Z",
     "iopub.status.idle": "2021-02-25T12:31:09.974559Z",
     "shell.execute_reply": "2021-02-25T12:31:09.975066Z"
    },
    "papermill": {
     "duration": 699.964964,
     "end_time": "2021-02-25T12:31:09.975244",
     "exception": false,
     "start_time": "2021-02-25T12:19:30.010280",
     "status": "completed"
    },
    "tags": []
   }
  },
  {
   "cell_type": "code",
   "execution_count": 34,
   "source": [
    "rf_tuned = RandomForestClassifier(criterion='entropy', max_depth=None, max_features=2, n_estimators=200, random_state=42)\r\n",
    "preds = cross_val_predict(rf_tuned, X_train_punct_len, y_train, cv=5)\r\n",
    "f1 = f1_score(y_true=y_train, y_pred=preds)\r\n",
    "acc = accuracy_score(y_true=y_train, y_pred=preds)\r\n",
    "print(f'f1: {f1}\\nacc: {acc}')"
   ],
   "outputs": [
    {
     "output_type": "stream",
     "name": "stdout",
     "text": [
      "f1: 0.9259910860896083\n",
      "acc: 0.9261815629386991\n"
     ]
    }
   ],
   "metadata": {
    "execution": {
     "iopub.execute_input": "2021-02-25T12:31:10.094966Z",
     "iopub.status.busy": "2021-02-25T12:31:10.094245Z",
     "iopub.status.idle": "2021-02-25T12:31:49.840869Z",
     "shell.execute_reply": "2021-02-25T12:31:49.841652Z"
    },
    "papermill": {
     "duration": 39.810602,
     "end_time": "2021-02-25T12:31:49.841901",
     "exception": false,
     "start_time": "2021-02-25T12:31:10.031299",
     "status": "completed"
    },
    "tags": []
   }
  },
  {
   "cell_type": "code",
   "execution_count": 36,
   "source": [
    "rf_tuned.fit(X_train_punct_len, y_train)\r\n",
    "pd.Series(rf_tuned.feature_importances_, \r\n",
    "          index=X_train_punct_len.columns).sort_values(ascending=False)"
   ],
   "outputs": [
    {
     "output_type": "execute_result",
     "data": {
      "text/plain": [
       "length_title       0.255847\n",
       "num_words_title    0.173495\n",
       "title_ratio        0.109974\n",
       "length_text        0.098700\n",
       "ques_text          0.097415\n",
       "peri_text          0.063516\n",
       "comm_text          0.063101\n",
       "excl_text          0.053339\n",
       "peri_title         0.038382\n",
       "excl_title         0.025276\n",
       "comm_title         0.012695\n",
       "ques_title         0.008262\n",
       "dtype: float64"
      ]
     },
     "metadata": {},
     "execution_count": 36
    }
   ],
   "metadata": {
    "execution": {
     "iopub.execute_input": "2021-02-25T12:31:49.962062Z",
     "iopub.status.busy": "2021-02-25T12:31:49.961431Z",
     "iopub.status.idle": "2021-02-25T12:31:59.732664Z",
     "shell.execute_reply": "2021-02-25T12:31:59.732005Z"
    },
    "papermill": {
     "duration": 9.834493,
     "end_time": "2021-02-25T12:31:59.732809",
     "exception": false,
     "start_time": "2021-02-25T12:31:49.898316",
     "status": "completed"
    },
    "tags": []
   }
  },
  {
   "cell_type": "markdown",
   "source": [
    "## Final Prediction on Test"
   ],
   "metadata": {
    "papermill": {
     "duration": 0.055737,
     "end_time": "2021-02-25T12:31:59.844793",
     "exception": false,
     "start_time": "2021-02-25T12:31:59.789056",
     "status": "completed"
    },
    "tags": []
   }
  },
  {
   "cell_type": "code",
   "execution_count": 37,
   "source": [
    "preds_test = rf_tuned.predict(X_test_punct_len) \r\n",
    "f1 = f1_score(y_true=y_test, y_pred=preds_test)\r\n",
    "acc = accuracy_score(y_true=y_test, y_pred=preds_test)\r\n",
    "print(f'f1: {f1}\\nacc: {acc}')"
   ],
   "outputs": [
    {
     "output_type": "stream",
     "name": "stdout",
     "text": [
      "f1: 0.9359690588740868\n",
      "acc: 0.933630289532294\n"
     ]
    }
   ],
   "metadata": {
    "execution": {
     "iopub.execute_input": "2021-02-25T12:31:59.965995Z",
     "iopub.status.busy": "2021-02-25T12:31:59.965345Z",
     "iopub.status.idle": "2021-02-25T12:32:00.347005Z",
     "shell.execute_reply": "2021-02-25T12:32:00.345358Z"
    },
    "papermill": {
     "duration": 0.445186,
     "end_time": "2021-02-25T12:32:00.347274",
     "exception": false,
     "start_time": "2021-02-25T12:31:59.902088",
     "status": "completed"
    },
    "tags": []
   }
  },
  {
   "cell_type": "code",
   "execution_count": 38,
   "source": [
    "forest = RandomForestClassifier(random_state=42)\r\n",
    "\r\n",
    "best_column = 'all'\r\n",
    "best_score = 0\r\n",
    "for column in X_train_punct_len.columns:\r\n",
    "    forest.fit(X_train_punct_len[column].values.reshape((-1,1)), y_train)\r\n",
    "    preds = cross_val_predict(forest, X_train_punct_len[column].values.reshape((-1,1)), y_train, cv=5)\r\n",
    "    f1 = f1_score(y_true=y_train, y_pred=preds)\r\n",
    "    \r\n",
    "    if(f1>best_score):\r\n",
    "        best_score = f1\r\n",
    "        best_column = column\r\n",
    "\r\n",
    "print(f'A default RandomForest already obtains an f1-score of {f1} on validation data when trained solely on the column {column}')"
   ],
   "outputs": [
    {
     "output_type": "stream",
     "name": "stdout",
     "text": [
      "A default RandomForest already obtains an f1-score of 0.6726821565531244 on validation data when trained solely on the column title_ratio\n"
     ]
    }
   ],
   "metadata": {
    "execution": {
     "iopub.execute_input": "2021-02-25T12:32:00.697229Z",
     "iopub.status.busy": "2021-02-25T12:32:00.696137Z",
     "iopub.status.idle": "2021-02-25T12:33:45.869482Z",
     "shell.execute_reply": "2021-02-25T12:33:45.869990Z"
    },
    "papermill": {
     "duration": 105.238925,
     "end_time": "2021-02-25T12:33:45.870162",
     "exception": false,
     "start_time": "2021-02-25T12:32:00.631237",
     "status": "completed"
    },
    "tags": []
   }
  },
  {
   "cell_type": "code",
   "execution_count": 39,
   "source": [
    "forest = RandomForestClassifier(random_state=42)\r\n",
    "punctuation = ['peri_title', 'comm_title', 'ques_title', 'excl_title', 'peri_text', 'comm_text', 'ques_text', 'excl_text']\r\n",
    "lenght = ['length_title', 'length_text','num_words_title', 'title_ratio']\r\n",
    "\r\n",
    "\r\n",
    "forest.fit(X_train_punct_len[punctuation], y_train)\r\n",
    "preds = cross_val_predict(forest, X_train_punct_len[punctuation], y_train, cv=5)\r\n",
    "f1 = f1_score(y_true=y_train, y_pred=preds)\r\n",
    "print(f'A default RandomForest already obtains an f1-score of {f1} when trained solely on punctuation-based Features')\r\n",
    "print('The Feature Inportances in that approach are:')\r\n",
    "print(pd.Series(forest.feature_importances_, \r\n",
    "          index=punctuation).sort_values(ascending=False))\r\n",
    "\r\n",
    "forest.fit(X_train_punct_len[lenght], y_train)\r\n",
    "preds = cross_val_predict(forest, X_train_punct_len[lenght], y_train, cv=5)\r\n",
    "f1 = f1_score(y_true=y_train, y_pred=preds)\r\n",
    "print(f'A default RandomForest already obtains an f1-score of {f1} when trained solely on length-based Features')\r\n",
    "print('The Feature Importances in that approach are:')\r\n",
    "print(pd.Series(forest.feature_importances_, \r\n",
    "          index=lenght).sort_values(ascending=False))"
   ],
   "outputs": [
    {
     "output_type": "stream",
     "name": "stdout",
     "text": [
      "A default RandomForest already obtains an f1-score of 0.7789332438778934 when trained solely on punctuation-based Features\n",
      "The Feature Inportances in that approach are:\n",
      "ques_text     0.270685\n",
      "comm_text     0.202262\n",
      "peri_text     0.197163\n",
      "excl_text     0.135968\n",
      "peri_title    0.084638\n",
      "excl_title    0.070547\n",
      "ques_title    0.024891\n",
      "comm_title    0.013846\n",
      "dtype: float64\n",
      "A default RandomForest already obtains an f1-score of 0.8606696768896968 when trained solely on length-based Features\n",
      "The Feature Importances in that approach are:\n",
      "length_title       0.413140\n",
      "title_ratio        0.213775\n",
      "length_text        0.197857\n",
      "num_words_title    0.175227\n",
      "dtype: float64\n"
     ]
    }
   ],
   "metadata": {
    "execution": {
     "iopub.execute_input": "2021-02-25T12:33:46.007509Z",
     "iopub.status.busy": "2021-02-25T12:33:46.006763Z",
     "iopub.status.idle": "2021-02-25T12:34:28.023937Z",
     "shell.execute_reply": "2021-02-25T12:34:28.024484Z"
    },
    "papermill": {
     "duration": 42.084003,
     "end_time": "2021-02-25T12:34:28.024662",
     "exception": false,
     "start_time": "2021-02-25T12:33:45.940659",
     "status": "completed"
    },
    "tags": []
   }
  },
  {
   "cell_type": "markdown",
   "source": [
    "The End"
   ],
   "metadata": {}
  },
  {
   "cell_type": "markdown",
   "source": [],
   "metadata": {}
  }
 ],
 "metadata": {
  "kernelspec": {
   "name": "python3",
   "display_name": "Python 3.8.10 64-bit ('Ritik': conda)"
  },
  "language_info": {
   "codemirror_mode": {
    "name": "ipython",
    "version": 3
   },
   "file_extension": ".py",
   "mimetype": "text/x-python",
   "name": "python",
   "nbconvert_exporter": "python",
   "pygments_lexer": "ipython3",
   "version": "3.8.10"
  },
  "papermill": {
   "default_parameters": {},
   "duration": 1079.99402,
   "end_time": "2021-02-25T12:34:29.008348",
   "environment_variables": {},
   "exception": null,
   "input_path": "__notebook__.ipynb",
   "output_path": "__notebook__.ipynb",
   "parameters": {},
   "start_time": "2021-02-25T12:16:29.014328",
   "version": "2.2.2"
  },
  "interpreter": {
   "hash": "29fec6205d63994313aed150001da1d45cf8f9b4e445c482f58097c2c2622829"
  }
 },
 "nbformat": 4,
 "nbformat_minor": 4
}